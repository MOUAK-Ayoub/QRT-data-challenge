{
 "cells": [
  {
   "cell_type": "code",
   "id": "initial_id",
   "metadata": {
    "collapsed": true,
    "ExecuteTime": {
     "end_time": "2024-07-02T00:56:59.417719Z",
     "start_time": "2024-07-02T00:56:57.500852Z"
    }
   },
   "source": [
    "import pandas as pd\n",
    "import numpy as np\n",
    "import matplotlib.pyplot as plt\n",
    "import itertools\n",
    "from sklearn.metrics import accuracy_score\n",
    "import operator\n",
    "from timeit import default_timer as timer\n",
    "from src.main import convert_to_one_hot\n",
    "from src.main import prepare_attribut_data, prepare_result_data\n",
    "from src.main import DRAW, HOME_WINS, AWAY_WINS\n"
   ],
   "outputs": [],
   "execution_count": 1
  },
  {
   "metadata": {
    "ExecuteTime": {
     "end_time": "2024-07-02T00:56:59.781817Z",
     "start_time": "2024-07-02T00:56:59.419157Z"
    }
   },
   "cell_type": "code",
   "source": [
    "\n",
    "train_path_away = '../data/Train_Data/train_away_team_statistics_df.csv'\n",
    "train_path_home = '../data/Train_Data/train_home_team_statistics_df.csv'\n",
    "train_path_result = '../data/Train_Data/Y_train.csv'\n",
    "df_attribut = prepare_attribut_data(train_path_away, train_path_home)\n",
    "df_result = prepare_result_data(train_path_result)"
   ],
   "id": "fd97cf601c017cf5",
   "outputs": [],
   "execution_count": 2
  },
  {
   "metadata": {
    "ExecuteTime": {
     "end_time": "2024-07-02T00:56:59.808629Z",
     "start_time": "2024-07-02T00:56:59.782826Z"
    }
   },
   "cell_type": "code",
   "source": "df_attribut.head()",
   "id": "445d0106754dbb7b",
   "outputs": [
    {
     "data": {
      "text/plain": [
       "   ID  HOME_TEAM_SHOTS_TOTAL_season_sum  HOME_TEAM_SHOTS_INSIDEBOX_season_sum  \\\n",
       "0   0                               3.0                                   2.0   \n",
       "1   1                               6.0                                   8.0   \n",
       "2   2                               4.0                                   2.0   \n",
       "3   3                               7.0                                   5.0   \n",
       "4   4                               3.0                                   3.0   \n",
       "\n",
       "   HOME_TEAM_SHOTS_OFF_TARGET_season_sum  \\\n",
       "0                                    5.0   \n",
       "1                                    3.0   \n",
       "2                                    5.0   \n",
       "3                                    5.0   \n",
       "4                                    2.0   \n",
       "\n",
       "   HOME_TEAM_SHOTS_ON_TARGET_season_sum  \\\n",
       "0                                   2.0   \n",
       "1                                   6.0   \n",
       "2                                   2.0   \n",
       "3                                   6.0   \n",
       "4                                   3.0   \n",
       "\n",
       "   HOME_TEAM_SHOTS_OUTSIDEBOX_season_sum  HOME_TEAM_PASSES_season_sum  \\\n",
       "0                                    1.0                          2.0   \n",
       "1                                    5.0                          8.0   \n",
       "2                                    8.0                          1.0   \n",
       "3                                    6.0                          9.0   \n",
       "4                                    4.0                          4.0   \n",
       "\n",
       "   HOME_TEAM_SUCCESSFUL_PASSES_season_sum  HOME_TEAM_SAVES_season_sum  \\\n",
       "0                                     2.0                         5.0   \n",
       "1                                     7.0                        10.0   \n",
       "2                                     1.0                         2.0   \n",
       "3                                     9.0                         2.0   \n",
       "4                                     3.0                         4.0   \n",
       "\n",
       "   HOME_TEAM_CORNERS_season_sum  ...  AWAY_TEAM_YELLOWCARDS_5_last_match_std  \\\n",
       "0                           3.0  ...                                     5.0   \n",
       "1                           6.0  ...                                     0.0   \n",
       "2                           2.0  ...                                     6.0   \n",
       "3                           2.0  ...                                     0.0   \n",
       "4                           4.0  ...                                     1.0   \n",
       "\n",
       "   AWAY_TEAM_REDCARDS_5_last_match_std  AWAY_TEAM_OFFSIDES_5_last_match_std  \\\n",
       "0                                  5.0                                  4.0   \n",
       "1                                  0.0                                  3.0   \n",
       "2                                 10.0                                  4.0   \n",
       "3                                  0.0                                  1.0   \n",
       "4                                  0.0                                  4.0   \n",
       "\n",
       "   AWAY_TEAM_ATTACKS_5_last_match_std  AWAY_TEAM_PENALTIES_5_last_match_std  \\\n",
       "0                                 0.0                                   6.0   \n",
       "1                                 1.0                                   8.0   \n",
       "2                                 4.0                                   0.0   \n",
       "3                                 2.0                                   0.0   \n",
       "4                                 4.0                                   9.0   \n",
       "\n",
       "   AWAY_TEAM_SUBSTITUTIONS_5_last_match_std  \\\n",
       "0                                       8.0   \n",
       "1                                       4.0   \n",
       "2                                       8.0   \n",
       "3                                       5.0   \n",
       "4                                       4.0   \n",
       "\n",
       "   AWAY_TEAM_BALL_SAFE_5_last_match_std  \\\n",
       "0                                   4.0   \n",
       "1                                  10.0   \n",
       "2                                   3.0   \n",
       "3                                   6.0   \n",
       "4                                   1.0   \n",
       "\n",
       "   AWAY_TEAM_DANGEROUS_ATTACKS_5_last_match_std  \\\n",
       "0                                           3.0   \n",
       "1                                           0.0   \n",
       "2                                           0.0   \n",
       "3                                           3.0   \n",
       "4                                           4.0   \n",
       "\n",
       "   AWAY_TEAM_INJURIES_5_last_match_std  AWAY_TEAM_GOALS_5_last_match_std  \n",
       "0                                  2.0                               3.0  \n",
       "1                                  5.0                               3.0  \n",
       "2                                  9.0                               6.0  \n",
       "3                                  0.0                               2.0  \n",
       "4                                  6.0                               5.0  \n",
       "\n",
       "[5 rows x 281 columns]"
      ],
      "text/html": [
       "<div>\n",
       "<style scoped>\n",
       "    .dataframe tbody tr th:only-of-type {\n",
       "        vertical-align: middle;\n",
       "    }\n",
       "\n",
       "    .dataframe tbody tr th {\n",
       "        vertical-align: top;\n",
       "    }\n",
       "\n",
       "    .dataframe thead th {\n",
       "        text-align: right;\n",
       "    }\n",
       "</style>\n",
       "<table border=\"1\" class=\"dataframe\">\n",
       "  <thead>\n",
       "    <tr style=\"text-align: right;\">\n",
       "      <th></th>\n",
       "      <th>ID</th>\n",
       "      <th>HOME_TEAM_SHOTS_TOTAL_season_sum</th>\n",
       "      <th>HOME_TEAM_SHOTS_INSIDEBOX_season_sum</th>\n",
       "      <th>HOME_TEAM_SHOTS_OFF_TARGET_season_sum</th>\n",
       "      <th>HOME_TEAM_SHOTS_ON_TARGET_season_sum</th>\n",
       "      <th>HOME_TEAM_SHOTS_OUTSIDEBOX_season_sum</th>\n",
       "      <th>HOME_TEAM_PASSES_season_sum</th>\n",
       "      <th>HOME_TEAM_SUCCESSFUL_PASSES_season_sum</th>\n",
       "      <th>HOME_TEAM_SAVES_season_sum</th>\n",
       "      <th>HOME_TEAM_CORNERS_season_sum</th>\n",
       "      <th>...</th>\n",
       "      <th>AWAY_TEAM_YELLOWCARDS_5_last_match_std</th>\n",
       "      <th>AWAY_TEAM_REDCARDS_5_last_match_std</th>\n",
       "      <th>AWAY_TEAM_OFFSIDES_5_last_match_std</th>\n",
       "      <th>AWAY_TEAM_ATTACKS_5_last_match_std</th>\n",
       "      <th>AWAY_TEAM_PENALTIES_5_last_match_std</th>\n",
       "      <th>AWAY_TEAM_SUBSTITUTIONS_5_last_match_std</th>\n",
       "      <th>AWAY_TEAM_BALL_SAFE_5_last_match_std</th>\n",
       "      <th>AWAY_TEAM_DANGEROUS_ATTACKS_5_last_match_std</th>\n",
       "      <th>AWAY_TEAM_INJURIES_5_last_match_std</th>\n",
       "      <th>AWAY_TEAM_GOALS_5_last_match_std</th>\n",
       "    </tr>\n",
       "  </thead>\n",
       "  <tbody>\n",
       "    <tr>\n",
       "      <th>0</th>\n",
       "      <td>0</td>\n",
       "      <td>3.0</td>\n",
       "      <td>2.0</td>\n",
       "      <td>5.0</td>\n",
       "      <td>2.0</td>\n",
       "      <td>1.0</td>\n",
       "      <td>2.0</td>\n",
       "      <td>2.0</td>\n",
       "      <td>5.0</td>\n",
       "      <td>3.0</td>\n",
       "      <td>...</td>\n",
       "      <td>5.0</td>\n",
       "      <td>5.0</td>\n",
       "      <td>4.0</td>\n",
       "      <td>0.0</td>\n",
       "      <td>6.0</td>\n",
       "      <td>8.0</td>\n",
       "      <td>4.0</td>\n",
       "      <td>3.0</td>\n",
       "      <td>2.0</td>\n",
       "      <td>3.0</td>\n",
       "    </tr>\n",
       "    <tr>\n",
       "      <th>1</th>\n",
       "      <td>1</td>\n",
       "      <td>6.0</td>\n",
       "      <td>8.0</td>\n",
       "      <td>3.0</td>\n",
       "      <td>6.0</td>\n",
       "      <td>5.0</td>\n",
       "      <td>8.0</td>\n",
       "      <td>7.0</td>\n",
       "      <td>10.0</td>\n",
       "      <td>6.0</td>\n",
       "      <td>...</td>\n",
       "      <td>0.0</td>\n",
       "      <td>0.0</td>\n",
       "      <td>3.0</td>\n",
       "      <td>1.0</td>\n",
       "      <td>8.0</td>\n",
       "      <td>4.0</td>\n",
       "      <td>10.0</td>\n",
       "      <td>0.0</td>\n",
       "      <td>5.0</td>\n",
       "      <td>3.0</td>\n",
       "    </tr>\n",
       "    <tr>\n",
       "      <th>2</th>\n",
       "      <td>2</td>\n",
       "      <td>4.0</td>\n",
       "      <td>2.0</td>\n",
       "      <td>5.0</td>\n",
       "      <td>2.0</td>\n",
       "      <td>8.0</td>\n",
       "      <td>1.0</td>\n",
       "      <td>1.0</td>\n",
       "      <td>2.0</td>\n",
       "      <td>2.0</td>\n",
       "      <td>...</td>\n",
       "      <td>6.0</td>\n",
       "      <td>10.0</td>\n",
       "      <td>4.0</td>\n",
       "      <td>4.0</td>\n",
       "      <td>0.0</td>\n",
       "      <td>8.0</td>\n",
       "      <td>3.0</td>\n",
       "      <td>0.0</td>\n",
       "      <td>9.0</td>\n",
       "      <td>6.0</td>\n",
       "    </tr>\n",
       "    <tr>\n",
       "      <th>3</th>\n",
       "      <td>3</td>\n",
       "      <td>7.0</td>\n",
       "      <td>5.0</td>\n",
       "      <td>5.0</td>\n",
       "      <td>6.0</td>\n",
       "      <td>6.0</td>\n",
       "      <td>9.0</td>\n",
       "      <td>9.0</td>\n",
       "      <td>2.0</td>\n",
       "      <td>2.0</td>\n",
       "      <td>...</td>\n",
       "      <td>0.0</td>\n",
       "      <td>0.0</td>\n",
       "      <td>1.0</td>\n",
       "      <td>2.0</td>\n",
       "      <td>0.0</td>\n",
       "      <td>5.0</td>\n",
       "      <td>6.0</td>\n",
       "      <td>3.0</td>\n",
       "      <td>0.0</td>\n",
       "      <td>2.0</td>\n",
       "    </tr>\n",
       "    <tr>\n",
       "      <th>4</th>\n",
       "      <td>4</td>\n",
       "      <td>3.0</td>\n",
       "      <td>3.0</td>\n",
       "      <td>2.0</td>\n",
       "      <td>3.0</td>\n",
       "      <td>4.0</td>\n",
       "      <td>4.0</td>\n",
       "      <td>3.0</td>\n",
       "      <td>4.0</td>\n",
       "      <td>4.0</td>\n",
       "      <td>...</td>\n",
       "      <td>1.0</td>\n",
       "      <td>0.0</td>\n",
       "      <td>4.0</td>\n",
       "      <td>4.0</td>\n",
       "      <td>9.0</td>\n",
       "      <td>4.0</td>\n",
       "      <td>1.0</td>\n",
       "      <td>4.0</td>\n",
       "      <td>6.0</td>\n",
       "      <td>5.0</td>\n",
       "    </tr>\n",
       "  </tbody>\n",
       "</table>\n",
       "<p>5 rows × 281 columns</p>\n",
       "</div>"
      ]
     },
     "execution_count": 3,
     "metadata": {},
     "output_type": "execute_result"
    }
   ],
   "execution_count": 3
  },
  {
   "metadata": {
    "ExecuteTime": {
     "end_time": "2024-07-02T00:56:59.817544Z",
     "start_time": "2024-07-02T00:56:59.810637Z"
    }
   },
   "cell_type": "code",
   "source": "df_result.head()",
   "id": "936aeb030361b46f",
   "outputs": [
    {
     "data": {
      "text/plain": [
       "   result\n",
       "0      -2\n",
       "1      -1\n",
       "2      -2\n",
       "3       1\n",
       "4      -1"
      ],
      "text/html": [
       "<div>\n",
       "<style scoped>\n",
       "    .dataframe tbody tr th:only-of-type {\n",
       "        vertical-align: middle;\n",
       "    }\n",
       "\n",
       "    .dataframe tbody tr th {\n",
       "        vertical-align: top;\n",
       "    }\n",
       "\n",
       "    .dataframe thead th {\n",
       "        text-align: right;\n",
       "    }\n",
       "</style>\n",
       "<table border=\"1\" class=\"dataframe\">\n",
       "  <thead>\n",
       "    <tr style=\"text-align: right;\">\n",
       "      <th></th>\n",
       "      <th>result</th>\n",
       "    </tr>\n",
       "  </thead>\n",
       "  <tbody>\n",
       "    <tr>\n",
       "      <th>0</th>\n",
       "      <td>-2</td>\n",
       "    </tr>\n",
       "    <tr>\n",
       "      <th>1</th>\n",
       "      <td>-1</td>\n",
       "    </tr>\n",
       "    <tr>\n",
       "      <th>2</th>\n",
       "      <td>-2</td>\n",
       "    </tr>\n",
       "    <tr>\n",
       "      <th>3</th>\n",
       "      <td>1</td>\n",
       "    </tr>\n",
       "    <tr>\n",
       "      <th>4</th>\n",
       "      <td>-1</td>\n",
       "    </tr>\n",
       "  </tbody>\n",
       "</table>\n",
       "</div>"
      ]
     },
     "execution_count": 4,
     "metadata": {},
     "output_type": "execute_result"
    }
   ],
   "execution_count": 4
  },
  {
   "metadata": {
    "ExecuteTime": {
     "end_time": "2024-07-02T00:56:59.864660Z",
     "start_time": "2024-07-02T00:56:59.820555Z"
    }
   },
   "cell_type": "code",
   "source": [
    "from sklearn.model_selection import train_test_split\n",
    "\n",
    "attribut_train, attribut_test, result_train, result_test = train_test_split(df_attribut, df_result, test_size=0.1,\n",
    "                                                                            random_state=10)\n"
   ],
   "id": "3e4f6c2128e448d5",
   "outputs": [],
   "execution_count": 5
  },
  {
   "metadata": {
    "ExecuteTime": {
     "end_time": "2024-07-02T00:56:59.872988Z",
     "start_time": "2024-07-02T00:56:59.865705Z"
    }
   },
   "cell_type": "code",
   "source": "result_test",
   "id": "8e5dae6ea5f19d6e",
   "outputs": [
    {
     "data": {
      "text/plain": [
       "       result\n",
       "11028       1\n",
       "10284      -2\n",
       "10177       1\n",
       "7139        1\n",
       "937        -2\n",
       "...       ...\n",
       "10569       1\n",
       "10359       1\n",
       "745        -2\n",
       "10906      -1\n",
       "3547       -2\n",
       "\n",
       "[1231 rows x 1 columns]"
      ],
      "text/html": [
       "<div>\n",
       "<style scoped>\n",
       "    .dataframe tbody tr th:only-of-type {\n",
       "        vertical-align: middle;\n",
       "    }\n",
       "\n",
       "    .dataframe tbody tr th {\n",
       "        vertical-align: top;\n",
       "    }\n",
       "\n",
       "    .dataframe thead th {\n",
       "        text-align: right;\n",
       "    }\n",
       "</style>\n",
       "<table border=\"1\" class=\"dataframe\">\n",
       "  <thead>\n",
       "    <tr style=\"text-align: right;\">\n",
       "      <th></th>\n",
       "      <th>result</th>\n",
       "    </tr>\n",
       "  </thead>\n",
       "  <tbody>\n",
       "    <tr>\n",
       "      <th>11028</th>\n",
       "      <td>1</td>\n",
       "    </tr>\n",
       "    <tr>\n",
       "      <th>10284</th>\n",
       "      <td>-2</td>\n",
       "    </tr>\n",
       "    <tr>\n",
       "      <th>10177</th>\n",
       "      <td>1</td>\n",
       "    </tr>\n",
       "    <tr>\n",
       "      <th>7139</th>\n",
       "      <td>1</td>\n",
       "    </tr>\n",
       "    <tr>\n",
       "      <th>937</th>\n",
       "      <td>-2</td>\n",
       "    </tr>\n",
       "    <tr>\n",
       "      <th>...</th>\n",
       "      <td>...</td>\n",
       "    </tr>\n",
       "    <tr>\n",
       "      <th>10569</th>\n",
       "      <td>1</td>\n",
       "    </tr>\n",
       "    <tr>\n",
       "      <th>10359</th>\n",
       "      <td>1</td>\n",
       "    </tr>\n",
       "    <tr>\n",
       "      <th>745</th>\n",
       "      <td>-2</td>\n",
       "    </tr>\n",
       "    <tr>\n",
       "      <th>10906</th>\n",
       "      <td>-1</td>\n",
       "    </tr>\n",
       "    <tr>\n",
       "      <th>3547</th>\n",
       "      <td>-2</td>\n",
       "    </tr>\n",
       "  </tbody>\n",
       "</table>\n",
       "<p>1231 rows × 1 columns</p>\n",
       "</div>"
      ]
     },
     "execution_count": 6,
     "metadata": {},
     "output_type": "execute_result"
    }
   ],
   "execution_count": 6
  },
  {
   "metadata": {
    "ExecuteTime": {
     "end_time": "2024-07-02T00:56:59.885766Z",
     "start_time": "2024-07-02T00:56:59.873996Z"
    }
   },
   "cell_type": "code",
   "source": [
    "min_index=0\n",
    "max_index=20\n",
    "column_1=attribut_test.columns[1]\n",
    "column_2=attribut_test.columns[141]\n",
    "attribut_test.loc[(result_test == DRAW).values, column_1].iloc[min_index:max_index]"
   ],
   "id": "7b4b98cc25f4436b",
   "outputs": [
    {
     "data": {
      "text/plain": [
       "5919      8.0\n",
       "7964      3.0\n",
       "9619      6.0\n",
       "10229     3.0\n",
       "10142     8.0\n",
       "8238      3.0\n",
       "196       3.0\n",
       "2707      3.0\n",
       "2315      6.0\n",
       "11739     5.0\n",
       "5392      3.0\n",
       "1789      2.0\n",
       "4903      0.0\n",
       "11631     1.0\n",
       "8282      1.0\n",
       "9049      1.0\n",
       "12231     5.0\n",
       "5277     10.0\n",
       "10493     5.0\n",
       "2167     10.0\n",
       "Name: HOME_TEAM_SHOTS_TOTAL_season_sum, dtype: float64"
      ]
     },
     "execution_count": 7,
     "metadata": {},
     "output_type": "execute_result"
    }
   ],
   "execution_count": 7
  },
  {
   "metadata": {
    "ExecuteTime": {
     "end_time": "2024-07-02T00:56:59.896154Z",
     "start_time": "2024-07-02T00:56:59.886777Z"
    }
   },
   "cell_type": "code",
   "source": "attribut_test.loc[(result_test == DRAW).values, column_2].iloc[min_index:max_index]\n",
   "id": "e04fab3084212d81",
   "outputs": [
    {
     "data": {
      "text/plain": [
       "5919     10.0\n",
       "7964      0.0\n",
       "9619     10.0\n",
       "10229     7.0\n",
       "10142     5.0\n",
       "8238      5.0\n",
       "196       8.0\n",
       "2707      0.0\n",
       "2315      3.0\n",
       "11739     9.0\n",
       "5392      6.0\n",
       "1789      8.0\n",
       "4903      8.0\n",
       "11631     6.0\n",
       "8282      4.0\n",
       "9049      4.0\n",
       "12231     8.0\n",
       "5277      4.0\n",
       "10493     6.0\n",
       "2167      5.0\n",
       "Name: AWAY_TEAM_SHOTS_TOTAL_season_sum, dtype: float64"
      ]
     },
     "execution_count": 8,
     "metadata": {},
     "output_type": "execute_result"
    }
   ],
   "execution_count": 8
  },
  {
   "metadata": {
    "ExecuteTime": {
     "end_time": "2024-07-02T01:03:13.106038Z",
     "start_time": "2024-07-02T01:03:12.349439Z"
    }
   },
   "cell_type": "code",
   "source": [
    "\n",
    "min_index=0\n",
    "max_index=10000\n",
    "for i in [1,2,3,4]:   \n",
    "\n",
    "    column_1=attribut_test.columns[i]\n",
    "    column_2=attribut_test.columns[i+140]\n",
    "    plt.figure(figsize=(16, 10))\n",
    "    plt.scatter(attribut_test.loc[(result_test == DRAW).values, column_1].iloc[min_index:max_index], attribut_test.loc[(result_test == DRAW).values, column_2].iloc[min_index:max_index], label=\"DRAW\", color='gray')\n",
    "\n",
    "    plt.xlabel(column_1)\n",
    "    plt.ylabel(column_2)\n",
    "    plt.title(\"Train Set\")\n",
    "    plt.legend()\n",
    "    plt.show()"
   ],
   "id": "cfb09828c9302d6f",
   "outputs": [
    {
     "data": {
      "text/plain": [
       "<Figure size 1600x1000 with 1 Axes>"
      ],
      "image/png": "[encoded data removed]"
     },
     "metadata": {},
     "output_type": "display_data"
    },
    {
     "data": {
      "text/plain": [
       "<Figure size 1600x1000 with 1 Axes>"
      ],
      "image/png": "[encoded data removed]"
     },
     "metadata": {},
     "output_type": "display_data"
    },
    {
     "data": {
      "text/plain": [
       "<Figure size 1600x1000 with 1 Axes>"
      ],
      "image/png": "[encoded data removed]"
     },
     "metadata": {},
     "output_type": "display_data"
    },
    {
     "data": {
      "text/plain": [
       "<Figure size 1600x1000 with 1 Axes>"
      ],
      "image/png": "[encoded data removed]"
     },
     "metadata": {},
     "output_type": "display_data"
    }
   ],
   "execution_count": 27
  },
  {
   "metadata": {
    "ExecuteTime": {
     "end_time": "2024-07-02T00:57:25.931644Z",
     "start_time": "2024-07-02T00:57:00.448458Z"
    }
   },
   "cell_type": "code",
   "source": [
    "from sklearn.linear_model import LogisticRegression\n",
    "\n",
    "from sklearn.linear_model import LogisticRegression\n",
    "\n",
    "max_iter_list = [1500]\n",
    "solver_list = ['lbfgs']  # sag and saga take a lot of time\n",
    "regularization_factor_list = [ 0.1, 0.0005]\n",
    "accuracy_dict = {}\n",
    "time_dict = {}\n",
    "LR_dict = {}\n",
    "for max_iter in max_iter_list:\n",
    "    for solver in solver_list:\n",
    "        for regularization_factor in regularization_factor_list:\n",
    "            start = timer()\n",
    "\n",
    "            LR = LogisticRegression(max_iter=max_iter, solver=solver, C=regularization_factor)\n",
    "            LR.fit(attribut_train,result_train)\n",
    "            yhat = LR.predict(attribut_test)\n",
    "            accuracy = np.round(accuracy_score(result_test, yhat), 4)\n",
    "            key = f'solver_{solver}_iter_{max_iter}_C_{regularization_factor}'\n",
    "            accuracy_dict[key] = accuracy\n",
    "            LR_dict[key] = LR\n",
    "\n",
    "            end = timer()\n",
    "            print(f'for this hyperparam {key} the training took ')\n",
    "\n",
    "            delta = end - start\n",
    "            minutes = round(delta // 60)\n",
    "            delta %= 60\n",
    "            seconds = round(delta)\n",
    "            time_str = f\"{minutes:02d}m{seconds:02d}s\"\n",
    "            time_dict[key] = time_str\n",
    "            print(time_str)\n",
    "\n"
   ],
   "id": "213dc7eca8e0fe7e",
   "outputs": [
    {
     "name": "stderr",
     "output_type": "stream",
     "text": [
      "C:\\Users\\pc\\AppData\\Local\\Programs\\Python\\Python312\\Lib\\site-packages\\sklearn\\utils\\validation.py:1310: DataConversionWarning: A column-vector y was passed when a 1d array was expected. Please change the shape of y to (n_samples, ), for example using ravel().\n",
      "  y = column_or_1d(y, warn=True)\n",
      "C:\\Users\\pc\\AppData\\Local\\Programs\\Python\\Python312\\Lib\\site-packages\\sklearn\\linear_model\\_logistic.py:469: ConvergenceWarning: lbfgs failed to converge (status=1):\n",
      "STOP: TOTAL NO. of ITERATIONS REACHED LIMIT.\n",
      "\n",
      "Increase the number of iterations (max_iter) or scale the data as shown in:\n",
      "    https://scikit-learn.org/stable/modules/preprocessing.html\n",
      "Please also refer to the documentation for alternative solver options:\n",
      "    https://scikit-learn.org/stable/modules/linear_model.html#logistic-regression\n",
      "  n_iter_i = _check_optimize_result(\n",
      "C:\\Users\\pc\\AppData\\Local\\Programs\\Python\\Python312\\Lib\\site-packages\\sklearn\\utils\\validation.py:1310: DataConversionWarning: A column-vector y was passed when a 1d array was expected. Please change the shape of y to (n_samples, ), for example using ravel().\n",
      "  y = column_or_1d(y, warn=True)\n"
     ]
    },
    {
     "name": "stdout",
     "output_type": "stream",
     "text": [
      "for this hyperparam solver_lbfgs_iter_1500_C_0.1 the training took \n",
      "00m13s\n",
      "for this hyperparam solver_lbfgs_iter_1500_C_0.0005 the training took \n",
      "00m12s\n"
     ]
    },
    {
     "name": "stderr",
     "output_type": "stream",
     "text": [
      "C:\\Users\\pc\\AppData\\Local\\Programs\\Python\\Python312\\Lib\\site-packages\\sklearn\\linear_model\\_logistic.py:469: ConvergenceWarning: lbfgs failed to converge (status=1):\n",
      "STOP: TOTAL NO. of ITERATIONS REACHED LIMIT.\n",
      "\n",
      "Increase the number of iterations (max_iter) or scale the data as shown in:\n",
      "    https://scikit-learn.org/stable/modules/preprocessing.html\n",
      "Please also refer to the documentation for alternative solver options:\n",
      "    https://scikit-learn.org/stable/modules/linear_model.html#logistic-regression\n",
      "  n_iter_i = _check_optimize_result(\n"
     ]
    }
   ],
   "execution_count": 10
  },
  {
   "metadata": {
    "ExecuteTime": {
     "end_time": "2024-07-02T00:57:25.939014Z",
     "start_time": "2024-07-02T00:57:25.932654Z"
    }
   },
   "cell_type": "code",
   "source": "accuracy_dict",
   "id": "f709831d395b7177",
   "outputs": [
    {
     "data": {
      "text/plain": [
       "{'solver_lbfgs_iter_1500_C_0.1': 0.4712,\n",
       " 'solver_lbfgs_iter_1500_C_0.0005': 0.4752}"
      ]
     },
     "execution_count": 11,
     "metadata": {},
     "output_type": "execute_result"
    }
   ],
   "execution_count": 11
  },
  {
   "metadata": {
    "ExecuteTime": {
     "end_time": "2024-07-02T00:57:25.951455Z",
     "start_time": "2024-07-02T00:57:25.940022Z"
    }
   },
   "cell_type": "code",
   "source": [
    "max_accuracy = max(accuracy_dict.items(), key=operator.itemgetter(1))\n",
    "LR_best = LR_dict[max_accuracy[0]]"
   ],
   "id": "61474f3ec6e33d54",
   "outputs": [],
   "execution_count": 12
  },
  {
   "metadata": {
    "ExecuteTime": {
     "end_time": "2024-07-02T00:57:25.962509Z",
     "start_time": "2024-07-02T00:57:25.953463Z"
    }
   },
   "cell_type": "code",
   "source": "time_dict",
   "id": "930bf8b66131e1e2",
   "outputs": [
    {
     "data": {
      "text/plain": [
       "{'solver_lbfgs_iter_1500_C_0.1': '00m13s',\n",
       " 'solver_lbfgs_iter_1500_C_0.0005': '00m12s'}"
      ]
     },
     "execution_count": 13,
     "metadata": {},
     "output_type": "execute_result"
    }
   ],
   "execution_count": 13
  },
  {
   "metadata": {
    "ExecuteTime": {
     "end_time": "2024-07-02T00:57:25.974105Z",
     "start_time": "2024-07-02T00:57:25.967518Z"
    }
   },
   "cell_type": "code",
   "source": "max_accuracy",
   "id": "22242ec5d140149",
   "execution_count": 14,
   "outputs": [
    {
     "data": {
      "text/plain": [
       "('solver_lbfgs_iter_1500_C_0.0005', 0.4752)"
      ]
     },
     "execution_count": 14,
     "metadata": {},
     "output_type": "execute_result"
    }
   ]
  },
  {
   "metadata": {
    "ExecuteTime": {
     "end_time": "2024-07-02T00:57:25.993046Z",
     "start_time": "2024-07-02T00:57:25.975115Z"
    }
   },
   "cell_type": "code",
   "source": [
    "yhat = LR_best.predict(attribut_test)\n",
    "np.round(accuracy_score(result_test, yhat), 4)"
   ],
   "id": "b5b2bb58e4b984fd",
   "outputs": [
    {
     "data": {
      "text/plain": [
       "0.4752"
      ]
     },
     "execution_count": 15,
     "metadata": {},
     "output_type": "execute_result"
    }
   ],
   "execution_count": 15
  },
  {
   "metadata": {
    "ExecuteTime": {
     "end_time": "2024-07-02T00:57:26.001615Z",
     "start_time": "2024-07-02T00:57:25.994056Z"
    }
   },
   "cell_type": "code",
   "source": "yhat",
   "id": "3ed3eab92f32fdf7",
   "outputs": [
    {
     "data": {
      "text/plain": [
       "array([ 1,  1, -2, ..., -2, -2,  1])"
      ]
     },
     "execution_count": 16,
     "metadata": {},
     "output_type": "execute_result"
    }
   ],
   "execution_count": 16
  },
  {
   "metadata": {
    "ExecuteTime": {
     "end_time": "2024-07-02T00:57:26.225565Z",
     "start_time": "2024-07-02T00:57:26.003625Z"
    }
   },
   "cell_type": "code",
   "source": [
    "from sklearn.metrics import confusion_matrix, ConfusionMatrixDisplay\n",
    "\n",
    "cm = confusion_matrix(result_test, yhat)\n",
    "disp = ConfusionMatrixDisplay(confusion_matrix=cm,\n",
    "                              display_labels=[-2, -1, 1], )\n",
    "disp.plot(cmap=\"Blues\")"
   ],
   "id": "22c5519cd14097fe",
   "outputs": [
    {
     "data": {
      "text/plain": [
       "<sklearn.metrics._plot.confusion_matrix.ConfusionMatrixDisplay at 0x12725e9e990>"
      ]
     },
     "execution_count": 17,
     "metadata": {},
     "output_type": "execute_result"
    },
    {
     "data": {
      "text/plain": [
       "<Figure size 640x480 with 2 Axes>"
      ],
      "image/png": "[encoded data removed]"
     },
     "metadata": {},
     "output_type": "display_data"
    }
   ],
   "execution_count": 17
  },
  {
   "metadata": {
    "ExecuteTime": {
     "end_time": "2024-07-02T00:57:27.076094Z",
     "start_time": "2024-07-02T00:57:26.226575Z"
    }
   },
   "cell_type": "code",
   "source": [
    "test_path_away = '../data/Test_Data/test_away_team_statistics_df.csv'\n",
    "test_path_home = '../data/Test_Data/test_home_team_statistics_df.csv'\n",
    "df_attribut_test = prepare_attribut_data(test_path_away, test_path_home,is_test=True)"
   ],
   "id": "75aafde0206d78fe",
   "outputs": [],
   "execution_count": 18
  },
  {
   "metadata": {
    "ExecuteTime": {
     "end_time": "2024-07-02T00:57:27.126845Z",
     "start_time": "2024-07-02T00:57:27.078107Z"
    }
   },
   "cell_type": "code",
   "source": "df_attribut_test",
   "id": "7638a3e0d2c633b1",
   "outputs": [
    {
     "data": {
      "text/plain": [
       "          ID  HOME_TEAM_SHOTS_TOTAL_season_sum  \\\n",
       "0      12303                               3.0   \n",
       "1      12304                               3.0   \n",
       "2      12305                               7.0   \n",
       "3      12306                               5.0   \n",
       "4      12307                               5.0   \n",
       "...      ...                               ...   \n",
       "25363  37666                               5.0   \n",
       "25364  37667                               5.0   \n",
       "25365  37668                              10.0   \n",
       "25366  37669                               4.0   \n",
       "25367  37670                               6.0   \n",
       "\n",
       "       HOME_TEAM_SHOTS_INSIDEBOX_season_sum  \\\n",
       "0                                       6.0   \n",
       "1                                       2.0   \n",
       "2                                      10.0   \n",
       "3                                       7.0   \n",
       "4                                       4.0   \n",
       "...                                     ...   \n",
       "25363                                   5.0   \n",
       "25364                                   5.0   \n",
       "25365                                  10.0   \n",
       "25366                                   3.0   \n",
       "25367                                   8.0   \n",
       "\n",
       "       HOME_TEAM_SHOTS_OFF_TARGET_season_sum  \\\n",
       "0                                        5.0   \n",
       "1                                        4.0   \n",
       "2                                        8.0   \n",
       "3                                        5.0   \n",
       "4                                        6.0   \n",
       "...                                      ...   \n",
       "25363                                    5.0   \n",
       "25364                                    2.0   \n",
       "25365                                   10.0   \n",
       "25366                                    5.0   \n",
       "25367                                    8.0   \n",
       "\n",
       "       HOME_TEAM_SHOTS_ON_TARGET_season_sum  \\\n",
       "0                                       1.0   \n",
       "1                                       2.0   \n",
       "2                                       8.0   \n",
       "3                                       9.0   \n",
       "4                                       3.0   \n",
       "...                                     ...   \n",
       "25363                                   5.0   \n",
       "25364                                   8.0   \n",
       "25365                                   8.0   \n",
       "25366                                   3.0   \n",
       "25367                                   4.0   \n",
       "\n",
       "       HOME_TEAM_SHOTS_OUTSIDEBOX_season_sum  HOME_TEAM_PASSES_season_sum  \\\n",
       "0                                        3.0                          9.0   \n",
       "1                                        6.0                          1.0   \n",
       "2                                        1.0                          4.0   \n",
       "3                                        5.0                          7.0   \n",
       "4                                        5.0                          0.0   \n",
       "...                                      ...                          ...   \n",
       "25363                                    7.0                          6.0   \n",
       "25364                                    3.0                          7.0   \n",
       "25365                                    8.0                          5.0   \n",
       "25366                                    7.0                          7.0   \n",
       "25367                                    4.0                          2.0   \n",
       "\n",
       "       HOME_TEAM_SUCCESSFUL_PASSES_season_sum  HOME_TEAM_SAVES_season_sum  \\\n",
       "0                                         8.0                        10.0   \n",
       "1                                         1.0                         2.0   \n",
       "2                                         5.0                         0.0   \n",
       "3                                         6.0                         3.0   \n",
       "4                                         0.0                         2.0   \n",
       "...                                       ...                         ...   \n",
       "25363                                     6.0                         4.0   \n",
       "25364                                     7.0                         2.0   \n",
       "25365                                     5.0                         2.0   \n",
       "25366                                     7.0                         0.0   \n",
       "25367                                     2.0                         5.0   \n",
       "\n",
       "       HOME_TEAM_CORNERS_season_sum  ...  \\\n",
       "0                               6.0  ...   \n",
       "1                               4.0  ...   \n",
       "2                              10.0  ...   \n",
       "3                               5.0  ...   \n",
       "4                               2.0  ...   \n",
       "...                             ...  ...   \n",
       "25363                           6.0  ...   \n",
       "25364                           2.0  ...   \n",
       "25365                           6.0  ...   \n",
       "25366                           4.0  ...   \n",
       "25367                           5.0  ...   \n",
       "\n",
       "       AWAY_TEAM_YELLOWCARDS_5_last_match_std  \\\n",
       "0                                         6.0   \n",
       "1                                         0.0   \n",
       "2                                        10.0   \n",
       "3                                         1.0   \n",
       "4                                         3.0   \n",
       "...                                       ...   \n",
       "25363                                     5.0   \n",
       "25364                                     5.0   \n",
       "25365                                     4.0   \n",
       "25366                                     6.0   \n",
       "25367                                     5.0   \n",
       "\n",
       "       AWAY_TEAM_REDCARDS_5_last_match_std  \\\n",
       "0                                      0.0   \n",
       "1                                      0.0   \n",
       "2                                      0.0   \n",
       "3                                      5.0   \n",
       "4                                      0.0   \n",
       "...                                    ...   \n",
       "25363                                  0.0   \n",
       "25364                                  5.0   \n",
       "25365                                  0.0   \n",
       "25366                                  0.0   \n",
       "25367                                 10.0   \n",
       "\n",
       "       AWAY_TEAM_OFFSIDES_5_last_match_std  \\\n",
       "0                                      1.0   \n",
       "1                                      3.0   \n",
       "2                                      0.0   \n",
       "3                                      4.0   \n",
       "4                                      6.0   \n",
       "...                                    ...   \n",
       "25363                                  5.0   \n",
       "25364                                  6.0   \n",
       "25365                                  0.0   \n",
       "25366                                 10.0   \n",
       "25367                                  4.0   \n",
       "\n",
       "       AWAY_TEAM_ATTACKS_5_last_match_std  \\\n",
       "0                                     4.0   \n",
       "1                                     6.0   \n",
       "2                                     2.0   \n",
       "3                                     5.0   \n",
       "4                                     5.0   \n",
       "...                                   ...   \n",
       "25363                                 4.0   \n",
       "25364                                 6.0   \n",
       "25365                                 5.0   \n",
       "25366                                 4.0   \n",
       "25367                                 7.0   \n",
       "\n",
       "       AWAY_TEAM_PENALTIES_5_last_match_std  \\\n",
       "0                                       0.0   \n",
       "1                                       8.0   \n",
       "2                                       0.0   \n",
       "3                                      10.0   \n",
       "4                                       0.0   \n",
       "...                                     ...   \n",
       "25363                                   5.0   \n",
       "25364                                   8.0   \n",
       "25365                                   0.0   \n",
       "25366                                   8.0   \n",
       "25367                                   5.0   \n",
       "\n",
       "       AWAY_TEAM_SUBSTITUTIONS_5_last_match_std  \\\n",
       "0                                           8.0   \n",
       "1                                           5.0   \n",
       "2                                           4.0   \n",
       "3                                           9.0   \n",
       "4                                           4.0   \n",
       "...                                         ...   \n",
       "25363                                       0.0   \n",
       "25364                                       0.0   \n",
       "25365                                       3.0   \n",
       "25366                                       6.0   \n",
       "25367                                       2.0   \n",
       "\n",
       "       AWAY_TEAM_BALL_SAFE_5_last_match_std  \\\n",
       "0                                       7.0   \n",
       "1                                       1.0   \n",
       "2                                       2.0   \n",
       "3                                       6.0   \n",
       "4                                       3.0   \n",
       "...                                     ...   \n",
       "25363                                   3.0   \n",
       "25364                                   3.0   \n",
       "25365                                   0.0   \n",
       "25366                                   4.0   \n",
       "25367                                   0.0   \n",
       "\n",
       "       AWAY_TEAM_DANGEROUS_ATTACKS_5_last_match_std  \\\n",
       "0                                               2.0   \n",
       "1                                               1.0   \n",
       "2                                               3.0   \n",
       "3                                               9.0   \n",
       "4                                              10.0   \n",
       "...                                             ...   \n",
       "25363                                          10.0   \n",
       "25364                                           5.0   \n",
       "25365                                           3.0   \n",
       "25366                                           2.0   \n",
       "25367                                           7.0   \n",
       "\n",
       "       AWAY_TEAM_INJURIES_5_last_match_std  AWAY_TEAM_GOALS_5_last_match_std  \n",
       "0                                      7.0                               0.0  \n",
       "1                                      7.0                               9.0  \n",
       "2                                      0.0                               9.0  \n",
       "3                                      7.0                               3.0  \n",
       "4                                      3.0                               1.0  \n",
       "...                                    ...                               ...  \n",
       "25363                                  5.0                              10.0  \n",
       "25364                                  1.0                               0.0  \n",
       "25365                                  0.0                               1.0  \n",
       "25366                                  0.0                               3.0  \n",
       "25367                                  0.0                               1.0  \n",
       "\n",
       "[25368 rows x 281 columns]"
      ],
      "text/html": [
       "<div>\n",
       "<style scoped>\n",
       "    .dataframe tbody tr th:only-of-type {\n",
       "        vertical-align: middle;\n",
       "    }\n",
       "\n",
       "    .dataframe tbody tr th {\n",
       "        vertical-align: top;\n",
       "    }\n",
       "\n",
       "    .dataframe thead th {\n",
       "        text-align: right;\n",
       "    }\n",
       "</style>\n",
       "<table border=\"1\" class=\"dataframe\">\n",
       "  <thead>\n",
       "    <tr style=\"text-align: right;\">\n",
       "      <th></th>\n",
       "      <th>ID</th>\n",
       "      <th>HOME_TEAM_SHOTS_TOTAL_season_sum</th>\n",
       "      <th>HOME_TEAM_SHOTS_INSIDEBOX_season_sum</th>\n",
       "      <th>HOME_TEAM_SHOTS_OFF_TARGET_season_sum</th>\n",
       "      <th>HOME_TEAM_SHOTS_ON_TARGET_season_sum</th>\n",
       "      <th>HOME_TEAM_SHOTS_OUTSIDEBOX_season_sum</th>\n",
       "      <th>HOME_TEAM_PASSES_season_sum</th>\n",
       "      <th>HOME_TEAM_SUCCESSFUL_PASSES_season_sum</th>\n",
       "      <th>HOME_TEAM_SAVES_season_sum</th>\n",
       "      <th>HOME_TEAM_CORNERS_season_sum</th>\n",
       "      <th>...</th>\n",
       "      <th>AWAY_TEAM_YELLOWCARDS_5_last_match_std</th>\n",
       "      <th>AWAY_TEAM_REDCARDS_5_last_match_std</th>\n",
       "      <th>AWAY_TEAM_OFFSIDES_5_last_match_std</th>\n",
       "      <th>AWAY_TEAM_ATTACKS_5_last_match_std</th>\n",
       "      <th>AWAY_TEAM_PENALTIES_5_last_match_std</th>\n",
       "      <th>AWAY_TEAM_SUBSTITUTIONS_5_last_match_std</th>\n",
       "      <th>AWAY_TEAM_BALL_SAFE_5_last_match_std</th>\n",
       "      <th>AWAY_TEAM_DANGEROUS_ATTACKS_5_last_match_std</th>\n",
       "      <th>AWAY_TEAM_INJURIES_5_last_match_std</th>\n",
       "      <th>AWAY_TEAM_GOALS_5_last_match_std</th>\n",
       "    </tr>\n",
       "  </thead>\n",
       "  <tbody>\n",
       "    <tr>\n",
       "      <th>0</th>\n",
       "      <td>12303</td>\n",
       "      <td>3.0</td>\n",
       "      <td>6.0</td>\n",
       "      <td>5.0</td>\n",
       "      <td>1.0</td>\n",
       "      <td>3.0</td>\n",
       "      <td>9.0</td>\n",
       "      <td>8.0</td>\n",
       "      <td>10.0</td>\n",
       "      <td>6.0</td>\n",
       "      <td>...</td>\n",
       "      <td>6.0</td>\n",
       "      <td>0.0</td>\n",
       "      <td>1.0</td>\n",
       "      <td>4.0</td>\n",
       "      <td>0.0</td>\n",
       "      <td>8.0</td>\n",
       "      <td>7.0</td>\n",
       "      <td>2.0</td>\n",
       "      <td>7.0</td>\n",
       "      <td>0.0</td>\n",
       "    </tr>\n",
       "    <tr>\n",
       "      <th>1</th>\n",
       "      <td>12304</td>\n",
       "      <td>3.0</td>\n",
       "      <td>2.0</td>\n",
       "      <td>4.0</td>\n",
       "      <td>2.0</td>\n",
       "      <td>6.0</td>\n",
       "      <td>1.0</td>\n",
       "      <td>1.0</td>\n",
       "      <td>2.0</td>\n",
       "      <td>4.0</td>\n",
       "      <td>...</td>\n",
       "      <td>0.0</td>\n",
       "      <td>0.0</td>\n",
       "      <td>3.0</td>\n",
       "      <td>6.0</td>\n",
       "      <td>8.0</td>\n",
       "      <td>5.0</td>\n",
       "      <td>1.0</td>\n",
       "      <td>1.0</td>\n",
       "      <td>7.0</td>\n",
       "      <td>9.0</td>\n",
       "    </tr>\n",
       "    <tr>\n",
       "      <th>2</th>\n",
       "      <td>12305</td>\n",
       "      <td>7.0</td>\n",
       "      <td>10.0</td>\n",
       "      <td>8.0</td>\n",
       "      <td>8.0</td>\n",
       "      <td>1.0</td>\n",
       "      <td>4.0</td>\n",
       "      <td>5.0</td>\n",
       "      <td>0.0</td>\n",
       "      <td>10.0</td>\n",
       "      <td>...</td>\n",
       "      <td>10.0</td>\n",
       "      <td>0.0</td>\n",
       "      <td>0.0</td>\n",
       "      <td>2.0</td>\n",
       "      <td>0.0</td>\n",
       "      <td>4.0</td>\n",
       "      <td>2.0</td>\n",
       "      <td>3.0</td>\n",
       "      <td>0.0</td>\n",
       "      <td>9.0</td>\n",
       "    </tr>\n",
       "    <tr>\n",
       "      <th>3</th>\n",
       "      <td>12306</td>\n",
       "      <td>5.0</td>\n",
       "      <td>7.0</td>\n",
       "      <td>5.0</td>\n",
       "      <td>9.0</td>\n",
       "      <td>5.0</td>\n",
       "      <td>7.0</td>\n",
       "      <td>6.0</td>\n",
       "      <td>3.0</td>\n",
       "      <td>5.0</td>\n",
       "      <td>...</td>\n",
       "      <td>1.0</td>\n",
       "      <td>5.0</td>\n",
       "      <td>4.0</td>\n",
       "      <td>5.0</td>\n",
       "      <td>10.0</td>\n",
       "      <td>9.0</td>\n",
       "      <td>6.0</td>\n",
       "      <td>9.0</td>\n",
       "      <td>7.0</td>\n",
       "      <td>3.0</td>\n",
       "    </tr>\n",
       "    <tr>\n",
       "      <th>4</th>\n",
       "      <td>12307</td>\n",
       "      <td>5.0</td>\n",
       "      <td>4.0</td>\n",
       "      <td>6.0</td>\n",
       "      <td>3.0</td>\n",
       "      <td>5.0</td>\n",
       "      <td>0.0</td>\n",
       "      <td>0.0</td>\n",
       "      <td>2.0</td>\n",
       "      <td>2.0</td>\n",
       "      <td>...</td>\n",
       "      <td>3.0</td>\n",
       "      <td>0.0</td>\n",
       "      <td>6.0</td>\n",
       "      <td>5.0</td>\n",
       "      <td>0.0</td>\n",
       "      <td>4.0</td>\n",
       "      <td>3.0</td>\n",
       "      <td>10.0</td>\n",
       "      <td>3.0</td>\n",
       "      <td>1.0</td>\n",
       "    </tr>\n",
       "    <tr>\n",
       "      <th>...</th>\n",
       "      <td>...</td>\n",
       "      <td>...</td>\n",
       "      <td>...</td>\n",
       "      <td>...</td>\n",
       "      <td>...</td>\n",
       "      <td>...</td>\n",
       "      <td>...</td>\n",
       "      <td>...</td>\n",
       "      <td>...</td>\n",
       "      <td>...</td>\n",
       "      <td>...</td>\n",
       "      <td>...</td>\n",
       "      <td>...</td>\n",
       "      <td>...</td>\n",
       "      <td>...</td>\n",
       "      <td>...</td>\n",
       "      <td>...</td>\n",
       "      <td>...</td>\n",
       "      <td>...</td>\n",
       "      <td>...</td>\n",
       "      <td>...</td>\n",
       "    </tr>\n",
       "    <tr>\n",
       "      <th>25363</th>\n",
       "      <td>37666</td>\n",
       "      <td>5.0</td>\n",
       "      <td>5.0</td>\n",
       "      <td>5.0</td>\n",
       "      <td>5.0</td>\n",
       "      <td>7.0</td>\n",
       "      <td>6.0</td>\n",
       "      <td>6.0</td>\n",
       "      <td>4.0</td>\n",
       "      <td>6.0</td>\n",
       "      <td>...</td>\n",
       "      <td>5.0</td>\n",
       "      <td>0.0</td>\n",
       "      <td>5.0</td>\n",
       "      <td>4.0</td>\n",
       "      <td>5.0</td>\n",
       "      <td>0.0</td>\n",
       "      <td>3.0</td>\n",
       "      <td>10.0</td>\n",
       "      <td>5.0</td>\n",
       "      <td>10.0</td>\n",
       "    </tr>\n",
       "    <tr>\n",
       "      <th>25364</th>\n",
       "      <td>37667</td>\n",
       "      <td>5.0</td>\n",
       "      <td>5.0</td>\n",
       "      <td>2.0</td>\n",
       "      <td>8.0</td>\n",
       "      <td>3.0</td>\n",
       "      <td>7.0</td>\n",
       "      <td>7.0</td>\n",
       "      <td>2.0</td>\n",
       "      <td>2.0</td>\n",
       "      <td>...</td>\n",
       "      <td>5.0</td>\n",
       "      <td>5.0</td>\n",
       "      <td>6.0</td>\n",
       "      <td>6.0</td>\n",
       "      <td>8.0</td>\n",
       "      <td>0.0</td>\n",
       "      <td>3.0</td>\n",
       "      <td>5.0</td>\n",
       "      <td>1.0</td>\n",
       "      <td>0.0</td>\n",
       "    </tr>\n",
       "    <tr>\n",
       "      <th>25365</th>\n",
       "      <td>37668</td>\n",
       "      <td>10.0</td>\n",
       "      <td>10.0</td>\n",
       "      <td>10.0</td>\n",
       "      <td>8.0</td>\n",
       "      <td>8.0</td>\n",
       "      <td>5.0</td>\n",
       "      <td>5.0</td>\n",
       "      <td>2.0</td>\n",
       "      <td>6.0</td>\n",
       "      <td>...</td>\n",
       "      <td>4.0</td>\n",
       "      <td>0.0</td>\n",
       "      <td>0.0</td>\n",
       "      <td>5.0</td>\n",
       "      <td>0.0</td>\n",
       "      <td>3.0</td>\n",
       "      <td>0.0</td>\n",
       "      <td>3.0</td>\n",
       "      <td>0.0</td>\n",
       "      <td>1.0</td>\n",
       "    </tr>\n",
       "    <tr>\n",
       "      <th>25366</th>\n",
       "      <td>37669</td>\n",
       "      <td>4.0</td>\n",
       "      <td>3.0</td>\n",
       "      <td>5.0</td>\n",
       "      <td>3.0</td>\n",
       "      <td>7.0</td>\n",
       "      <td>7.0</td>\n",
       "      <td>7.0</td>\n",
       "      <td>0.0</td>\n",
       "      <td>4.0</td>\n",
       "      <td>...</td>\n",
       "      <td>6.0</td>\n",
       "      <td>0.0</td>\n",
       "      <td>10.0</td>\n",
       "      <td>4.0</td>\n",
       "      <td>8.0</td>\n",
       "      <td>6.0</td>\n",
       "      <td>4.0</td>\n",
       "      <td>2.0</td>\n",
       "      <td>0.0</td>\n",
       "      <td>3.0</td>\n",
       "    </tr>\n",
       "    <tr>\n",
       "      <th>25367</th>\n",
       "      <td>37670</td>\n",
       "      <td>6.0</td>\n",
       "      <td>8.0</td>\n",
       "      <td>8.0</td>\n",
       "      <td>4.0</td>\n",
       "      <td>4.0</td>\n",
       "      <td>2.0</td>\n",
       "      <td>2.0</td>\n",
       "      <td>5.0</td>\n",
       "      <td>5.0</td>\n",
       "      <td>...</td>\n",
       "      <td>5.0</td>\n",
       "      <td>10.0</td>\n",
       "      <td>4.0</td>\n",
       "      <td>7.0</td>\n",
       "      <td>5.0</td>\n",
       "      <td>2.0</td>\n",
       "      <td>0.0</td>\n",
       "      <td>7.0</td>\n",
       "      <td>0.0</td>\n",
       "      <td>1.0</td>\n",
       "    </tr>\n",
       "  </tbody>\n",
       "</table>\n",
       "<p>25368 rows × 281 columns</p>\n",
       "</div>"
      ]
     },
     "execution_count": 19,
     "metadata": {},
     "output_type": "execute_result"
    }
   ],
   "execution_count": 19
  },
  {
   "metadata": {
    "ExecuteTime": {
     "end_time": "2024-07-02T00:57:27.187944Z",
     "start_time": "2024-07-02T00:57:27.128855Z"
    }
   },
   "cell_type": "code",
   "source": "yhat_test = LR_best.predict(df_attribut_test)",
   "id": "84284b9a293027ee",
   "outputs": [],
   "execution_count": 20
  },
  {
   "metadata": {
    "ExecuteTime": {
     "end_time": "2024-07-02T00:57:27.205764Z",
     "start_time": "2024-07-02T00:57:27.188955Z"
    }
   },
   "cell_type": "code",
   "source": "y_pred_test = convert_to_one_hot(yhat_test)",
   "id": "795ff130e1f2494f",
   "outputs": [],
   "execution_count": 21
  },
  {
   "metadata": {
    "ExecuteTime": {
     "end_time": "2024-07-02T00:57:27.214323Z",
     "start_time": "2024-07-02T00:57:27.207775Z"
    }
   },
   "cell_type": "code",
   "source": "test_prediction = pd.concat([df_attribut_test['ID'], y_pred_test], axis=1)",
   "id": "a3b356c57da6188c",
   "outputs": [],
   "execution_count": 22
  },
  {
   "metadata": {
    "ExecuteTime": {
     "end_time": "2024-07-02T00:57:27.394852Z",
     "start_time": "2024-07-02T00:57:27.216338Z"
    }
   },
   "cell_type": "code",
   "source": "test_prediction.to_csv('../submission/logistic_benchmark_submission.csv', index=False)",
   "id": "b819e4fbc6750972",
   "outputs": [],
   "execution_count": 23
  },
  {
   "metadata": {
    "ExecuteTime": {
     "end_time": "2024-07-02T00:57:27.402077Z",
     "start_time": "2024-07-02T00:57:27.397863Z"
    }
   },
   "cell_type": "code",
   "source": "",
   "id": "3d0e0700b4463703",
   "outputs": [],
   "execution_count": 23
  }
 ],
 "metadata": {
  "kernelspec": {
   "display_name": "Python 3",
   "language": "python",
   "name": "python3"
  },
  "language_info": {
   "codemirror_mode": {
    "name": "ipython",
    "version": 2
   },
   "file_extension": ".py",
   "mimetype": "text/x-python",
   "name": "python",
   "nbconvert_exporter": "python",
   "pygments_lexer": "ipython2",
   "version": "2.7.6"
  }
 },
 "nbformat": 4,
 "nbformat_minor": 5
}
