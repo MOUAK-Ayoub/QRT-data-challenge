{
 "cells": [
  {
   "cell_type": "code",
   "id": "initial_id",
   "metadata": {
    "collapsed": true,
    "ExecuteTime": {
     "end_time": "2024-09-06T09:52:53.898075Z",
     "start_time": "2024-09-06T09:52:52.855741Z"
    }
   },
   "source": [
    "import pandas as pd\n",
    "import numpy as np\n",
    "import matplotlib.pyplot as plt\n",
    "import itertools\n",
    "from sklearn.metrics import accuracy_score\n",
    "import operator\n",
    "from timeit import default_timer as timer\n",
    "from src.main import convert_to_one_hot\n",
    "from src.main import prepare_attribut_data, prepare_result_data\n",
    "from src.main import DRAW, HOME_WINS, AWAY_WINS\n",
    "from sklearn.model_selection import train_test_split\n"
   ],
   "outputs": [],
   "execution_count": 1
  },
  {
   "metadata": {
    "ExecuteTime": {
     "end_time": "2024-09-06T09:52:54.479621Z",
     "start_time": "2024-09-06T09:52:53.899070Z"
    }
   },
   "cell_type": "code",
   "source": [
    "\n",
    "train_path_away = '../data/Train_Data/train_away_team_statistics_df.csv'\n",
    "train_path_home = '../data/Train_Data/train_home_team_statistics_df.csv'\n",
    "train_path_result = '../data/Train_Data/Y_train.csv'\n",
    "df_attribut = prepare_attribut_data(train_path_away, train_path_home).drop('ID',axis=1)\n",
    "df_result = prepare_result_data(train_path_result)"
   ],
   "id": "fd97cf601c017cf5",
   "outputs": [],
   "execution_count": 2
  },
  {
   "metadata": {
    "ExecuteTime": {
     "end_time": "2024-09-06T10:25:16.205774Z",
     "start_time": "2024-09-06T10:25:16.195563Z"
    }
   },
   "cell_type": "code",
   "source": [
    "df_attribut.head()\n",
    "df_result.head()"
   ],
   "id": "445d0106754dbb7b",
   "outputs": [
    {
     "data": {
      "text/plain": [
       "   ID  HOME_WINS  DRAW  AWAY_WINS\n",
       "0   0          0     0          1\n",
       "1   1          0     1          0\n",
       "2   2          0     0          1\n",
       "3   3          1     0          0\n",
       "4   4          0     1          0"
      ],
      "text/html": [
       "<div>\n",
       "<style scoped>\n",
       "    .dataframe tbody tr th:only-of-type {\n",
       "        vertical-align: middle;\n",
       "    }\n",
       "\n",
       "    .dataframe tbody tr th {\n",
       "        vertical-align: top;\n",
       "    }\n",
       "\n",
       "    .dataframe thead th {\n",
       "        text-align: right;\n",
       "    }\n",
       "</style>\n",
       "<table border=\"1\" class=\"dataframe\">\n",
       "  <thead>\n",
       "    <tr style=\"text-align: right;\">\n",
       "      <th></th>\n",
       "      <th>ID</th>\n",
       "      <th>HOME_WINS</th>\n",
       "      <th>DRAW</th>\n",
       "      <th>AWAY_WINS</th>\n",
       "    </tr>\n",
       "  </thead>\n",
       "  <tbody>\n",
       "    <tr>\n",
       "      <th>0</th>\n",
       "      <td>0</td>\n",
       "      <td>0</td>\n",
       "      <td>0</td>\n",
       "      <td>1</td>\n",
       "    </tr>\n",
       "    <tr>\n",
       "      <th>1</th>\n",
       "      <td>1</td>\n",
       "      <td>0</td>\n",
       "      <td>1</td>\n",
       "      <td>0</td>\n",
       "    </tr>\n",
       "    <tr>\n",
       "      <th>2</th>\n",
       "      <td>2</td>\n",
       "      <td>0</td>\n",
       "      <td>0</td>\n",
       "      <td>1</td>\n",
       "    </tr>\n",
       "    <tr>\n",
       "      <th>3</th>\n",
       "      <td>3</td>\n",
       "      <td>1</td>\n",
       "      <td>0</td>\n",
       "      <td>0</td>\n",
       "    </tr>\n",
       "    <tr>\n",
       "      <th>4</th>\n",
       "      <td>4</td>\n",
       "      <td>0</td>\n",
       "      <td>1</td>\n",
       "      <td>0</td>\n",
       "    </tr>\n",
       "  </tbody>\n",
       "</table>\n",
       "</div>"
      ]
     },
     "execution_count": 17,
     "metadata": {},
     "output_type": "execute_result"
    }
   ],
   "execution_count": 17
  },
  {
   "metadata": {},
   "cell_type": "code",
   "outputs": [],
   "execution_count": null,
   "source": [
    "\n",
    "attribut_train, attribut_test, result_train, result_test = train_test_split(df_attribut, df_result, test_size=0.1,\n",
    "                                                                            random_state=10)\n"
   ],
   "id": "3f9e0ff4b6b85a21"
  },
  {
   "metadata": {},
   "cell_type": "code",
   "source": "result_test",
   "id": "8e5dae6ea5f19d6e",
   "outputs": [],
   "execution_count": null
  },
  {
   "metadata": {},
   "cell_type": "code",
   "source": [
    "\n",
    "min_index=0\n",
    "max_index=20000\n",
    "for i in [1,2]:   \n",
    "\n",
    "    column_1=attribut_test.columns[i]\n",
    "    column_2=attribut_test.columns[i+140]\n",
    "    plt.figure(figsize=(16, 10))\n",
    "    plt.scatter(attribut_test.loc[(result_test == DRAW).values, column_1].iloc[min_index:max_index], attribut_test.loc[(result_test == DRAW).values, column_2].iloc[min_index:max_index], label=\"DRAW\", color='gray')\n",
    "\n",
    "    plt.xlabel(column_1)\n",
    "    plt.ylabel(column_2)\n",
    "    plt.title(\"Train Set\")\n",
    "    plt.legend()\n",
    "    plt.show()"
   ],
   "id": "cfb09828c9302d6f",
   "outputs": [],
   "execution_count": null
  },
  {
   "metadata": {},
   "cell_type": "code",
   "source": [
    "from sklearn.linear_model import LogisticRegression\n",
    "\n",
    "from sklearn.linear_model import LogisticRegression\n",
    "\n",
    "max_iter_list = [1500]\n",
    "solver_list = ['lbfgs']  # sag and saga take a lot of time\n",
    "regularization_factor_list = [ 0.1, 0.0005]\n",
    "accuracy_dict = {}\n",
    "time_dict = {}\n",
    "LR_dict = {}\n",
    "for max_iter in max_iter_list:\n",
    "    for solver in solver_list:\n",
    "        for regularization_factor in regularization_factor_list:\n",
    "            start = timer()\n",
    "\n",
    "            LR = LogisticRegression(max_iter=max_iter, solver=solver, C=regularization_factor)\n",
    "            LR.fit(attribut_train,result_train)\n",
    "            yhat = LR.predict(attribut_test)\n",
    "            accuracy = np.round(accuracy_score(result_test, yhat), 4)\n",
    "            key = f'solver_{solver}_iter_{max_iter}_C_{regularization_factor}'\n",
    "            accuracy_dict[key] = accuracy\n",
    "            LR_dict[key] = LR\n",
    "\n",
    "            end = timer()\n",
    "            print(f'for this hyperparam {key} the training took ')\n",
    "\n",
    "            delta = end - start\n",
    "            minutes = round(delta // 60)\n",
    "            delta %= 60\n",
    "            seconds = round(delta)\n",
    "            time_str = f\"{minutes:02d}m{seconds:02d}s\"\n",
    "            time_dict[key] = time_str\n",
    "            print(time_str)\n",
    "\n"
   ],
   "id": "213dc7eca8e0fe7e",
   "outputs": [],
   "execution_count": null
  },
  {
   "metadata": {
    "ExecuteTime": {
     "end_time": "2024-09-06T11:00:28.791931Z",
     "start_time": "2024-09-06T11:00:28.791175Z"
    }
   },
   "cell_type": "code",
   "source": "accuracy_dict",
   "id": "f709831d395b7177",
   "outputs": [],
   "execution_count": null
  },
  {
   "metadata": {},
   "cell_type": "code",
   "source": [
    "max_accuracy = max(accuracy_dict.items(), key=operator.itemgetter(1))\n",
    "LR_best = LR_dict[max_accuracy[0]]"
   ],
   "id": "61474f3ec6e33d54",
   "outputs": [],
   "execution_count": null
  },
  {
   "metadata": {},
   "cell_type": "code",
   "source": "time_dict",
   "id": "930bf8b66131e1e2",
   "outputs": [],
   "execution_count": null
  },
  {
   "metadata": {
    "ExecuteTime": {
     "end_time": "2024-09-06T11:00:28.837502Z",
     "start_time": "2024-09-06T11:00:28.836537Z"
    }
   },
   "cell_type": "code",
   "source": "max_accuracy",
   "id": "22242ec5d140149",
   "outputs": [],
   "execution_count": null
  },
  {
   "metadata": {},
   "cell_type": "code",
   "source": [
    "yhat = LR_best.predict(attribut_test)\n",
    "np.round(accuracy_score(result_test, yhat), 4)"
   ],
   "id": "b5b2bb58e4b984fd",
   "outputs": [],
   "execution_count": null
  },
  {
   "metadata": {},
   "cell_type": "code",
   "source": "yhat",
   "id": "3ed3eab92f32fdf7",
   "outputs": [],
   "execution_count": null
  },
  {
   "metadata": {},
   "cell_type": "code",
   "source": [
    "from sklearn.metrics import confusion_matrix, ConfusionMatrixDisplay\n",
    "\n",
    "cm = confusion_matrix(result_test, yhat)\n",
    "disp = ConfusionMatrixDisplay(confusion_matrix=cm,\n",
    "                              display_labels=[-2, -1, 1], )\n",
    "disp.plot(cmap=\"Blues\")"
   ],
   "id": "22c5519cd14097fe",
   "outputs": [],
   "execution_count": null
  },
  {
   "metadata": {},
   "cell_type": "code",
   "source": [
    "test_path_away = '../data/Test_Data/test_away_team_statistics_df.csv'\n",
    "test_path_home = '../data/Test_Data/test_home_team_statistics_df.csv'\n",
    "df_attribut_test = prepare_attribut_data(test_path_away, test_path_home,is_test=True)"
   ],
   "id": "75aafde0206d78fe",
   "outputs": [],
   "execution_count": null
  },
  {
   "metadata": {
    "ExecuteTime": {
     "end_time": "2024-09-06T11:00:28.916618Z",
     "start_time": "2024-09-06T11:00:28.915617Z"
    }
   },
   "cell_type": "code",
   "source": "df_attribut_test",
   "id": "7638a3e0d2c633b1",
   "outputs": [],
   "execution_count": null
  },
  {
   "metadata": {},
   "cell_type": "code",
   "source": "yhat_test = LR_best.predict(df_attribut_test)",
   "id": "84284b9a293027ee",
   "outputs": [],
   "execution_count": null
  },
  {
   "metadata": {
    "ExecuteTime": {
     "end_time": "2024-09-06T11:00:28.948094Z",
     "start_time": "2024-09-06T11:00:28.948094Z"
    }
   },
   "cell_type": "code",
   "source": "y_pred_test = convert_to_one_hot(yhat_test)",
   "id": "795ff130e1f2494f",
   "outputs": [],
   "execution_count": null
  },
  {
   "metadata": {},
   "cell_type": "code",
   "source": "test_prediction = pd.concat([df_attribut_test['ID'], y_pred_test], axis=1)",
   "id": "a3b356c57da6188c",
   "outputs": [],
   "execution_count": null
  },
  {
   "metadata": {},
   "cell_type": "code",
   "source": "test_prediction.to_csv('../submission/logistic_benchmark_submission.csv', index=False)",
   "id": "b819e4fbc6750972",
   "outputs": [],
   "execution_count": null
  },
  {
   "metadata": {},
   "cell_type": "code",
   "source": "",
   "id": "3d0e0700b4463703",
   "outputs": [],
   "execution_count": null
  }
 ],
 "metadata": {
  "kernelspec": {
   "display_name": "Python 3",
   "language": "python",
   "name": "python3"
  },
  "language_info": {
   "codemirror_mode": {
    "name": "ipython",
    "version": 2
   },
   "file_extension": ".py",
   "mimetype": "text/x-python",
   "name": "python",
   "nbconvert_exporter": "python",
   "pygments_lexer": "ipython2",
   "version": "2.7.6"
  }
 },
 "nbformat": 4,
 "nbformat_minor": 5
}
