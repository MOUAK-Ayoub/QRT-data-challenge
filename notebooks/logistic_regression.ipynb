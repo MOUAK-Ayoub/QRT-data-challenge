{
 "cells": [
  {
   "cell_type": "code",
   "id": "initial_id",
   "metadata": {
    "collapsed": true,
    "ExecuteTime": {
     "end_time": "2024-09-10T00:36:52.758594Z",
     "start_time": "2024-09-10T00:36:52.752908Z"
    }
   },
   "source": [
    "import pandas as pd\n",
    "import numpy as np\n",
    "import matplotlib.pyplot as plt\n",
    "import itertools\n",
    "from sklearn.metrics import accuracy_score\n",
    "import operator\n",
    "from timeit import default_timer as timer\n",
    "from src.main import convert_to_one_hot\n",
    "from src.main import prepare_attribut_data, prepare_result_data\n",
    "from src.main import DRAW, HOME_WINS, AWAY_WINS\n",
    "from sklearn.model_selection import train_test_split\n",
    "from sklearn.preprocessing import StandardScaler\n"
   ],
   "outputs": [],
   "execution_count": 103
  },
  {
   "metadata": {
    "ExecuteTime": {
     "end_time": "2024-09-10T00:36:52.811631Z",
     "start_time": "2024-09-10T00:36:52.802906Z"
    }
   },
   "cell_type": "code",
   "source": [
    "#HYPER_PARAMS:\n",
    "scaling=True\n",
    "max_iter_list = [500]\n",
    "solver_list = ['lbfgs']  # sag and saga take a lot of time\n",
    "regularization_factor_list = [ 0.001]"
   ],
   "id": "d1d2c3fceee0f7f",
   "outputs": [],
   "execution_count": 104
  },
  {
   "metadata": {
    "ExecuteTime": {
     "end_time": "2024-09-10T00:37:09.640667Z",
     "start_time": "2024-09-10T00:36:52.905392Z"
    }
   },
   "cell_type": "code",
   "source": [
    "\n",
    "train_path_away = '../data/Train_Data/train_away_team_statistics_df.csv'\n",
    "train_path_home = '../data/Train_Data/train_home_team_statistics_df.csv'\n",
    "train_path_result = '../data/Train_Data/Y_train.csv'\n",
    "df_attribut = prepare_attribut_data(train_path_away, train_path_home,use_player_data=True).drop(['ID'], axis=1)\n",
    "df_result = prepare_result_data(train_path_result)"
   ],
   "id": "fd97cf601c017cf5",
   "outputs": [],
   "execution_count": 105
  },
  {
   "metadata": {
    "ExecuteTime": {
     "end_time": "2024-09-10T00:37:09.664339Z",
     "start_time": "2024-09-10T00:37:09.640667Z"
    }
   },
   "cell_type": "code",
   "source": "df_attribut.head()",
   "id": "ba7ec9763403b2c2",
   "outputs": [
    {
     "data": {
      "text/plain": [
       "   HOME_TEAM_SHOTS_TOTAL_season_sum  HOME_TEAM_SHOTS_INSIDEBOX_season_sum  \\\n",
       "0                               3.0                                   2.0   \n",
       "1                               6.0                                   8.0   \n",
       "2                               4.0                                   2.0   \n",
       "3                               7.0                                   5.0   \n",
       "4                               3.0                                   3.0   \n",
       "\n",
       "   HOME_TEAM_SHOTS_OFF_TARGET_season_sum  \\\n",
       "0                                    5.0   \n",
       "1                                    3.0   \n",
       "2                                    5.0   \n",
       "3                                    5.0   \n",
       "4                                    2.0   \n",
       "\n",
       "   HOME_TEAM_SHOTS_ON_TARGET_season_sum  \\\n",
       "0                                   2.0   \n",
       "1                                   6.0   \n",
       "2                                   2.0   \n",
       "3                                   6.0   \n",
       "4                                   3.0   \n",
       "\n",
       "   HOME_TEAM_SHOTS_OUTSIDEBOX_season_sum  HOME_TEAM_PASSES_season_sum  \\\n",
       "0                                    1.0                          2.0   \n",
       "1                                    5.0                          8.0   \n",
       "2                                    8.0                          1.0   \n",
       "3                                    6.0                          9.0   \n",
       "4                                    4.0                          4.0   \n",
       "\n",
       "   HOME_TEAM_SUCCESSFUL_PASSES_season_sum  HOME_TEAM_SAVES_season_sum  \\\n",
       "0                                     2.0                         5.0   \n",
       "1                                     7.0                        10.0   \n",
       "2                                     1.0                         2.0   \n",
       "3                                     9.0                         2.0   \n",
       "4                                     3.0                         4.0   \n",
       "\n",
       "   HOME_TEAM_CORNERS_season_sum  HOME_TEAM_FOULS_season_sum  ...  \\\n",
       "0                           3.0                         6.0  ...   \n",
       "1                           6.0                         8.0  ...   \n",
       "2                           2.0                         7.0  ...   \n",
       "3                           2.0                         0.0  ...   \n",
       "4                           4.0                         7.0  ...   \n",
       "\n",
       "   HOME_PLAYER_STARTING_LINEUP_5_last_match_std  \\\n",
       "0                                         623.0   \n",
       "1                                          63.0   \n",
       "2                                        1180.0   \n",
       "3                                         357.0   \n",
       "4                                         329.0   \n",
       "\n",
       "   HOME_PLAYER_SUCCESSFUL_DRIBBLES_5_last_match_std  \\\n",
       "0                                             409.0   \n",
       "1                                             180.0   \n",
       "2                                             286.0   \n",
       "3                                             159.0   \n",
       "4                                             327.0   \n",
       "\n",
       "   HOME_PLAYER_TACKLES_5_last_match_std  \\\n",
       "0                                 431.0   \n",
       "1                                 245.0   \n",
       "2                                 527.0   \n",
       "3                                 344.0   \n",
       "4                                 414.0   \n",
       "\n",
       "   HOME_PLAYER_TOTAL_CROSSES_5_last_match_std  \\\n",
       "0                                       250.0   \n",
       "1                                       156.0   \n",
       "2                                       252.0   \n",
       "3                                       307.0   \n",
       "4                                       262.0   \n",
       "\n",
       "   HOME_PLAYER_TOTAL_DUELS_5_last_match_std  \\\n",
       "0                                     666.0   \n",
       "1                                     397.0   \n",
       "2                                     774.0   \n",
       "3                                     353.0   \n",
       "4                                     376.0   \n",
       "\n",
       "   HOME_PLAYER_YELLOWCARDS_5_last_match_std  \\\n",
       "0                                     710.0   \n",
       "1                                     357.0   \n",
       "2                                     805.0   \n",
       "3                                     280.0   \n",
       "4                                     248.0   \n",
       "\n",
       "   HOME_PLAYER_PUNCHES_5_last_match_std  \\\n",
       "0                                   0.0   \n",
       "1                                   0.0   \n",
       "2                                   0.0   \n",
       "3                                   0.0   \n",
       "4                                   0.0   \n",
       "\n",
       "   HOME_PLAYER_LONG_BALLS_5_last_match_std  \\\n",
       "0                                      0.0   \n",
       "1                                      0.0   \n",
       "2                                      0.0   \n",
       "3                                      0.0   \n",
       "4                                      0.0   \n",
       "\n",
       "   HOME_PLAYER_LONG_BALLS_WON_5_last_match_std  \\\n",
       "0                                          0.0   \n",
       "1                                          0.0   \n",
       "2                                          0.0   \n",
       "3                                          0.0   \n",
       "4                                          0.0   \n",
       "\n",
       "   HOME_PLAYER_SHOTS_OFF_TARGET_5_last_match_std  \n",
       "0                                            0.0  \n",
       "1                                            0.0  \n",
       "2                                            0.0  \n",
       "3                                            0.0  \n",
       "4                                            0.0  \n",
       "\n",
       "[5 rows x 884 columns]"
      ],
      "text/html": [
       "<div>\n",
       "<style scoped>\n",
       "    .dataframe tbody tr th:only-of-type {\n",
       "        vertical-align: middle;\n",
       "    }\n",
       "\n",
       "    .dataframe tbody tr th {\n",
       "        vertical-align: top;\n",
       "    }\n",
       "\n",
       "    .dataframe thead th {\n",
       "        text-align: right;\n",
       "    }\n",
       "</style>\n",
       "<table border=\"1\" class=\"dataframe\">\n",
       "  <thead>\n",
       "    <tr style=\"text-align: right;\">\n",
       "      <th></th>\n",
       "      <th>HOME_TEAM_SHOTS_TOTAL_season_sum</th>\n",
       "      <th>HOME_TEAM_SHOTS_INSIDEBOX_season_sum</th>\n",
       "      <th>HOME_TEAM_SHOTS_OFF_TARGET_season_sum</th>\n",
       "      <th>HOME_TEAM_SHOTS_ON_TARGET_season_sum</th>\n",
       "      <th>HOME_TEAM_SHOTS_OUTSIDEBOX_season_sum</th>\n",
       "      <th>HOME_TEAM_PASSES_season_sum</th>\n",
       "      <th>HOME_TEAM_SUCCESSFUL_PASSES_season_sum</th>\n",
       "      <th>HOME_TEAM_SAVES_season_sum</th>\n",
       "      <th>HOME_TEAM_CORNERS_season_sum</th>\n",
       "      <th>HOME_TEAM_FOULS_season_sum</th>\n",
       "      <th>...</th>\n",
       "      <th>HOME_PLAYER_STARTING_LINEUP_5_last_match_std</th>\n",
       "      <th>HOME_PLAYER_SUCCESSFUL_DRIBBLES_5_last_match_std</th>\n",
       "      <th>HOME_PLAYER_TACKLES_5_last_match_std</th>\n",
       "      <th>HOME_PLAYER_TOTAL_CROSSES_5_last_match_std</th>\n",
       "      <th>HOME_PLAYER_TOTAL_DUELS_5_last_match_std</th>\n",
       "      <th>HOME_PLAYER_YELLOWCARDS_5_last_match_std</th>\n",
       "      <th>HOME_PLAYER_PUNCHES_5_last_match_std</th>\n",
       "      <th>HOME_PLAYER_LONG_BALLS_5_last_match_std</th>\n",
       "      <th>HOME_PLAYER_LONG_BALLS_WON_5_last_match_std</th>\n",
       "      <th>HOME_PLAYER_SHOTS_OFF_TARGET_5_last_match_std</th>\n",
       "    </tr>\n",
       "  </thead>\n",
       "  <tbody>\n",
       "    <tr>\n",
       "      <th>0</th>\n",
       "      <td>3.0</td>\n",
       "      <td>2.0</td>\n",
       "      <td>5.0</td>\n",
       "      <td>2.0</td>\n",
       "      <td>1.0</td>\n",
       "      <td>2.0</td>\n",
       "      <td>2.0</td>\n",
       "      <td>5.0</td>\n",
       "      <td>3.0</td>\n",
       "      <td>6.0</td>\n",
       "      <td>...</td>\n",
       "      <td>623.0</td>\n",
       "      <td>409.0</td>\n",
       "      <td>431.0</td>\n",
       "      <td>250.0</td>\n",
       "      <td>666.0</td>\n",
       "      <td>710.0</td>\n",
       "      <td>0.0</td>\n",
       "      <td>0.0</td>\n",
       "      <td>0.0</td>\n",
       "      <td>0.0</td>\n",
       "    </tr>\n",
       "    <tr>\n",
       "      <th>1</th>\n",
       "      <td>6.0</td>\n",
       "      <td>8.0</td>\n",
       "      <td>3.0</td>\n",
       "      <td>6.0</td>\n",
       "      <td>5.0</td>\n",
       "      <td>8.0</td>\n",
       "      <td>7.0</td>\n",
       "      <td>10.0</td>\n",
       "      <td>6.0</td>\n",
       "      <td>8.0</td>\n",
       "      <td>...</td>\n",
       "      <td>63.0</td>\n",
       "      <td>180.0</td>\n",
       "      <td>245.0</td>\n",
       "      <td>156.0</td>\n",
       "      <td>397.0</td>\n",
       "      <td>357.0</td>\n",
       "      <td>0.0</td>\n",
       "      <td>0.0</td>\n",
       "      <td>0.0</td>\n",
       "      <td>0.0</td>\n",
       "    </tr>\n",
       "    <tr>\n",
       "      <th>2</th>\n",
       "      <td>4.0</td>\n",
       "      <td>2.0</td>\n",
       "      <td>5.0</td>\n",
       "      <td>2.0</td>\n",
       "      <td>8.0</td>\n",
       "      <td>1.0</td>\n",
       "      <td>1.0</td>\n",
       "      <td>2.0</td>\n",
       "      <td>2.0</td>\n",
       "      <td>7.0</td>\n",
       "      <td>...</td>\n",
       "      <td>1180.0</td>\n",
       "      <td>286.0</td>\n",
       "      <td>527.0</td>\n",
       "      <td>252.0</td>\n",
       "      <td>774.0</td>\n",
       "      <td>805.0</td>\n",
       "      <td>0.0</td>\n",
       "      <td>0.0</td>\n",
       "      <td>0.0</td>\n",
       "      <td>0.0</td>\n",
       "    </tr>\n",
       "    <tr>\n",
       "      <th>3</th>\n",
       "      <td>7.0</td>\n",
       "      <td>5.0</td>\n",
       "      <td>5.0</td>\n",
       "      <td>6.0</td>\n",
       "      <td>6.0</td>\n",
       "      <td>9.0</td>\n",
       "      <td>9.0</td>\n",
       "      <td>2.0</td>\n",
       "      <td>2.0</td>\n",
       "      <td>0.0</td>\n",
       "      <td>...</td>\n",
       "      <td>357.0</td>\n",
       "      <td>159.0</td>\n",
       "      <td>344.0</td>\n",
       "      <td>307.0</td>\n",
       "      <td>353.0</td>\n",
       "      <td>280.0</td>\n",
       "      <td>0.0</td>\n",
       "      <td>0.0</td>\n",
       "      <td>0.0</td>\n",
       "      <td>0.0</td>\n",
       "    </tr>\n",
       "    <tr>\n",
       "      <th>4</th>\n",
       "      <td>3.0</td>\n",
       "      <td>3.0</td>\n",
       "      <td>2.0</td>\n",
       "      <td>3.0</td>\n",
       "      <td>4.0</td>\n",
       "      <td>4.0</td>\n",
       "      <td>3.0</td>\n",
       "      <td>4.0</td>\n",
       "      <td>4.0</td>\n",
       "      <td>7.0</td>\n",
       "      <td>...</td>\n",
       "      <td>329.0</td>\n",
       "      <td>327.0</td>\n",
       "      <td>414.0</td>\n",
       "      <td>262.0</td>\n",
       "      <td>376.0</td>\n",
       "      <td>248.0</td>\n",
       "      <td>0.0</td>\n",
       "      <td>0.0</td>\n",
       "      <td>0.0</td>\n",
       "      <td>0.0</td>\n",
       "    </tr>\n",
       "  </tbody>\n",
       "</table>\n",
       "<p>5 rows × 884 columns</p>\n",
       "</div>"
      ]
     },
     "execution_count": 106,
     "metadata": {},
     "output_type": "execute_result"
    }
   ],
   "execution_count": 106
  },
  {
   "metadata": {
    "ExecuteTime": {
     "end_time": "2024-09-10T00:37:09.678004Z",
     "start_time": "2024-09-10T00:37:09.664339Z"
    }
   },
   "cell_type": "code",
   "source": "df_result.head()",
   "id": "445d0106754dbb7b",
   "outputs": [
    {
     "data": {
      "text/plain": [
       "   result\n",
       "0      -2\n",
       "1      -1\n",
       "2      -2\n",
       "3       1\n",
       "4      -1"
      ],
      "text/html": [
       "<div>\n",
       "<style scoped>\n",
       "    .dataframe tbody tr th:only-of-type {\n",
       "        vertical-align: middle;\n",
       "    }\n",
       "\n",
       "    .dataframe tbody tr th {\n",
       "        vertical-align: top;\n",
       "    }\n",
       "\n",
       "    .dataframe thead th {\n",
       "        text-align: right;\n",
       "    }\n",
       "</style>\n",
       "<table border=\"1\" class=\"dataframe\">\n",
       "  <thead>\n",
       "    <tr style=\"text-align: right;\">\n",
       "      <th></th>\n",
       "      <th>result</th>\n",
       "    </tr>\n",
       "  </thead>\n",
       "  <tbody>\n",
       "    <tr>\n",
       "      <th>0</th>\n",
       "      <td>-2</td>\n",
       "    </tr>\n",
       "    <tr>\n",
       "      <th>1</th>\n",
       "      <td>-1</td>\n",
       "    </tr>\n",
       "    <tr>\n",
       "      <th>2</th>\n",
       "      <td>-2</td>\n",
       "    </tr>\n",
       "    <tr>\n",
       "      <th>3</th>\n",
       "      <td>1</td>\n",
       "    </tr>\n",
       "    <tr>\n",
       "      <th>4</th>\n",
       "      <td>-1</td>\n",
       "    </tr>\n",
       "  </tbody>\n",
       "</table>\n",
       "</div>"
      ]
     },
     "execution_count": 107,
     "metadata": {},
     "output_type": "execute_result"
    }
   ],
   "execution_count": 107
  },
  {
   "metadata": {
    "ExecuteTime": {
     "end_time": "2024-09-10T00:37:09.739938Z",
     "start_time": "2024-09-10T00:37:09.678004Z"
    }
   },
   "cell_type": "code",
   "source": [
    "\n",
    "attribut_train, attribut_test, result_train, result_test = train_test_split(df_attribut, df_result, test_size=0.1,\n",
    "                                                                            random_state=10)\n"
   ],
   "id": "3f9e0ff4b6b85a21",
   "outputs": [],
   "execution_count": 108
  },
  {
   "metadata": {
    "ExecuteTime": {
     "end_time": "2024-09-10T00:37:09.751043Z",
     "start_time": "2024-09-10T00:37:09.741947Z"
    }
   },
   "cell_type": "code",
   "source": "result_test",
   "id": "8e5dae6ea5f19d6e",
   "outputs": [
    {
     "data": {
      "text/plain": [
       "       result\n",
       "11028       1\n",
       "10284      -2\n",
       "10177       1\n",
       "7139        1\n",
       "937        -2\n",
       "...       ...\n",
       "10569       1\n",
       "10359       1\n",
       "745        -2\n",
       "10906      -1\n",
       "3547       -2\n",
       "\n",
       "[1231 rows x 1 columns]"
      ],
      "text/html": [
       "<div>\n",
       "<style scoped>\n",
       "    .dataframe tbody tr th:only-of-type {\n",
       "        vertical-align: middle;\n",
       "    }\n",
       "\n",
       "    .dataframe tbody tr th {\n",
       "        vertical-align: top;\n",
       "    }\n",
       "\n",
       "    .dataframe thead th {\n",
       "        text-align: right;\n",
       "    }\n",
       "</style>\n",
       "<table border=\"1\" class=\"dataframe\">\n",
       "  <thead>\n",
       "    <tr style=\"text-align: right;\">\n",
       "      <th></th>\n",
       "      <th>result</th>\n",
       "    </tr>\n",
       "  </thead>\n",
       "  <tbody>\n",
       "    <tr>\n",
       "      <th>11028</th>\n",
       "      <td>1</td>\n",
       "    </tr>\n",
       "    <tr>\n",
       "      <th>10284</th>\n",
       "      <td>-2</td>\n",
       "    </tr>\n",
       "    <tr>\n",
       "      <th>10177</th>\n",
       "      <td>1</td>\n",
       "    </tr>\n",
       "    <tr>\n",
       "      <th>7139</th>\n",
       "      <td>1</td>\n",
       "    </tr>\n",
       "    <tr>\n",
       "      <th>937</th>\n",
       "      <td>-2</td>\n",
       "    </tr>\n",
       "    <tr>\n",
       "      <th>...</th>\n",
       "      <td>...</td>\n",
       "    </tr>\n",
       "    <tr>\n",
       "      <th>10569</th>\n",
       "      <td>1</td>\n",
       "    </tr>\n",
       "    <tr>\n",
       "      <th>10359</th>\n",
       "      <td>1</td>\n",
       "    </tr>\n",
       "    <tr>\n",
       "      <th>745</th>\n",
       "      <td>-2</td>\n",
       "    </tr>\n",
       "    <tr>\n",
       "      <th>10906</th>\n",
       "      <td>-1</td>\n",
       "    </tr>\n",
       "    <tr>\n",
       "      <th>3547</th>\n",
       "      <td>-2</td>\n",
       "    </tr>\n",
       "  </tbody>\n",
       "</table>\n",
       "<p>1231 rows × 1 columns</p>\n",
       "</div>"
      ]
     },
     "execution_count": 109,
     "metadata": {},
     "output_type": "execute_result"
    }
   ],
   "execution_count": 109
  },
  {
   "metadata": {},
   "cell_type": "markdown",
   "source": [
    "#Cell changed to markdown, to not be executed\n",
    "min_index=0\n",
    "max_index=20000\n",
    "for i in [1,2]:   \n",
    "\n",
    "    column_1=attribut_test.columns[i]\n",
    "    column_2=attribut_test.columns[i+140]\n",
    "    plt.figure(figsize=(16, 10))\n",
    "    plt.scatter(attribut_test.loc[(result_test == DRAW).values, column_1].iloc[min_index:max_index], attribut_test.loc[(result_test == DRAW).values, column_2].iloc[min_index:max_index], label=\"DRAW\", color='gray')\n",
    "\n",
    "    plt.xlabel(column_1)\n",
    "    plt.ylabel(column_2)\n",
    "    plt.title(\"Train Set\")\n",
    "    plt.legend()\n",
    "    plt.show()"
   ],
   "id": "6c0802ddb9ab915b"
  },
  {
   "metadata": {
    "ExecuteTime": {
     "end_time": "2024-09-10T00:37:09.928748Z",
     "start_time": "2024-09-10T00:37:09.752055Z"
    }
   },
   "cell_type": "code",
   "source": [
    "if scaling:\n",
    "    scaler = StandardScaler()\n",
    "    attribut_train = scaler.fit_transform(attribut_train)\n",
    "    attribut_test = scaler.transform(attribut_test)"
   ],
   "id": "9873b1fa0f772937",
   "outputs": [],
   "execution_count": 110
  },
  {
   "metadata": {
    "ExecuteTime": {
     "end_time": "2024-09-10T00:37:09.936452Z",
     "start_time": "2024-09-10T00:37:09.928748Z"
    }
   },
   "cell_type": "code",
   "source": "attribut_train",
   "id": "591df89ac637e5b4",
   "outputs": [
    {
     "data": {
      "text/plain": [
       "array([[-1.12681243, -0.90878916, -1.60070071, ...,  0.        ,\n",
       "         0.        ,  0.        ],\n",
       "       [ 1.2792396 ,  1.04192593,  1.59903097, ...,  0.        ,\n",
       "         0.        ,  0.        ],\n",
       "       [ 0.93551788,  1.04192593,  0.88797949, ...,  0.        ,\n",
       "         0.        ,  0.        ],\n",
       "       ...,\n",
       "       [ 1.62296132,  1.6921643 ,  1.24350523, ...,  0.        ,\n",
       "         0.        ,  0.        ],\n",
       "       [-1.12681243, -0.58366998, -1.24517497, ...,  0.        ,\n",
       "         0.        ,  0.        ],\n",
       "       [-0.09564727,  0.06656839, -0.17859774, ...,  0.        ,\n",
       "         0.        ,  0.        ]])"
      ]
     },
     "execution_count": 111,
     "metadata": {},
     "output_type": "execute_result"
    }
   ],
   "execution_count": 111
  },
  {
   "metadata": {
    "ExecuteTime": {
     "end_time": "2024-09-10T00:37:12.014178Z",
     "start_time": "2024-09-10T00:37:09.936452Z"
    }
   },
   "cell_type": "code",
   "source": [
    "from sklearn.linear_model import LogisticRegression\n",
    "\n",
    "from sklearn.linear_model import LogisticRegression\n",
    "\n",
    "\n",
    "accuracy_dict = {}\n",
    "time_dict = {}\n",
    "LR_dict = {}\n",
    "for max_iter in max_iter_list:\n",
    "    for solver in solver_list:\n",
    "        for regularization_factor in regularization_factor_list:\n",
    "            start = timer()\n",
    "\n",
    "            LR = LogisticRegression(max_iter=max_iter, solver=solver, C=regularization_factor)\n",
    "            LR.fit(attribut_train,result_train)\n",
    "            yhat = LR.predict(attribut_test)\n",
    "            accuracy = np.round(accuracy_score(result_test, yhat), 4)\n",
    "            key = f'solver_{solver}_iter_{max_iter}_C_{regularization_factor}'\n",
    "            accuracy_dict[key] = accuracy\n",
    "            LR_dict[key] = LR\n",
    "\n",
    "            end = timer()\n",
    "            print(f'for this hyperparam {key} the training took ')\n",
    "\n",
    "            delta = end - start\n",
    "            minutes = round(delta // 60)\n",
    "            delta %= 60\n",
    "            seconds = round(delta)\n",
    "            time_str = f\"{minutes:02d}m{seconds:02d}s\"\n",
    "            time_dict[key] = time_str\n",
    "            print(time_str)\n",
    "\n"
   ],
   "id": "213dc7eca8e0fe7e",
   "outputs": [
    {
     "name": "stderr",
     "output_type": "stream",
     "text": [
      "C:\\Users\\pc\\AppData\\Local\\Programs\\Python\\Python312\\Lib\\site-packages\\sklearn\\utils\\validation.py:1310: DataConversionWarning: A column-vector y was passed when a 1d array was expected. Please change the shape of y to (n_samples, ), for example using ravel().\n",
      "  y = column_or_1d(y, warn=True)\n"
     ]
    },
    {
     "name": "stdout",
     "output_type": "stream",
     "text": [
      "for this hyperparam solver_lbfgs_iter_500_C_0.001 the training took \n",
      "00m02s\n"
     ]
    }
   ],
   "execution_count": 112
  },
  {
   "metadata": {
    "ExecuteTime": {
     "end_time": "2024-09-10T00:37:12.023523Z",
     "start_time": "2024-09-10T00:37:12.014178Z"
    }
   },
   "cell_type": "code",
   "source": "accuracy_dict",
   "id": "f709831d395b7177",
   "outputs": [
    {
     "data": {
      "text/plain": [
       "{'solver_lbfgs_iter_500_C_0.001': 0.4907}"
      ]
     },
     "execution_count": 113,
     "metadata": {},
     "output_type": "execute_result"
    }
   ],
   "execution_count": 113
  },
  {
   "metadata": {
    "ExecuteTime": {
     "end_time": "2024-09-10T00:37:12.036496Z",
     "start_time": "2024-09-10T00:37:12.023523Z"
    }
   },
   "cell_type": "code",
   "source": [
    "max_accuracy = max(accuracy_dict.items(), key=operator.itemgetter(1))\n",
    "LR_best = LR_dict[max_accuracy[0]]"
   ],
   "id": "61474f3ec6e33d54",
   "outputs": [],
   "execution_count": 114
  },
  {
   "metadata": {
    "ExecuteTime": {
     "end_time": "2024-09-10T00:37:12.050310Z",
     "start_time": "2024-09-10T00:37:12.036496Z"
    }
   },
   "cell_type": "code",
   "source": "time_dict",
   "id": "930bf8b66131e1e2",
   "outputs": [
    {
     "data": {
      "text/plain": [
       "{'solver_lbfgs_iter_500_C_0.001': '00m02s'}"
      ]
     },
     "execution_count": 115,
     "metadata": {},
     "output_type": "execute_result"
    }
   ],
   "execution_count": 115
  },
  {
   "metadata": {
    "ExecuteTime": {
     "end_time": "2024-09-10T00:37:12.065574Z",
     "start_time": "2024-09-10T00:37:12.050310Z"
    }
   },
   "cell_type": "code",
   "source": "max_accuracy",
   "id": "22242ec5d140149",
   "outputs": [
    {
     "data": {
      "text/plain": [
       "('solver_lbfgs_iter_500_C_0.001', 0.4907)"
      ]
     },
     "execution_count": 116,
     "metadata": {},
     "output_type": "execute_result"
    }
   ],
   "execution_count": 116
  },
  {
   "metadata": {
    "ExecuteTime": {
     "end_time": "2024-09-10T00:37:12.090083Z",
     "start_time": "2024-09-10T00:37:12.065574Z"
    }
   },
   "cell_type": "code",
   "source": [
    "yhat = LR_best.predict(attribut_test)\n",
    "np.round(accuracy_score(result_test, yhat), 4)"
   ],
   "id": "b5b2bb58e4b984fd",
   "outputs": [
    {
     "data": {
      "text/plain": [
       "0.4907"
      ]
     },
     "execution_count": 117,
     "metadata": {},
     "output_type": "execute_result"
    }
   ],
   "execution_count": 117
  },
  {
   "metadata": {
    "ExecuteTime": {
     "end_time": "2024-09-10T00:37:12.100936Z",
     "start_time": "2024-09-10T00:37:12.090083Z"
    }
   },
   "cell_type": "code",
   "source": "yhat",
   "id": "3ed3eab92f32fdf7",
   "outputs": [
    {
     "data": {
      "text/plain": [
       "array([ 1,  1, -2, ..., -2, -1,  1])"
      ]
     },
     "execution_count": 118,
     "metadata": {},
     "output_type": "execute_result"
    }
   ],
   "execution_count": 118
  },
  {
   "metadata": {
    "ExecuteTime": {
     "end_time": "2024-09-10T00:37:12.394669Z",
     "start_time": "2024-09-10T00:37:12.100936Z"
    }
   },
   "cell_type": "code",
   "source": [
    "from sklearn.metrics import confusion_matrix, ConfusionMatrixDisplay\n",
    "\n",
    "cm = confusion_matrix(result_test, yhat)\n",
    "disp = ConfusionMatrixDisplay(confusion_matrix=cm,\n",
    "                              display_labels=[-2, -1, 1], )\n",
    "disp.plot(cmap=\"Blues\")"
   ],
   "id": "22c5519cd14097fe",
   "outputs": [
    {
     "data": {
      "text/plain": [
       "<sklearn.metrics._plot.confusion_matrix.ConfusionMatrixDisplay at 0x15be0ea2b70>"
      ]
     },
     "execution_count": 119,
     "metadata": {},
     "output_type": "execute_result"
    },
    {
     "data": {
      "text/plain": [
       "<Figure size 640x480 with 2 Axes>"
      ],
      "image/png": "[encoded data removed]"
     },
     "metadata": {},
     "output_type": "display_data"
    }
   ],
   "execution_count": 119
  },
  {
   "metadata": {
    "jupyter": {
     "is_executing": true
    },
    "ExecuteTime": {
     "start_time": "2024-09-10T00:37:12.394669Z"
    }
   },
   "cell_type": "code",
   "source": [
    "test_path_away = '../data/Test_Data/test_away_team_statistics_df.csv'\n",
    "test_path_home = '../data/Test_Data/test_home_team_statistics_df.csv'\n",
    "df_attribut_test = prepare_attribut_data(test_path_away, test_path_home,use_player_data=True,is_test=True)\n",
    "df_attribut_test_id_dropped=df_attribut_test.drop(['ID'], axis=1)\n",
    "if scaling:\n",
    "    df_attribut_test_id_dropped = scaler.transform(df_attribut_test_id_dropped)"
   ],
   "id": "75aafde0206d78fe",
   "outputs": [],
   "execution_count": null
  },
  {
   "metadata": {
    "jupyter": {
     "is_executing": true
    }
   },
   "cell_type": "code",
   "source": "df_attribut_test",
   "id": "baa9b07a6a5a6bbf",
   "outputs": [],
   "execution_count": null
  },
  {
   "metadata": {
    "jupyter": {
     "is_executing": true
    }
   },
   "cell_type": "code",
   "source": "yhat_test = LR_best.predict(df_attribut_test_id_dropped)",
   "id": "84284b9a293027ee",
   "outputs": [],
   "execution_count": null
  },
  {
   "metadata": {
    "jupyter": {
     "is_executing": true
    }
   },
   "cell_type": "code",
   "source": "y_pred_test = convert_to_one_hot(yhat_test)",
   "id": "795ff130e1f2494f",
   "outputs": [],
   "execution_count": null
  },
  {
   "metadata": {
    "jupyter": {
     "is_executing": true
    }
   },
   "cell_type": "code",
   "source": "test_prediction = pd.concat([df_attribut_test['ID'], y_pred_test], axis=1)",
   "id": "a3b356c57da6188c",
   "outputs": [],
   "execution_count": null
  },
  {
   "metadata": {
    "jupyter": {
     "is_executing": true
    }
   },
   "cell_type": "code",
   "source": "test_prediction.to_csv('../submission/logistic_benchmark_submission.csv', index=False)",
   "id": "b819e4fbc6750972",
   "outputs": [],
   "execution_count": null
  },
  {
   "metadata": {
    "jupyter": {
     "is_executing": true
    }
   },
   "cell_type": "code",
   "source": "",
   "id": "3d0e0700b4463703",
   "outputs": [],
   "execution_count": null
  }
 ],
 "metadata": {
  "kernelspec": {
   "display_name": "Python 3",
   "language": "python",
   "name": "python3"
  },
  "language_info": {
   "codemirror_mode": {
    "name": "ipython",
    "version": 2
   },
   "file_extension": ".py",
   "mimetype": "text/x-python",
   "name": "python",
   "nbconvert_exporter": "python",
   "pygments_lexer": "ipython2",
   "version": "2.7.6"
  }
 },
 "nbformat": 4,
 "nbformat_minor": 5
}
