{
 "cells": [
  {
   "cell_type": "code",
   "id": "initial_id",
   "metadata": {
    "collapsed": true,
    "ExecuteTime": {
     "end_time": "2024-07-02T01:27:24.502477Z",
     "start_time": "2024-07-02T01:27:24.498289Z"
    }
   },
   "source": [
    "import pandas as pd\n",
    "import numpy as np\n",
    "import matplotlib.pyplot as plt\n",
    "import itertools\n",
    "from sklearn.svm import SVC\n",
    "from sklearn.metrics import accuracy_score\n",
    "import operator\n",
    "from timeit import default_timer as timer\n",
    "from src.main import prepare_attribut_data, prepare_result_data\n",
    "from src.utils import convert_time\n",
    "from src.main import convert_to_one_hot\n",
    "from src.main import DRAW, HOME_WINS, AWAY_WINS\n"
   ],
   "outputs": [],
   "execution_count": 22
  },
  {
   "metadata": {
    "ExecuteTime": {
     "end_time": "2024-07-02T01:27:25.087395Z",
     "start_time": "2024-07-02T01:27:24.591908Z"
    }
   },
   "cell_type": "code",
   "source": [
    "train_path_away = '../data/Train_Data/train_away_team_statistics_df.csv'\n",
    "train_path_home = '../data/Train_Data/train_home_team_statistics_df.csv'\n",
    "train_path_result = '../data/Train_Data/Y_train.csv'\n",
    "df_attribut = prepare_attribut_data(train_path_away, train_path_home)\n",
    "df_result = prepare_result_data(train_path_result)"
   ],
   "id": "936aeb030361b46f",
   "outputs": [],
   "execution_count": 23
  },
  {
   "metadata": {
    "ExecuteTime": {
     "end_time": "2024-07-02T01:27:25.111823Z",
     "start_time": "2024-07-02T01:27:25.088403Z"
    }
   },
   "cell_type": "code",
   "source": "df_attribut.head()",
   "id": "4f65f00cf8e71c5d",
   "outputs": [
    {
     "data": {
      "text/plain": [
       "   ID  HOME_TEAM_SHOTS_TOTAL_season_sum  HOME_TEAM_SHOTS_INSIDEBOX_season_sum  \\\n",
       "0   0                               3.0                                   2.0   \n",
       "1   1                               6.0                                   8.0   \n",
       "2   2                               4.0                                   2.0   \n",
       "3   3                               7.0                                   5.0   \n",
       "4   4                               3.0                                   3.0   \n",
       "\n",
       "   HOME_TEAM_SHOTS_OFF_TARGET_season_sum  \\\n",
       "0                                    5.0   \n",
       "1                                    3.0   \n",
       "2                                    5.0   \n",
       "3                                    5.0   \n",
       "4                                    2.0   \n",
       "\n",
       "   HOME_TEAM_SHOTS_ON_TARGET_season_sum  \\\n",
       "0                                   2.0   \n",
       "1                                   6.0   \n",
       "2                                   2.0   \n",
       "3                                   6.0   \n",
       "4                                   3.0   \n",
       "\n",
       "   HOME_TEAM_SHOTS_OUTSIDEBOX_season_sum  HOME_TEAM_PASSES_season_sum  \\\n",
       "0                                    1.0                          2.0   \n",
       "1                                    5.0                          8.0   \n",
       "2                                    8.0                          1.0   \n",
       "3                                    6.0                          9.0   \n",
       "4                                    4.0                          4.0   \n",
       "\n",
       "   HOME_TEAM_SUCCESSFUL_PASSES_season_sum  HOME_TEAM_SAVES_season_sum  \\\n",
       "0                                     2.0                         5.0   \n",
       "1                                     7.0                        10.0   \n",
       "2                                     1.0                         2.0   \n",
       "3                                     9.0                         2.0   \n",
       "4                                     3.0                         4.0   \n",
       "\n",
       "   HOME_TEAM_CORNERS_season_sum  ...  AWAY_TEAM_YELLOWCARDS_5_last_match_std  \\\n",
       "0                           3.0  ...                                     5.0   \n",
       "1                           6.0  ...                                     0.0   \n",
       "2                           2.0  ...                                     6.0   \n",
       "3                           2.0  ...                                     0.0   \n",
       "4                           4.0  ...                                     1.0   \n",
       "\n",
       "   AWAY_TEAM_REDCARDS_5_last_match_std  AWAY_TEAM_OFFSIDES_5_last_match_std  \\\n",
       "0                                  5.0                                  4.0   \n",
       "1                                  0.0                                  3.0   \n",
       "2                                 10.0                                  4.0   \n",
       "3                                  0.0                                  1.0   \n",
       "4                                  0.0                                  4.0   \n",
       "\n",
       "   AWAY_TEAM_ATTACKS_5_last_match_std  AWAY_TEAM_PENALTIES_5_last_match_std  \\\n",
       "0                                 0.0                                   6.0   \n",
       "1                                 1.0                                   8.0   \n",
       "2                                 4.0                                   0.0   \n",
       "3                                 2.0                                   0.0   \n",
       "4                                 4.0                                   9.0   \n",
       "\n",
       "   AWAY_TEAM_SUBSTITUTIONS_5_last_match_std  \\\n",
       "0                                       8.0   \n",
       "1                                       4.0   \n",
       "2                                       8.0   \n",
       "3                                       5.0   \n",
       "4                                       4.0   \n",
       "\n",
       "   AWAY_TEAM_BALL_SAFE_5_last_match_std  \\\n",
       "0                                   4.0   \n",
       "1                                  10.0   \n",
       "2                                   3.0   \n",
       "3                                   6.0   \n",
       "4                                   1.0   \n",
       "\n",
       "   AWAY_TEAM_DANGEROUS_ATTACKS_5_last_match_std  \\\n",
       "0                                           3.0   \n",
       "1                                           0.0   \n",
       "2                                           0.0   \n",
       "3                                           3.0   \n",
       "4                                           4.0   \n",
       "\n",
       "   AWAY_TEAM_INJURIES_5_last_match_std  AWAY_TEAM_GOALS_5_last_match_std  \n",
       "0                                  2.0                               3.0  \n",
       "1                                  5.0                               3.0  \n",
       "2                                  9.0                               6.0  \n",
       "3                                  0.0                               2.0  \n",
       "4                                  6.0                               5.0  \n",
       "\n",
       "[5 rows x 281 columns]"
      ],
      "text/html": [
       "<div>\n",
       "<style scoped>\n",
       "    .dataframe tbody tr th:only-of-type {\n",
       "        vertical-align: middle;\n",
       "    }\n",
       "\n",
       "    .dataframe tbody tr th {\n",
       "        vertical-align: top;\n",
       "    }\n",
       "\n",
       "    .dataframe thead th {\n",
       "        text-align: right;\n",
       "    }\n",
       "</style>\n",
       "<table border=\"1\" class=\"dataframe\">\n",
       "  <thead>\n",
       "    <tr style=\"text-align: right;\">\n",
       "      <th></th>\n",
       "      <th>ID</th>\n",
       "      <th>HOME_TEAM_SHOTS_TOTAL_season_sum</th>\n",
       "      <th>HOME_TEAM_SHOTS_INSIDEBOX_season_sum</th>\n",
       "      <th>HOME_TEAM_SHOTS_OFF_TARGET_season_sum</th>\n",
       "      <th>HOME_TEAM_SHOTS_ON_TARGET_season_sum</th>\n",
       "      <th>HOME_TEAM_SHOTS_OUTSIDEBOX_season_sum</th>\n",
       "      <th>HOME_TEAM_PASSES_season_sum</th>\n",
       "      <th>HOME_TEAM_SUCCESSFUL_PASSES_season_sum</th>\n",
       "      <th>HOME_TEAM_SAVES_season_sum</th>\n",
       "      <th>HOME_TEAM_CORNERS_season_sum</th>\n",
       "      <th>...</th>\n",
       "      <th>AWAY_TEAM_YELLOWCARDS_5_last_match_std</th>\n",
       "      <th>AWAY_TEAM_REDCARDS_5_last_match_std</th>\n",
       "      <th>AWAY_TEAM_OFFSIDES_5_last_match_std</th>\n",
       "      <th>AWAY_TEAM_ATTACKS_5_last_match_std</th>\n",
       "      <th>AWAY_TEAM_PENALTIES_5_last_match_std</th>\n",
       "      <th>AWAY_TEAM_SUBSTITUTIONS_5_last_match_std</th>\n",
       "      <th>AWAY_TEAM_BALL_SAFE_5_last_match_std</th>\n",
       "      <th>AWAY_TEAM_DANGEROUS_ATTACKS_5_last_match_std</th>\n",
       "      <th>AWAY_TEAM_INJURIES_5_last_match_std</th>\n",
       "      <th>AWAY_TEAM_GOALS_5_last_match_std</th>\n",
       "    </tr>\n",
       "  </thead>\n",
       "  <tbody>\n",
       "    <tr>\n",
       "      <th>0</th>\n",
       "      <td>0</td>\n",
       "      <td>3.0</td>\n",
       "      <td>2.0</td>\n",
       "      <td>5.0</td>\n",
       "      <td>2.0</td>\n",
       "      <td>1.0</td>\n",
       "      <td>2.0</td>\n",
       "      <td>2.0</td>\n",
       "      <td>5.0</td>\n",
       "      <td>3.0</td>\n",
       "      <td>...</td>\n",
       "      <td>5.0</td>\n",
       "      <td>5.0</td>\n",
       "      <td>4.0</td>\n",
       "      <td>0.0</td>\n",
       "      <td>6.0</td>\n",
       "      <td>8.0</td>\n",
       "      <td>4.0</td>\n",
       "      <td>3.0</td>\n",
       "      <td>2.0</td>\n",
       "      <td>3.0</td>\n",
       "    </tr>\n",
       "    <tr>\n",
       "      <th>1</th>\n",
       "      <td>1</td>\n",
       "      <td>6.0</td>\n",
       "      <td>8.0</td>\n",
       "      <td>3.0</td>\n",
       "      <td>6.0</td>\n",
       "      <td>5.0</td>\n",
       "      <td>8.0</td>\n",
       "      <td>7.0</td>\n",
       "      <td>10.0</td>\n",
       "      <td>6.0</td>\n",
       "      <td>...</td>\n",
       "      <td>0.0</td>\n",
       "      <td>0.0</td>\n",
       "      <td>3.0</td>\n",
       "      <td>1.0</td>\n",
       "      <td>8.0</td>\n",
       "      <td>4.0</td>\n",
       "      <td>10.0</td>\n",
       "      <td>0.0</td>\n",
       "      <td>5.0</td>\n",
       "      <td>3.0</td>\n",
       "    </tr>\n",
       "    <tr>\n",
       "      <th>2</th>\n",
       "      <td>2</td>\n",
       "      <td>4.0</td>\n",
       "      <td>2.0</td>\n",
       "      <td>5.0</td>\n",
       "      <td>2.0</td>\n",
       "      <td>8.0</td>\n",
       "      <td>1.0</td>\n",
       "      <td>1.0</td>\n",
       "      <td>2.0</td>\n",
       "      <td>2.0</td>\n",
       "      <td>...</td>\n",
       "      <td>6.0</td>\n",
       "      <td>10.0</td>\n",
       "      <td>4.0</td>\n",
       "      <td>4.0</td>\n",
       "      <td>0.0</td>\n",
       "      <td>8.0</td>\n",
       "      <td>3.0</td>\n",
       "      <td>0.0</td>\n",
       "      <td>9.0</td>\n",
       "      <td>6.0</td>\n",
       "    </tr>\n",
       "    <tr>\n",
       "      <th>3</th>\n",
       "      <td>3</td>\n",
       "      <td>7.0</td>\n",
       "      <td>5.0</td>\n",
       "      <td>5.0</td>\n",
       "      <td>6.0</td>\n",
       "      <td>6.0</td>\n",
       "      <td>9.0</td>\n",
       "      <td>9.0</td>\n",
       "      <td>2.0</td>\n",
       "      <td>2.0</td>\n",
       "      <td>...</td>\n",
       "      <td>0.0</td>\n",
       "      <td>0.0</td>\n",
       "      <td>1.0</td>\n",
       "      <td>2.0</td>\n",
       "      <td>0.0</td>\n",
       "      <td>5.0</td>\n",
       "      <td>6.0</td>\n",
       "      <td>3.0</td>\n",
       "      <td>0.0</td>\n",
       "      <td>2.0</td>\n",
       "    </tr>\n",
       "    <tr>\n",
       "      <th>4</th>\n",
       "      <td>4</td>\n",
       "      <td>3.0</td>\n",
       "      <td>3.0</td>\n",
       "      <td>2.0</td>\n",
       "      <td>3.0</td>\n",
       "      <td>4.0</td>\n",
       "      <td>4.0</td>\n",
       "      <td>3.0</td>\n",
       "      <td>4.0</td>\n",
       "      <td>4.0</td>\n",
       "      <td>...</td>\n",
       "      <td>1.0</td>\n",
       "      <td>0.0</td>\n",
       "      <td>4.0</td>\n",
       "      <td>4.0</td>\n",
       "      <td>9.0</td>\n",
       "      <td>4.0</td>\n",
       "      <td>1.0</td>\n",
       "      <td>4.0</td>\n",
       "      <td>6.0</td>\n",
       "      <td>5.0</td>\n",
       "    </tr>\n",
       "  </tbody>\n",
       "</table>\n",
       "<p>5 rows × 281 columns</p>\n",
       "</div>"
      ]
     },
     "execution_count": 24,
     "metadata": {},
     "output_type": "execute_result"
    }
   ],
   "execution_count": 24
  },
  {
   "metadata": {
    "ExecuteTime": {
     "end_time": "2024-07-02T01:27:25.122306Z",
     "start_time": "2024-07-02T01:27:25.112833Z"
    }
   },
   "cell_type": "code",
   "source": "df_result.head()",
   "id": "3870506f13909db1",
   "outputs": [
    {
     "data": {
      "text/plain": [
       "   result\n",
       "0      -2\n",
       "1      -1\n",
       "2      -2\n",
       "3       1\n",
       "4      -1"
      ],
      "text/html": [
       "<div>\n",
       "<style scoped>\n",
       "    .dataframe tbody tr th:only-of-type {\n",
       "        vertical-align: middle;\n",
       "    }\n",
       "\n",
       "    .dataframe tbody tr th {\n",
       "        vertical-align: top;\n",
       "    }\n",
       "\n",
       "    .dataframe thead th {\n",
       "        text-align: right;\n",
       "    }\n",
       "</style>\n",
       "<table border=\"1\" class=\"dataframe\">\n",
       "  <thead>\n",
       "    <tr style=\"text-align: right;\">\n",
       "      <th></th>\n",
       "      <th>result</th>\n",
       "    </tr>\n",
       "  </thead>\n",
       "  <tbody>\n",
       "    <tr>\n",
       "      <th>0</th>\n",
       "      <td>-2</td>\n",
       "    </tr>\n",
       "    <tr>\n",
       "      <th>1</th>\n",
       "      <td>-1</td>\n",
       "    </tr>\n",
       "    <tr>\n",
       "      <th>2</th>\n",
       "      <td>-2</td>\n",
       "    </tr>\n",
       "    <tr>\n",
       "      <th>3</th>\n",
       "      <td>1</td>\n",
       "    </tr>\n",
       "    <tr>\n",
       "      <th>4</th>\n",
       "      <td>-1</td>\n",
       "    </tr>\n",
       "  </tbody>\n",
       "</table>\n",
       "</div>"
      ]
     },
     "execution_count": 25,
     "metadata": {},
     "output_type": "execute_result"
    }
   ],
   "execution_count": 25
  },
  {
   "metadata": {
    "ExecuteTime": {
     "end_time": "2024-07-02T01:27:25.155835Z",
     "start_time": "2024-07-02T01:27:25.125322Z"
    }
   },
   "cell_type": "code",
   "source": [
    "from sklearn.model_selection import train_test_split\n",
    "\n",
    "attribut_train, attribut_test, result_train, result_test = train_test_split(df_attribut, df_result, test_size=0.1,\n",
    "                                                                            random_state=10)\n"
   ],
   "id": "3e4f6c2128e448d5",
   "outputs": [],
   "execution_count": 26
  },
  {
   "metadata": {
    "ExecuteTime": {
     "end_time": "2024-07-02T01:38:02.614585Z",
     "start_time": "2024-07-02T01:37:52.040958Z"
    }
   },
   "cell_type": "code",
   "source": [
    "\n",
    "\n",
    "\n",
    "max_iter_list = [1000]\n",
    "solver_list = [ 'poly']\n",
    "regularization_factor_list = [ 0.001]\n",
    "accuracy_dict = {}\n",
    "time_dict = {}\n",
    "svm_dict = {}\n",
    "for max_iter in max_iter_list:\n",
    "    for solver in solver_list:\n",
    "        for regularization_factor in regularization_factor_list:\n",
    "            start = timer()\n",
    "\n",
    "            svm = SVC(max_iter=max_iter,degree=20, kernel=solver, C=regularization_factor).fit(attribut_train, result_train)\n",
    "            \n",
    "            yhat = svm.predict(attribut_test)\n",
    "            accuracy = np.round(accuracy_score(result_test, yhat), 4)\n",
    "            \n",
    "            key = f'solver_{solver}_iter_{max_iter}_C_{regularization_factor}'\n",
    "            accuracy_dict[key] = accuracy\n",
    "            svm_dict[key] = svm\n",
    "            end = timer()\n",
    "            time_dict[key] = convert_time(start,end)\n",
    "\n"
   ],
   "id": "213dc7eca8e0fe7e",
   "outputs": [
    {
     "name": "stderr",
     "output_type": "stream",
     "text": [
      "C:\\Users\\pc\\AppData\\Local\\Programs\\Python\\Python312\\Lib\\site-packages\\sklearn\\utils\\validation.py:1310: DataConversionWarning: A column-vector y was passed when a 1d array was expected. Please change the shape of y to (n_samples, ), for example using ravel().\n",
      "  y = column_or_1d(y, warn=True)\n",
      "C:\\Users\\pc\\AppData\\Local\\Programs\\Python\\Python312\\Lib\\site-packages\\sklearn\\svm\\_base.py:297: ConvergenceWarning: Solver terminated early (max_iter=1000).  Consider pre-processing your data with StandardScaler or MinMaxScaler.\n",
      "  warnings.warn(\n"
     ]
    }
   ],
   "execution_count": 53
  },
  {
   "metadata": {
    "ExecuteTime": {
     "end_time": "2024-07-02T01:38:02.621483Z",
     "start_time": "2024-07-02T01:38:02.615592Z"
    }
   },
   "cell_type": "code",
   "source": "accuracy_dict",
   "id": "f709831d395b7177",
   "outputs": [
    {
     "data": {
      "text/plain": [
       "{'solver_poly_iter_1000_C_0.001': 0.4525}"
      ]
     },
     "execution_count": 54,
     "metadata": {},
     "output_type": "execute_result"
    }
   ],
   "execution_count": 54
  },
  {
   "metadata": {
    "ExecuteTime": {
     "end_time": "2024-07-02T01:38:02.634492Z",
     "start_time": "2024-07-02T01:38:02.622497Z"
    }
   },
   "cell_type": "code",
   "source": "time_dict",
   "id": "930bf8b66131e1e2",
   "outputs": [
    {
     "data": {
      "text/plain": [
       "{'solver_poly_iter_1000_C_0.001': '00m11s'}"
      ]
     },
     "execution_count": 55,
     "metadata": {},
     "output_type": "execute_result"
    }
   ],
   "execution_count": 55
  },
  {
   "metadata": {
    "ExecuteTime": {
     "end_time": "2024-07-02T01:38:02.645990Z",
     "start_time": "2024-07-02T01:38:02.637503Z"
    }
   },
   "cell_type": "code",
   "source": [
    "max_accuracy = max(accuracy_dict.items(), key=operator.itemgetter(1))\n",
    "best_svm= svm_dict[max_accuracy[0]]"
   ],
   "id": "61474f3ec6e33d54",
   "outputs": [],
   "execution_count": 56
  },
  {
   "metadata": {
    "ExecuteTime": {
     "end_time": "2024-07-02T01:38:02.657522Z",
     "start_time": "2024-07-02T01:38:02.647Z"
    }
   },
   "cell_type": "code",
   "source": "max_accuracy",
   "id": "22242ec5d140149",
   "outputs": [
    {
     "data": {
      "text/plain": [
       "('solver_poly_iter_1000_C_0.001', 0.4525)"
      ]
     },
     "execution_count": 57,
     "metadata": {},
     "output_type": "execute_result"
    }
   ],
   "execution_count": 57
  },
  {
   "metadata": {
    "ExecuteTime": {
     "end_time": "2024-07-02T01:38:03.232029Z",
     "start_time": "2024-07-02T01:38:02.658533Z"
    }
   },
   "cell_type": "code",
   "source": [
    "yhat = best_svm.predict(attribut_test)\n",
    "np.round(accuracy_score(result_test, yhat), 4)"
   ],
   "id": "b5b2bb58e4b984fd",
   "outputs": [
    {
     "data": {
      "text/plain": [
       "0.4525"
      ]
     },
     "execution_count": 58,
     "metadata": {},
     "output_type": "execute_result"
    }
   ],
   "execution_count": 58
  },
  {
   "metadata": {
    "ExecuteTime": {
     "end_time": "2024-07-02T01:38:03.238083Z",
     "start_time": "2024-07-02T01:38:03.233040Z"
    }
   },
   "cell_type": "code",
   "source": "yhat",
   "id": "3ed3eab92f32fdf7",
   "outputs": [
    {
     "data": {
      "text/plain": [
       "array([1, 1, 1, ..., 1, 1, 1])"
      ]
     },
     "execution_count": 59,
     "metadata": {},
     "output_type": "execute_result"
    }
   ],
   "execution_count": 59
  },
  {
   "metadata": {
    "ExecuteTime": {
     "end_time": "2024-07-02T01:38:03.439911Z",
     "start_time": "2024-07-02T01:38:03.239095Z"
    }
   },
   "cell_type": "code",
   "source": [
    "from sklearn.metrics import confusion_matrix, ConfusionMatrixDisplay\n",
    "\n",
    "cm = confusion_matrix(result_test, yhat)\n",
    "disp = ConfusionMatrixDisplay(confusion_matrix=cm,\n",
    "                              display_labels=[AWAY_WINS, DRAW, HOME_WINS], )\n",
    "disp.plot(cmap=\"Blues\")"
   ],
   "id": "22c5519cd14097fe",
   "outputs": [
    {
     "data": {
      "text/plain": [
       "<sklearn.metrics._plot.confusion_matrix.ConfusionMatrixDisplay at 0x12e02e3ef90>"
      ]
     },
     "execution_count": 60,
     "metadata": {},
     "output_type": "execute_result"
    },
    {
     "data": {
      "text/plain": [
       "<Figure size 640x480 with 2 Axes>"
      ],
      "image/png": "[encoded data removed]"
     },
     "metadata": {},
     "output_type": "display_data"
    }
   ],
   "execution_count": 60
  },
  {
   "metadata": {
    "ExecuteTime": {
     "end_time": "2024-07-02T01:38:04.088709Z",
     "start_time": "2024-07-02T01:38:03.440921Z"
    }
   },
   "cell_type": "code",
   "source": [
    "test_path_away = '../data/Test_Data/test_away_team_statistics_df.csv'\n",
    "test_path_home = '../data/Test_Data/test_home_team_statistics_df.csv'\n",
    "df_attribut_test = prepare_attribut_data(test_path_away, test_path_home,is_test=True)"
   ],
   "id": "75aafde0206d78fe",
   "outputs": [],
   "execution_count": 61
  },
  {
   "metadata": {
    "ExecuteTime": {
     "end_time": "2024-07-02T01:38:04.112386Z",
     "start_time": "2024-07-02T01:38:04.090755Z"
    }
   },
   "cell_type": "code",
   "source": "df_attribut_test.head()",
   "id": "63782e04b7a62723",
   "outputs": [
    {
     "data": {
      "text/plain": [
       "      ID  HOME_TEAM_SHOTS_TOTAL_season_sum  \\\n",
       "0  12303                               3.0   \n",
       "1  12304                               3.0   \n",
       "2  12305                               7.0   \n",
       "3  12306                               5.0   \n",
       "4  12307                               5.0   \n",
       "\n",
       "   HOME_TEAM_SHOTS_INSIDEBOX_season_sum  \\\n",
       "0                                   6.0   \n",
       "1                                   2.0   \n",
       "2                                  10.0   \n",
       "3                                   7.0   \n",
       "4                                   4.0   \n",
       "\n",
       "   HOME_TEAM_SHOTS_OFF_TARGET_season_sum  \\\n",
       "0                                    5.0   \n",
       "1                                    4.0   \n",
       "2                                    8.0   \n",
       "3                                    5.0   \n",
       "4                                    6.0   \n",
       "\n",
       "   HOME_TEAM_SHOTS_ON_TARGET_season_sum  \\\n",
       "0                                   1.0   \n",
       "1                                   2.0   \n",
       "2                                   8.0   \n",
       "3                                   9.0   \n",
       "4                                   3.0   \n",
       "\n",
       "   HOME_TEAM_SHOTS_OUTSIDEBOX_season_sum  HOME_TEAM_PASSES_season_sum  \\\n",
       "0                                    3.0                          9.0   \n",
       "1                                    6.0                          1.0   \n",
       "2                                    1.0                          4.0   \n",
       "3                                    5.0                          7.0   \n",
       "4                                    5.0                          0.0   \n",
       "\n",
       "   HOME_TEAM_SUCCESSFUL_PASSES_season_sum  HOME_TEAM_SAVES_season_sum  \\\n",
       "0                                     8.0                        10.0   \n",
       "1                                     1.0                         2.0   \n",
       "2                                     5.0                         0.0   \n",
       "3                                     6.0                         3.0   \n",
       "4                                     0.0                         2.0   \n",
       "\n",
       "   HOME_TEAM_CORNERS_season_sum  ...  AWAY_TEAM_YELLOWCARDS_5_last_match_std  \\\n",
       "0                           6.0  ...                                     6.0   \n",
       "1                           4.0  ...                                     0.0   \n",
       "2                          10.0  ...                                    10.0   \n",
       "3                           5.0  ...                                     1.0   \n",
       "4                           2.0  ...                                     3.0   \n",
       "\n",
       "   AWAY_TEAM_REDCARDS_5_last_match_std  AWAY_TEAM_OFFSIDES_5_last_match_std  \\\n",
       "0                                  0.0                                  1.0   \n",
       "1                                  0.0                                  3.0   \n",
       "2                                  0.0                                  0.0   \n",
       "3                                  5.0                                  4.0   \n",
       "4                                  0.0                                  6.0   \n",
       "\n",
       "   AWAY_TEAM_ATTACKS_5_last_match_std  AWAY_TEAM_PENALTIES_5_last_match_std  \\\n",
       "0                                 4.0                                   0.0   \n",
       "1                                 6.0                                   8.0   \n",
       "2                                 2.0                                   0.0   \n",
       "3                                 5.0                                  10.0   \n",
       "4                                 5.0                                   0.0   \n",
       "\n",
       "   AWAY_TEAM_SUBSTITUTIONS_5_last_match_std  \\\n",
       "0                                       8.0   \n",
       "1                                       5.0   \n",
       "2                                       4.0   \n",
       "3                                       9.0   \n",
       "4                                       4.0   \n",
       "\n",
       "   AWAY_TEAM_BALL_SAFE_5_last_match_std  \\\n",
       "0                                   7.0   \n",
       "1                                   1.0   \n",
       "2                                   2.0   \n",
       "3                                   6.0   \n",
       "4                                   3.0   \n",
       "\n",
       "   AWAY_TEAM_DANGEROUS_ATTACKS_5_last_match_std  \\\n",
       "0                                           2.0   \n",
       "1                                           1.0   \n",
       "2                                           3.0   \n",
       "3                                           9.0   \n",
       "4                                          10.0   \n",
       "\n",
       "   AWAY_TEAM_INJURIES_5_last_match_std  AWAY_TEAM_GOALS_5_last_match_std  \n",
       "0                                  7.0                               0.0  \n",
       "1                                  7.0                               9.0  \n",
       "2                                  0.0                               9.0  \n",
       "3                                  7.0                               3.0  \n",
       "4                                  3.0                               1.0  \n",
       "\n",
       "[5 rows x 281 columns]"
      ],
      "text/html": [
       "<div>\n",
       "<style scoped>\n",
       "    .dataframe tbody tr th:only-of-type {\n",
       "        vertical-align: middle;\n",
       "    }\n",
       "\n",
       "    .dataframe tbody tr th {\n",
       "        vertical-align: top;\n",
       "    }\n",
       "\n",
       "    .dataframe thead th {\n",
       "        text-align: right;\n",
       "    }\n",
       "</style>\n",
       "<table border=\"1\" class=\"dataframe\">\n",
       "  <thead>\n",
       "    <tr style=\"text-align: right;\">\n",
       "      <th></th>\n",
       "      <th>ID</th>\n",
       "      <th>HOME_TEAM_SHOTS_TOTAL_season_sum</th>\n",
       "      <th>HOME_TEAM_SHOTS_INSIDEBOX_season_sum</th>\n",
       "      <th>HOME_TEAM_SHOTS_OFF_TARGET_season_sum</th>\n",
       "      <th>HOME_TEAM_SHOTS_ON_TARGET_season_sum</th>\n",
       "      <th>HOME_TEAM_SHOTS_OUTSIDEBOX_season_sum</th>\n",
       "      <th>HOME_TEAM_PASSES_season_sum</th>\n",
       "      <th>HOME_TEAM_SUCCESSFUL_PASSES_season_sum</th>\n",
       "      <th>HOME_TEAM_SAVES_season_sum</th>\n",
       "      <th>HOME_TEAM_CORNERS_season_sum</th>\n",
       "      <th>...</th>\n",
       "      <th>AWAY_TEAM_YELLOWCARDS_5_last_match_std</th>\n",
       "      <th>AWAY_TEAM_REDCARDS_5_last_match_std</th>\n",
       "      <th>AWAY_TEAM_OFFSIDES_5_last_match_std</th>\n",
       "      <th>AWAY_TEAM_ATTACKS_5_last_match_std</th>\n",
       "      <th>AWAY_TEAM_PENALTIES_5_last_match_std</th>\n",
       "      <th>AWAY_TEAM_SUBSTITUTIONS_5_last_match_std</th>\n",
       "      <th>AWAY_TEAM_BALL_SAFE_5_last_match_std</th>\n",
       "      <th>AWAY_TEAM_DANGEROUS_ATTACKS_5_last_match_std</th>\n",
       "      <th>AWAY_TEAM_INJURIES_5_last_match_std</th>\n",
       "      <th>AWAY_TEAM_GOALS_5_last_match_std</th>\n",
       "    </tr>\n",
       "  </thead>\n",
       "  <tbody>\n",
       "    <tr>\n",
       "      <th>0</th>\n",
       "      <td>12303</td>\n",
       "      <td>3.0</td>\n",
       "      <td>6.0</td>\n",
       "      <td>5.0</td>\n",
       "      <td>1.0</td>\n",
       "      <td>3.0</td>\n",
       "      <td>9.0</td>\n",
       "      <td>8.0</td>\n",
       "      <td>10.0</td>\n",
       "      <td>6.0</td>\n",
       "      <td>...</td>\n",
       "      <td>6.0</td>\n",
       "      <td>0.0</td>\n",
       "      <td>1.0</td>\n",
       "      <td>4.0</td>\n",
       "      <td>0.0</td>\n",
       "      <td>8.0</td>\n",
       "      <td>7.0</td>\n",
       "      <td>2.0</td>\n",
       "      <td>7.0</td>\n",
       "      <td>0.0</td>\n",
       "    </tr>\n",
       "    <tr>\n",
       "      <th>1</th>\n",
       "      <td>12304</td>\n",
       "      <td>3.0</td>\n",
       "      <td>2.0</td>\n",
       "      <td>4.0</td>\n",
       "      <td>2.0</td>\n",
       "      <td>6.0</td>\n",
       "      <td>1.0</td>\n",
       "      <td>1.0</td>\n",
       "      <td>2.0</td>\n",
       "      <td>4.0</td>\n",
       "      <td>...</td>\n",
       "      <td>0.0</td>\n",
       "      <td>0.0</td>\n",
       "      <td>3.0</td>\n",
       "      <td>6.0</td>\n",
       "      <td>8.0</td>\n",
       "      <td>5.0</td>\n",
       "      <td>1.0</td>\n",
       "      <td>1.0</td>\n",
       "      <td>7.0</td>\n",
       "      <td>9.0</td>\n",
       "    </tr>\n",
       "    <tr>\n",
       "      <th>2</th>\n",
       "      <td>12305</td>\n",
       "      <td>7.0</td>\n",
       "      <td>10.0</td>\n",
       "      <td>8.0</td>\n",
       "      <td>8.0</td>\n",
       "      <td>1.0</td>\n",
       "      <td>4.0</td>\n",
       "      <td>5.0</td>\n",
       "      <td>0.0</td>\n",
       "      <td>10.0</td>\n",
       "      <td>...</td>\n",
       "      <td>10.0</td>\n",
       "      <td>0.0</td>\n",
       "      <td>0.0</td>\n",
       "      <td>2.0</td>\n",
       "      <td>0.0</td>\n",
       "      <td>4.0</td>\n",
       "      <td>2.0</td>\n",
       "      <td>3.0</td>\n",
       "      <td>0.0</td>\n",
       "      <td>9.0</td>\n",
       "    </tr>\n",
       "    <tr>\n",
       "      <th>3</th>\n",
       "      <td>12306</td>\n",
       "      <td>5.0</td>\n",
       "      <td>7.0</td>\n",
       "      <td>5.0</td>\n",
       "      <td>9.0</td>\n",
       "      <td>5.0</td>\n",
       "      <td>7.0</td>\n",
       "      <td>6.0</td>\n",
       "      <td>3.0</td>\n",
       "      <td>5.0</td>\n",
       "      <td>...</td>\n",
       "      <td>1.0</td>\n",
       "      <td>5.0</td>\n",
       "      <td>4.0</td>\n",
       "      <td>5.0</td>\n",
       "      <td>10.0</td>\n",
       "      <td>9.0</td>\n",
       "      <td>6.0</td>\n",
       "      <td>9.0</td>\n",
       "      <td>7.0</td>\n",
       "      <td>3.0</td>\n",
       "    </tr>\n",
       "    <tr>\n",
       "      <th>4</th>\n",
       "      <td>12307</td>\n",
       "      <td>5.0</td>\n",
       "      <td>4.0</td>\n",
       "      <td>6.0</td>\n",
       "      <td>3.0</td>\n",
       "      <td>5.0</td>\n",
       "      <td>0.0</td>\n",
       "      <td>0.0</td>\n",
       "      <td>2.0</td>\n",
       "      <td>2.0</td>\n",
       "      <td>...</td>\n",
       "      <td>3.0</td>\n",
       "      <td>0.0</td>\n",
       "      <td>6.0</td>\n",
       "      <td>5.0</td>\n",
       "      <td>0.0</td>\n",
       "      <td>4.0</td>\n",
       "      <td>3.0</td>\n",
       "      <td>10.0</td>\n",
       "      <td>3.0</td>\n",
       "      <td>1.0</td>\n",
       "    </tr>\n",
       "  </tbody>\n",
       "</table>\n",
       "<p>5 rows × 281 columns</p>\n",
       "</div>"
      ]
     },
     "execution_count": 62,
     "metadata": {},
     "output_type": "execute_result"
    }
   ],
   "execution_count": 62
  },
  {
   "metadata": {
    "ExecuteTime": {
     "end_time": "2024-07-02T01:38:15.893071Z",
     "start_time": "2024-07-02T01:38:04.113398Z"
    }
   },
   "cell_type": "code",
   "source": "yhat_test = best_svm.predict(df_attribut_test)\n",
   "id": "84284b9a293027ee",
   "outputs": [],
   "execution_count": 63
  },
  {
   "metadata": {
    "ExecuteTime": {
     "end_time": "2024-07-02T01:38:15.903850Z",
     "start_time": "2024-07-02T01:38:15.894083Z"
    }
   },
   "cell_type": "code",
   "source": [
    "y_pred_test = pd.DataFrame(yhat_test)\n",
    "y_pred_test = convert_to_one_hot(yhat_test)"
   ],
   "id": "795ff130e1f2494f",
   "outputs": [],
   "execution_count": 64
  },
  {
   "metadata": {
    "ExecuteTime": {
     "end_time": "2024-07-02T01:38:15.916325Z",
     "start_time": "2024-07-02T01:38:15.904862Z"
    }
   },
   "cell_type": "code",
   "source": "y_pred_test",
   "id": "c5701de07f6d41f4",
   "outputs": [
    {
     "data": {
      "text/plain": [
       "       HOME_WINS  DRAW  AWAY_WINS\n",
       "0              0     0          1\n",
       "1              0     0          1\n",
       "2              0     0          1\n",
       "3              0     0          1\n",
       "4              0     0          1\n",
       "...          ...   ...        ...\n",
       "25363          0     0          1\n",
       "25364          0     0          1\n",
       "25365          0     0          1\n",
       "25366          0     0          1\n",
       "25367          0     0          1\n",
       "\n",
       "[25368 rows x 3 columns]"
      ],
      "text/html": [
       "<div>\n",
       "<style scoped>\n",
       "    .dataframe tbody tr th:only-of-type {\n",
       "        vertical-align: middle;\n",
       "    }\n",
       "\n",
       "    .dataframe tbody tr th {\n",
       "        vertical-align: top;\n",
       "    }\n",
       "\n",
       "    .dataframe thead th {\n",
       "        text-align: right;\n",
       "    }\n",
       "</style>\n",
       "<table border=\"1\" class=\"dataframe\">\n",
       "  <thead>\n",
       "    <tr style=\"text-align: right;\">\n",
       "      <th></th>\n",
       "      <th>HOME_WINS</th>\n",
       "      <th>DRAW</th>\n",
       "      <th>AWAY_WINS</th>\n",
       "    </tr>\n",
       "  </thead>\n",
       "  <tbody>\n",
       "    <tr>\n",
       "      <th>0</th>\n",
       "      <td>0</td>\n",
       "      <td>0</td>\n",
       "      <td>1</td>\n",
       "    </tr>\n",
       "    <tr>\n",
       "      <th>1</th>\n",
       "      <td>0</td>\n",
       "      <td>0</td>\n",
       "      <td>1</td>\n",
       "    </tr>\n",
       "    <tr>\n",
       "      <th>2</th>\n",
       "      <td>0</td>\n",
       "      <td>0</td>\n",
       "      <td>1</td>\n",
       "    </tr>\n",
       "    <tr>\n",
       "      <th>3</th>\n",
       "      <td>0</td>\n",
       "      <td>0</td>\n",
       "      <td>1</td>\n",
       "    </tr>\n",
       "    <tr>\n",
       "      <th>4</th>\n",
       "      <td>0</td>\n",
       "      <td>0</td>\n",
       "      <td>1</td>\n",
       "    </tr>\n",
       "    <tr>\n",
       "      <th>...</th>\n",
       "      <td>...</td>\n",
       "      <td>...</td>\n",
       "      <td>...</td>\n",
       "    </tr>\n",
       "    <tr>\n",
       "      <th>25363</th>\n",
       "      <td>0</td>\n",
       "      <td>0</td>\n",
       "      <td>1</td>\n",
       "    </tr>\n",
       "    <tr>\n",
       "      <th>25364</th>\n",
       "      <td>0</td>\n",
       "      <td>0</td>\n",
       "      <td>1</td>\n",
       "    </tr>\n",
       "    <tr>\n",
       "      <th>25365</th>\n",
       "      <td>0</td>\n",
       "      <td>0</td>\n",
       "      <td>1</td>\n",
       "    </tr>\n",
       "    <tr>\n",
       "      <th>25366</th>\n",
       "      <td>0</td>\n",
       "      <td>0</td>\n",
       "      <td>1</td>\n",
       "    </tr>\n",
       "    <tr>\n",
       "      <th>25367</th>\n",
       "      <td>0</td>\n",
       "      <td>0</td>\n",
       "      <td>1</td>\n",
       "    </tr>\n",
       "  </tbody>\n",
       "</table>\n",
       "<p>25368 rows × 3 columns</p>\n",
       "</div>"
      ]
     },
     "execution_count": 65,
     "metadata": {},
     "output_type": "execute_result"
    }
   ],
   "execution_count": 65
  },
  {
   "metadata": {
    "ExecuteTime": {
     "end_time": "2024-07-02T01:38:15.926746Z",
     "start_time": "2024-07-02T01:38:15.918341Z"
    }
   },
   "cell_type": "code",
   "source": "test_prediction = pd.concat([df_attribut_test['ID'], y_pred_test], axis=1)",
   "id": "a3b356c57da6188c",
   "outputs": [],
   "execution_count": 66
  },
  {
   "metadata": {
    "ExecuteTime": {
     "end_time": "2024-07-02T01:38:16.045378Z",
     "start_time": "2024-07-02T01:38:15.927759Z"
    }
   },
   "cell_type": "code",
   "source": "test_prediction.to_csv('../submission/svm_benchmark_submission.csv', index=False)",
   "id": "b819e4fbc6750972",
   "outputs": [],
   "execution_count": 67
  },
  {
   "metadata": {
    "ExecuteTime": {
     "end_time": "2024-07-02T01:38:16.050473Z",
     "start_time": "2024-07-02T01:38:16.046386Z"
    }
   },
   "cell_type": "code",
   "source": "",
   "id": "3d0e0700b4463703",
   "outputs": [],
   "execution_count": 67
  }
 ],
 "metadata": {
  "kernelspec": {
   "display_name": "Python 3",
   "language": "python",
   "name": "python3"
  },
  "language_info": {
   "codemirror_mode": {
    "name": "ipython",
    "version": 2
   },
   "file_extension": ".py",
   "mimetype": "text/x-python",
   "name": "python",
   "nbconvert_exporter": "python",
   "pygments_lexer": "ipython2",
   "version": "2.7.6"
  }
 },
 "nbformat": 4,
 "nbformat_minor": 5
}
