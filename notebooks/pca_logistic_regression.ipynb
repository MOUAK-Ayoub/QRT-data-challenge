{
 "cells": [
  {
   "cell_type": "code",
   "id": "initial_id",
   "metadata": {
    "collapsed": true,
    "ExecuteTime": {
     "end_time": "2024-06-29T20:05:14.888530Z",
     "start_time": "2024-06-29T20:05:14.880514Z"
    }
   },
   "source": [
    "import pandas as pd\n",
    "import numpy  as np\n",
    "import operator\n",
    "\n",
    "import matplotlib.pyplot as plt\n",
    "import itertools    \n",
    "import seaborn as sns\n",
    "sns.set_style('darkgrid')\n",
    "from sklearn.model_selection import train_test_split\n",
    "from sklearn.metrics import accuracy_score\n",
    "from src.main import prepare_attribut_data, prepare_result_data\n",
    "from src.main import convert_to_one_hot\n",
    "\n",
    "from sklearn.decomposition import PCA"
   ],
   "outputs": [],
   "execution_count": 110
  },
  {
   "metadata": {
    "ExecuteTime": {
     "end_time": "2024-06-29T20:05:15.436535Z",
     "start_time": "2024-06-29T20:05:14.955436Z"
    }
   },
   "cell_type": "code",
   "source": [
    "train_path_away = '../data/Train_Data/train_away_team_statistics_df.csv'\n",
    "train_path_home = '../data/Train_Data/train_home_team_statistics_df.csv'\n",
    "train_path_result = '../data/Train_Data/Y_train.csv'\n",
    "df_attribut = prepare_attribut_data(train_path_away, train_path_home)\n",
    "df_result = prepare_result_data(train_path_result)"
   ],
   "id": "fd97cf601c017cf5",
   "outputs": [],
   "execution_count": 111
  },
  {
   "metadata": {
    "ExecuteTime": {
     "end_time": "2024-06-29T20:05:15.462386Z",
     "start_time": "2024-06-29T20:05:15.438546Z"
    }
   },
   "cell_type": "code",
   "source": "df_attribut.head()",
   "id": "445d0106754dbb7b",
   "outputs": [
    {
     "data": {
      "text/plain": [
       "   ID  TEAM_SHOTS_TOTAL_season_sum  TEAM_SHOTS_INSIDEBOX_season_sum  \\\n",
       "0   0                          4.0                              1.0   \n",
       "1   1                          4.0                              3.0   \n",
       "2   2                          4.0                              3.0   \n",
       "3   3                          0.0                              0.0   \n",
       "4   4                          5.0                              4.0   \n",
       "\n",
       "   TEAM_SHOTS_OFF_TARGET_season_sum  TEAM_SHOTS_ON_TARGET_season_sum  \\\n",
       "0                               4.0                              1.0   \n",
       "1                               4.0                              3.0   \n",
       "2                               4.0                              2.0   \n",
       "3                               0.0                              0.0   \n",
       "4                               5.0                              6.0   \n",
       "\n",
       "   TEAM_SHOTS_OUTSIDEBOX_season_sum  TEAM_PASSES_season_sum  \\\n",
       "0                               5.0                     4.0   \n",
       "1                               8.0                     8.0   \n",
       "2                               6.0                     4.0   \n",
       "3                               1.0                     3.0   \n",
       "4                               5.0                     6.0   \n",
       "\n",
       "   TEAM_SUCCESSFUL_PASSES_season_sum  TEAM_SAVES_season_sum  \\\n",
       "0                                3.0                    6.0   \n",
       "1                                7.0                    8.0   \n",
       "2                                4.0                    1.0   \n",
       "3                                3.0                    8.0   \n",
       "4                                6.0                    4.0   \n",
       "\n",
       "   TEAM_CORNERS_season_sum  ...  HOME_TEAM_YELLOWCARDS_5_last_match_std  \\\n",
       "0                      4.0  ...                                     3.0   \n",
       "1                      5.0  ...                                     4.0   \n",
       "2                      6.0  ...                                     4.0   \n",
       "3                      1.0  ...                                     4.0   \n",
       "4                      5.0  ...                                     1.0   \n",
       "\n",
       "   HOME_TEAM_REDCARDS_5_last_match_std  HOME_TEAM_OFFSIDES_5_last_match_std  \\\n",
       "0                                  0.0                                  6.0   \n",
       "1                                  0.0                                  4.0   \n",
       "2                                  5.0                                  6.0   \n",
       "3                                  0.0                                  1.0   \n",
       "4                                  0.0                                  2.0   \n",
       "\n",
       "   HOME_TEAM_ATTACKS_5_last_match_std  HOME_TEAM_PENALTIES_5_last_match_std  \\\n",
       "0                                 0.0                                  10.0   \n",
       "1                                 3.0                                  10.0   \n",
       "2                                 3.0                                   6.0   \n",
       "3                                 8.0                                   8.0   \n",
       "4                                 5.0                                   8.0   \n",
       "\n",
       "   HOME_TEAM_SUBSTITUTIONS_5_last_match_std  \\\n",
       "0                                       8.0   \n",
       "1                                       0.0   \n",
       "2                                       7.0   \n",
       "3                                       5.0   \n",
       "4                                       7.0   \n",
       "\n",
       "   HOME_TEAM_BALL_SAFE_5_last_match_std  \\\n",
       "0                                   7.0   \n",
       "1                                   1.0   \n",
       "2                                   2.0   \n",
       "3                                   5.0   \n",
       "4                                   2.0   \n",
       "\n",
       "   HOME_TEAM_DANGEROUS_ATTACKS_5_last_match_std  \\\n",
       "0                                           2.0   \n",
       "1                                           2.0   \n",
       "2                                           3.0   \n",
       "3                                           5.0   \n",
       "4                                           6.0   \n",
       "\n",
       "   HOME_TEAM_INJURIES_5_last_match_std  HOME_TEAM_GOALS_5_last_match_std  \n",
       "0                                  4.0                               3.0  \n",
       "1                                  8.0                               4.0  \n",
       "2                                  2.0                               4.0  \n",
       "3                                  0.0                               6.0  \n",
       "4                                  4.0                               4.0  \n",
       "\n",
       "[5 rows x 281 columns]"
      ],
      "text/html": [
       "<div>\n",
       "<style scoped>\n",
       "    .dataframe tbody tr th:only-of-type {\n",
       "        vertical-align: middle;\n",
       "    }\n",
       "\n",
       "    .dataframe tbody tr th {\n",
       "        vertical-align: top;\n",
       "    }\n",
       "\n",
       "    .dataframe thead th {\n",
       "        text-align: right;\n",
       "    }\n",
       "</style>\n",
       "<table border=\"1\" class=\"dataframe\">\n",
       "  <thead>\n",
       "    <tr style=\"text-align: right;\">\n",
       "      <th></th>\n",
       "      <th>ID</th>\n",
       "      <th>TEAM_SHOTS_TOTAL_season_sum</th>\n",
       "      <th>TEAM_SHOTS_INSIDEBOX_season_sum</th>\n",
       "      <th>TEAM_SHOTS_OFF_TARGET_season_sum</th>\n",
       "      <th>TEAM_SHOTS_ON_TARGET_season_sum</th>\n",
       "      <th>TEAM_SHOTS_OUTSIDEBOX_season_sum</th>\n",
       "      <th>TEAM_PASSES_season_sum</th>\n",
       "      <th>TEAM_SUCCESSFUL_PASSES_season_sum</th>\n",
       "      <th>TEAM_SAVES_season_sum</th>\n",
       "      <th>TEAM_CORNERS_season_sum</th>\n",
       "      <th>...</th>\n",
       "      <th>HOME_TEAM_YELLOWCARDS_5_last_match_std</th>\n",
       "      <th>HOME_TEAM_REDCARDS_5_last_match_std</th>\n",
       "      <th>HOME_TEAM_OFFSIDES_5_last_match_std</th>\n",
       "      <th>HOME_TEAM_ATTACKS_5_last_match_std</th>\n",
       "      <th>HOME_TEAM_PENALTIES_5_last_match_std</th>\n",
       "      <th>HOME_TEAM_SUBSTITUTIONS_5_last_match_std</th>\n",
       "      <th>HOME_TEAM_BALL_SAFE_5_last_match_std</th>\n",
       "      <th>HOME_TEAM_DANGEROUS_ATTACKS_5_last_match_std</th>\n",
       "      <th>HOME_TEAM_INJURIES_5_last_match_std</th>\n",
       "      <th>HOME_TEAM_GOALS_5_last_match_std</th>\n",
       "    </tr>\n",
       "  </thead>\n",
       "  <tbody>\n",
       "    <tr>\n",
       "      <th>0</th>\n",
       "      <td>0</td>\n",
       "      <td>4.0</td>\n",
       "      <td>1.0</td>\n",
       "      <td>4.0</td>\n",
       "      <td>1.0</td>\n",
       "      <td>5.0</td>\n",
       "      <td>4.0</td>\n",
       "      <td>3.0</td>\n",
       "      <td>6.0</td>\n",
       "      <td>4.0</td>\n",
       "      <td>...</td>\n",
       "      <td>3.0</td>\n",
       "      <td>0.0</td>\n",
       "      <td>6.0</td>\n",
       "      <td>0.0</td>\n",
       "      <td>10.0</td>\n",
       "      <td>8.0</td>\n",
       "      <td>7.0</td>\n",
       "      <td>2.0</td>\n",
       "      <td>4.0</td>\n",
       "      <td>3.0</td>\n",
       "    </tr>\n",
       "    <tr>\n",
       "      <th>1</th>\n",
       "      <td>1</td>\n",
       "      <td>4.0</td>\n",
       "      <td>3.0</td>\n",
       "      <td>4.0</td>\n",
       "      <td>3.0</td>\n",
       "      <td>8.0</td>\n",
       "      <td>8.0</td>\n",
       "      <td>7.0</td>\n",
       "      <td>8.0</td>\n",
       "      <td>5.0</td>\n",
       "      <td>...</td>\n",
       "      <td>4.0</td>\n",
       "      <td>0.0</td>\n",
       "      <td>4.0</td>\n",
       "      <td>3.0</td>\n",
       "      <td>10.0</td>\n",
       "      <td>0.0</td>\n",
       "      <td>1.0</td>\n",
       "      <td>2.0</td>\n",
       "      <td>8.0</td>\n",
       "      <td>4.0</td>\n",
       "    </tr>\n",
       "    <tr>\n",
       "      <th>2</th>\n",
       "      <td>2</td>\n",
       "      <td>4.0</td>\n",
       "      <td>3.0</td>\n",
       "      <td>4.0</td>\n",
       "      <td>2.0</td>\n",
       "      <td>6.0</td>\n",
       "      <td>4.0</td>\n",
       "      <td>4.0</td>\n",
       "      <td>1.0</td>\n",
       "      <td>6.0</td>\n",
       "      <td>...</td>\n",
       "      <td>4.0</td>\n",
       "      <td>5.0</td>\n",
       "      <td>6.0</td>\n",
       "      <td>3.0</td>\n",
       "      <td>6.0</td>\n",
       "      <td>7.0</td>\n",
       "      <td>2.0</td>\n",
       "      <td>3.0</td>\n",
       "      <td>2.0</td>\n",
       "      <td>4.0</td>\n",
       "    </tr>\n",
       "    <tr>\n",
       "      <th>3</th>\n",
       "      <td>3</td>\n",
       "      <td>0.0</td>\n",
       "      <td>0.0</td>\n",
       "      <td>0.0</td>\n",
       "      <td>0.0</td>\n",
       "      <td>1.0</td>\n",
       "      <td>3.0</td>\n",
       "      <td>3.0</td>\n",
       "      <td>8.0</td>\n",
       "      <td>1.0</td>\n",
       "      <td>...</td>\n",
       "      <td>4.0</td>\n",
       "      <td>0.0</td>\n",
       "      <td>1.0</td>\n",
       "      <td>8.0</td>\n",
       "      <td>8.0</td>\n",
       "      <td>5.0</td>\n",
       "      <td>5.0</td>\n",
       "      <td>5.0</td>\n",
       "      <td>0.0</td>\n",
       "      <td>6.0</td>\n",
       "    </tr>\n",
       "    <tr>\n",
       "      <th>4</th>\n",
       "      <td>4</td>\n",
       "      <td>5.0</td>\n",
       "      <td>4.0</td>\n",
       "      <td>5.0</td>\n",
       "      <td>6.0</td>\n",
       "      <td>5.0</td>\n",
       "      <td>6.0</td>\n",
       "      <td>6.0</td>\n",
       "      <td>4.0</td>\n",
       "      <td>5.0</td>\n",
       "      <td>...</td>\n",
       "      <td>1.0</td>\n",
       "      <td>0.0</td>\n",
       "      <td>2.0</td>\n",
       "      <td>5.0</td>\n",
       "      <td>8.0</td>\n",
       "      <td>7.0</td>\n",
       "      <td>2.0</td>\n",
       "      <td>6.0</td>\n",
       "      <td>4.0</td>\n",
       "      <td>4.0</td>\n",
       "    </tr>\n",
       "  </tbody>\n",
       "</table>\n",
       "<p>5 rows × 281 columns</p>\n",
       "</div>"
      ]
     },
     "execution_count": 112,
     "metadata": {},
     "output_type": "execute_result"
    }
   ],
   "execution_count": 112
  },
  {
   "metadata": {
    "ExecuteTime": {
     "end_time": "2024-06-29T20:05:15.470261Z",
     "start_time": "2024-06-29T20:05:15.463396Z"
    }
   },
   "cell_type": "code",
   "source": "df_result.head()",
   "id": "4ae714fe7a6970b3",
   "outputs": [
    {
     "data": {
      "text/plain": [
       "   result\n",
       "0       1\n",
       "1       0\n",
       "2       1\n",
       "3       2\n",
       "4       0"
      ],
      "text/html": [
       "<div>\n",
       "<style scoped>\n",
       "    .dataframe tbody tr th:only-of-type {\n",
       "        vertical-align: middle;\n",
       "    }\n",
       "\n",
       "    .dataframe tbody tr th {\n",
       "        vertical-align: top;\n",
       "    }\n",
       "\n",
       "    .dataframe thead th {\n",
       "        text-align: right;\n",
       "    }\n",
       "</style>\n",
       "<table border=\"1\" class=\"dataframe\">\n",
       "  <thead>\n",
       "    <tr style=\"text-align: right;\">\n",
       "      <th></th>\n",
       "      <th>result</th>\n",
       "    </tr>\n",
       "  </thead>\n",
       "  <tbody>\n",
       "    <tr>\n",
       "      <th>0</th>\n",
       "      <td>1</td>\n",
       "    </tr>\n",
       "    <tr>\n",
       "      <th>1</th>\n",
       "      <td>0</td>\n",
       "    </tr>\n",
       "    <tr>\n",
       "      <th>2</th>\n",
       "      <td>1</td>\n",
       "    </tr>\n",
       "    <tr>\n",
       "      <th>3</th>\n",
       "      <td>2</td>\n",
       "    </tr>\n",
       "    <tr>\n",
       "      <th>4</th>\n",
       "      <td>0</td>\n",
       "    </tr>\n",
       "  </tbody>\n",
       "</table>\n",
       "</div>"
      ]
     },
     "execution_count": 113,
     "metadata": {},
     "output_type": "execute_result"
    }
   ],
   "execution_count": 113
  },
  {
   "metadata": {
    "ExecuteTime": {
     "end_time": "2024-06-29T20:05:15.512998Z",
     "start_time": "2024-06-29T20:05:15.472275Z"
    }
   },
   "cell_type": "code",
   "source": [
    "from sklearn.model_selection import train_test_split\n",
    "\n",
    "attribut_train, attribut_test, result_train, result_test = train_test_split(df_attribut.drop(['ID'], axis=1), df_result, test_size=0.1,\n",
    "                                                                            random_state=10)\n"
   ],
   "id": "54cad64330747088",
   "outputs": [],
   "execution_count": 114
  },
  {
   "metadata": {
    "ExecuteTime": {
     "end_time": "2024-06-29T20:05:15.521786Z",
     "start_time": "2024-06-29T20:05:15.514005Z"
    }
   },
   "cell_type": "code",
   "source": "df_result.head()",
   "id": "936aeb030361b46f",
   "outputs": [
    {
     "data": {
      "text/plain": [
       "   result\n",
       "0       1\n",
       "1       0\n",
       "2       1\n",
       "3       2\n",
       "4       0"
      ],
      "text/html": [
       "<div>\n",
       "<style scoped>\n",
       "    .dataframe tbody tr th:only-of-type {\n",
       "        vertical-align: middle;\n",
       "    }\n",
       "\n",
       "    .dataframe tbody tr th {\n",
       "        vertical-align: top;\n",
       "    }\n",
       "\n",
       "    .dataframe thead th {\n",
       "        text-align: right;\n",
       "    }\n",
       "</style>\n",
       "<table border=\"1\" class=\"dataframe\">\n",
       "  <thead>\n",
       "    <tr style=\"text-align: right;\">\n",
       "      <th></th>\n",
       "      <th>result</th>\n",
       "    </tr>\n",
       "  </thead>\n",
       "  <tbody>\n",
       "    <tr>\n",
       "      <th>0</th>\n",
       "      <td>1</td>\n",
       "    </tr>\n",
       "    <tr>\n",
       "      <th>1</th>\n",
       "      <td>0</td>\n",
       "    </tr>\n",
       "    <tr>\n",
       "      <th>2</th>\n",
       "      <td>1</td>\n",
       "    </tr>\n",
       "    <tr>\n",
       "      <th>3</th>\n",
       "      <td>2</td>\n",
       "    </tr>\n",
       "    <tr>\n",
       "      <th>4</th>\n",
       "      <td>0</td>\n",
       "    </tr>\n",
       "  </tbody>\n",
       "</table>\n",
       "</div>"
      ]
     },
     "execution_count": 115,
     "metadata": {},
     "output_type": "execute_result"
    }
   ],
   "execution_count": 115
  },
  {
   "metadata": {
    "ExecuteTime": {
     "end_time": "2024-06-29T20:05:15.593824Z",
     "start_time": "2024-06-29T20:05:15.523799Z"
    }
   },
   "cell_type": "code",
   "source": [
    "n_components = 3\n",
    "\n",
    "pca = PCA(n_components=n_components)\n",
    "pca.fit(attribut_train)\n",
    "\n",
    "attribut_train_reduced = pd.DataFrame(pca.transform(attribut_train), index=attribut_train.index, columns=[\"PC\" + str(i) for i in range(1, n_components + 1)])\n",
    "attribut_test_reduced = pd.DataFrame(pca.transform(attribut_test), index=attribut_test.index, columns=[\"PC\" + str(i) for i in range(1, n_components + 1)])"
   ],
   "id": "9ca12b8c50d5cf12",
   "outputs": [],
   "execution_count": 116
  },
  {
   "metadata": {
    "ExecuteTime": {
     "end_time": "2024-06-29T20:05:15.828894Z",
     "start_time": "2024-06-29T20:05:15.595838Z"
    }
   },
   "cell_type": "code",
   "source": [
    "plt.figure(figsize=(16, 10))\n",
    "sns.barplot(x=pca.explained_variance_ratio_, y=[\"PC\" + str(i) for i in range(1, n_components + 1)], orient='h', palette='husl')\n",
    "plt.xlim(0., 1.)\n",
    "plt.xlabel(\"Proportion of Variance in Original Data\")\n",
    "plt.title(\"Principal Component Variance\")\n",
    "plt.show()"
   ],
   "id": "7bb035d3b7cf9c2",
   "outputs": [
    {
     "name": "stderr",
     "output_type": "stream",
     "text": [
      "C:\\Users\\pc\\AppData\\Local\\Temp\\ipykernel_13704\\2970429361.py:2: FutureWarning: \n",
      "\n",
      "Passing `palette` without assigning `hue` is deprecated and will be removed in v0.14.0. Assign the `y` variable to `hue` and set `legend=False` for the same effect.\n",
      "\n",
      "  sns.barplot(x=pca.explained_variance_ratio_, y=[\"PC\" + str(i) for i in range(1, n_components + 1)], orient='h', palette='husl')\n"
     ]
    },
    {
     "data": {
      "text/plain": [
       "<Figure size 1600x1000 with 1 Axes>"
      ],
      "image/png": "[encoded data removed]"
     },
     "metadata": {},
     "output_type": "display_data"
    }
   ],
   "execution_count": 117
  },
  {
   "metadata": {
    "ExecuteTime": {
     "end_time": "2024-06-29T20:05:15.979347Z",
     "start_time": "2024-06-29T20:05:15.829907Z"
    }
   },
   "cell_type": "code",
   "source": [
    "from sklearn.linear_model import LogisticRegression\n",
    "max_iter_list=[3000]\n",
    "solver_list=['lbfgs', 'liblinear']\n",
    "regularization_factor_list=[1,0.01]\n",
    "accuracy_dict={}\n",
    "LR_dict={}\n",
    "for max_iter in max_iter_list:\n",
    "    for solver in solver_list:\n",
    "        for regularization_factor in regularization_factor_list:\n",
    "            LR = LogisticRegression(max_iter=max_iter,solver=solver,C=regularization_factor).fit(attribut_train_reduced, result_train)\n",
    "            yhat = LR.predict(attribut_test_reduced)\n",
    "            accuracy=np.round(accuracy_score(result_test,yhat),4)\n",
    "            key=f'solver_{solver}_iter_{max_iter}_C_{regularization_factor}'\n",
    "            accuracy_dict[key]=accuracy\n",
    "            LR_dict[key]=LR\n",
    "                        \n"
   ],
   "id": "213dc7eca8e0fe7e",
   "outputs": [
    {
     "name": "stderr",
     "output_type": "stream",
     "text": [
      "C:\\Users\\pc\\AppData\\Local\\Programs\\Python\\Python312\\Lib\\site-packages\\sklearn\\utils\\validation.py:1310: DataConversionWarning: A column-vector y was passed when a 1d array was expected. Please change the shape of y to (n_samples, ), for example using ravel().\n",
      "  y = column_or_1d(y, warn=True)\n",
      "C:\\Users\\pc\\AppData\\Local\\Programs\\Python\\Python312\\Lib\\site-packages\\sklearn\\utils\\validation.py:1310: DataConversionWarning: A column-vector y was passed when a 1d array was expected. Please change the shape of y to (n_samples, ), for example using ravel().\n",
      "  y = column_or_1d(y, warn=True)\n",
      "C:\\Users\\pc\\AppData\\Local\\Programs\\Python\\Python312\\Lib\\site-packages\\sklearn\\utils\\validation.py:1310: DataConversionWarning: A column-vector y was passed when a 1d array was expected. Please change the shape of y to (n_samples, ), for example using ravel().\n",
      "  y = column_or_1d(y, warn=True)\n",
      "C:\\Users\\pc\\AppData\\Local\\Programs\\Python\\Python312\\Lib\\site-packages\\sklearn\\utils\\validation.py:1310: DataConversionWarning: A column-vector y was passed when a 1d array was expected. Please change the shape of y to (n_samples, ), for example using ravel().\n",
      "  y = column_or_1d(y, warn=True)\n"
     ]
    }
   ],
   "execution_count": 118
  },
  {
   "metadata": {
    "ExecuteTime": {
     "end_time": "2024-06-29T20:05:15.986229Z",
     "start_time": "2024-06-29T20:05:15.980359Z"
    }
   },
   "cell_type": "code",
   "source": "accuracy_dict",
   "id": "61474f3ec6e33d54",
   "outputs": [
    {
     "data": {
      "text/plain": [
       "{'solver_lbfgs_iter_3000_C_1': 0.4809,\n",
       " 'solver_lbfgs_iter_3000_C_0.01': 0.4809,\n",
       " 'solver_liblinear_iter_3000_C_1': 0.4825,\n",
       " 'solver_liblinear_iter_3000_C_0.01': 0.4809}"
      ]
     },
     "execution_count": 119,
     "metadata": {},
     "output_type": "execute_result"
    }
   ],
   "execution_count": 119
  },
  {
   "metadata": {
    "ExecuteTime": {
     "end_time": "2024-06-29T20:05:15.996950Z",
     "start_time": "2024-06-29T20:05:15.989243Z"
    }
   },
   "cell_type": "code",
   "source": [
    "max_accuracy=max(accuracy_dict.items(), key=operator.itemgetter(1))\n",
    "LR_best=LR_dict[max_accuracy[0]]"
   ],
   "id": "abe19475b578b1a9",
   "outputs": [],
   "execution_count": 120
  },
  {
   "metadata": {
    "ExecuteTime": {
     "end_time": "2024-06-29T20:05:16.008334Z",
     "start_time": "2024-06-29T20:05:15.997960Z"
    }
   },
   "cell_type": "code",
   "source": "max_accuracy",
   "id": "a40caa7198259deb",
   "outputs": [
    {
     "data": {
      "text/plain": [
       "('solver_liblinear_iter_3000_C_1', 0.4825)"
      ]
     },
     "execution_count": 121,
     "metadata": {},
     "output_type": "execute_result"
    }
   ],
   "execution_count": 121
  },
  {
   "metadata": {
    "ExecuteTime": {
     "end_time": "2024-06-29T20:05:16.024079Z",
     "start_time": "2024-06-29T20:05:16.009346Z"
    }
   },
   "cell_type": "code",
   "source": [
    "yhat = LR_best.predict(attribut_test_reduced)\n",
    "np.round(accuracy_score(result_test,yhat),4)"
   ],
   "id": "a148cd4f4d8aa003",
   "outputs": [
    {
     "data": {
      "text/plain": [
       "0.4825"
      ]
     },
     "execution_count": 122,
     "metadata": {},
     "output_type": "execute_result"
    }
   ],
   "execution_count": 122
  },
  {
   "metadata": {
    "ExecuteTime": {
     "end_time": "2024-06-29T20:05:16.034516Z",
     "start_time": "2024-06-29T20:05:16.025089Z"
    }
   },
   "cell_type": "code",
   "source": "attribut_test_reduced",
   "id": "6b972896498b0d3c",
   "outputs": [
    {
     "data": {
      "text/plain": [
       "             PC1        PC2        PC3\n",
       "11028  -7.587089   9.706078  16.903392\n",
       "10284   3.120619   1.906861  11.490117\n",
       "10177  -9.207367  -1.331856   9.451661\n",
       "7139   18.409915  -8.683943  -8.243424\n",
       "937    -8.148630 -19.809059   3.033028\n",
       "...          ...        ...        ...\n",
       "10569  21.827628 -32.864624  -3.699276\n",
       "10359  -6.674266 -11.376881  -3.516690\n",
       "745    -0.424210 -17.075515   2.350238\n",
       "10906  -2.895703  -3.867357  10.494537\n",
       "3547    8.017447  -0.009022   2.850820\n",
       "\n",
       "[1231 rows x 3 columns]"
      ],
      "text/html": [
       "<div>\n",
       "<style scoped>\n",
       "    .dataframe tbody tr th:only-of-type {\n",
       "        vertical-align: middle;\n",
       "    }\n",
       "\n",
       "    .dataframe tbody tr th {\n",
       "        vertical-align: top;\n",
       "    }\n",
       "\n",
       "    .dataframe thead th {\n",
       "        text-align: right;\n",
       "    }\n",
       "</style>\n",
       "<table border=\"1\" class=\"dataframe\">\n",
       "  <thead>\n",
       "    <tr style=\"text-align: right;\">\n",
       "      <th></th>\n",
       "      <th>PC1</th>\n",
       "      <th>PC2</th>\n",
       "      <th>PC3</th>\n",
       "    </tr>\n",
       "  </thead>\n",
       "  <tbody>\n",
       "    <tr>\n",
       "      <th>11028</th>\n",
       "      <td>-7.587089</td>\n",
       "      <td>9.706078</td>\n",
       "      <td>16.903392</td>\n",
       "    </tr>\n",
       "    <tr>\n",
       "      <th>10284</th>\n",
       "      <td>3.120619</td>\n",
       "      <td>1.906861</td>\n",
       "      <td>11.490117</td>\n",
       "    </tr>\n",
       "    <tr>\n",
       "      <th>10177</th>\n",
       "      <td>-9.207367</td>\n",
       "      <td>-1.331856</td>\n",
       "      <td>9.451661</td>\n",
       "    </tr>\n",
       "    <tr>\n",
       "      <th>7139</th>\n",
       "      <td>18.409915</td>\n",
       "      <td>-8.683943</td>\n",
       "      <td>-8.243424</td>\n",
       "    </tr>\n",
       "    <tr>\n",
       "      <th>937</th>\n",
       "      <td>-8.148630</td>\n",
       "      <td>-19.809059</td>\n",
       "      <td>3.033028</td>\n",
       "    </tr>\n",
       "    <tr>\n",
       "      <th>...</th>\n",
       "      <td>...</td>\n",
       "      <td>...</td>\n",
       "      <td>...</td>\n",
       "    </tr>\n",
       "    <tr>\n",
       "      <th>10569</th>\n",
       "      <td>21.827628</td>\n",
       "      <td>-32.864624</td>\n",
       "      <td>-3.699276</td>\n",
       "    </tr>\n",
       "    <tr>\n",
       "      <th>10359</th>\n",
       "      <td>-6.674266</td>\n",
       "      <td>-11.376881</td>\n",
       "      <td>-3.516690</td>\n",
       "    </tr>\n",
       "    <tr>\n",
       "      <th>745</th>\n",
       "      <td>-0.424210</td>\n",
       "      <td>-17.075515</td>\n",
       "      <td>2.350238</td>\n",
       "    </tr>\n",
       "    <tr>\n",
       "      <th>10906</th>\n",
       "      <td>-2.895703</td>\n",
       "      <td>-3.867357</td>\n",
       "      <td>10.494537</td>\n",
       "    </tr>\n",
       "    <tr>\n",
       "      <th>3547</th>\n",
       "      <td>8.017447</td>\n",
       "      <td>-0.009022</td>\n",
       "      <td>2.850820</td>\n",
       "    </tr>\n",
       "  </tbody>\n",
       "</table>\n",
       "<p>1231 rows × 3 columns</p>\n",
       "</div>"
      ]
     },
     "execution_count": 123,
     "metadata": {},
     "output_type": "execute_result"
    }
   ],
   "execution_count": 123
  },
  {
   "metadata": {
    "ExecuteTime": {
     "end_time": "2024-06-29T20:05:16.047518Z",
     "start_time": "2024-06-29T20:05:16.035526Z"
    }
   },
   "cell_type": "code",
   "source": "result_test",
   "id": "3b1dae4ca1b4fe4d",
   "outputs": [
    {
     "data": {
      "text/plain": [
       "       result\n",
       "11028       2\n",
       "10284       1\n",
       "10177       2\n",
       "7139        2\n",
       "937         1\n",
       "...       ...\n",
       "10569       2\n",
       "10359       2\n",
       "745         1\n",
       "10906       0\n",
       "3547        1\n",
       "\n",
       "[1231 rows x 1 columns]"
      ],
      "text/html": [
       "<div>\n",
       "<style scoped>\n",
       "    .dataframe tbody tr th:only-of-type {\n",
       "        vertical-align: middle;\n",
       "    }\n",
       "\n",
       "    .dataframe tbody tr th {\n",
       "        vertical-align: top;\n",
       "    }\n",
       "\n",
       "    .dataframe thead th {\n",
       "        text-align: right;\n",
       "    }\n",
       "</style>\n",
       "<table border=\"1\" class=\"dataframe\">\n",
       "  <thead>\n",
       "    <tr style=\"text-align: right;\">\n",
       "      <th></th>\n",
       "      <th>result</th>\n",
       "    </tr>\n",
       "  </thead>\n",
       "  <tbody>\n",
       "    <tr>\n",
       "      <th>11028</th>\n",
       "      <td>2</td>\n",
       "    </tr>\n",
       "    <tr>\n",
       "      <th>10284</th>\n",
       "      <td>1</td>\n",
       "    </tr>\n",
       "    <tr>\n",
       "      <th>10177</th>\n",
       "      <td>2</td>\n",
       "    </tr>\n",
       "    <tr>\n",
       "      <th>7139</th>\n",
       "      <td>2</td>\n",
       "    </tr>\n",
       "    <tr>\n",
       "      <th>937</th>\n",
       "      <td>1</td>\n",
       "    </tr>\n",
       "    <tr>\n",
       "      <th>...</th>\n",
       "      <td>...</td>\n",
       "    </tr>\n",
       "    <tr>\n",
       "      <th>10569</th>\n",
       "      <td>2</td>\n",
       "    </tr>\n",
       "    <tr>\n",
       "      <th>10359</th>\n",
       "      <td>2</td>\n",
       "    </tr>\n",
       "    <tr>\n",
       "      <th>745</th>\n",
       "      <td>1</td>\n",
       "    </tr>\n",
       "    <tr>\n",
       "      <th>10906</th>\n",
       "      <td>0</td>\n",
       "    </tr>\n",
       "    <tr>\n",
       "      <th>3547</th>\n",
       "      <td>1</td>\n",
       "    </tr>\n",
       "  </tbody>\n",
       "</table>\n",
       "<p>1231 rows × 1 columns</p>\n",
       "</div>"
      ]
     },
     "execution_count": 124,
     "metadata": {},
     "output_type": "execute_result"
    }
   ],
   "execution_count": 124
  },
  {
   "metadata": {
    "ExecuteTime": {
     "end_time": "2024-06-29T20:07:41.398997Z",
     "start_time": "2024-06-29T20:07:41.393441Z"
    }
   },
   "cell_type": "code",
   "source": "yhat",
   "id": "14fc5810f060ded9",
   "outputs": [
    {
     "data": {
      "text/plain": [
       "array([2, 2, 2, ..., 1, 2, 2])"
      ]
     },
     "execution_count": 130,
     "metadata": {},
     "output_type": "execute_result"
    }
   ],
   "execution_count": 130
  },
  {
   "metadata": {
    "ExecuteTime": {
     "end_time": "2024-06-29T20:08:08.046989Z",
     "start_time": "2024-06-29T20:08:08.041188Z"
    }
   },
   "cell_type": "code",
   "source": "yhat==2\n",
   "id": "38613f4050e492d0",
   "outputs": [
    {
     "data": {
      "text/plain": [
       "array([ True,  True,  True, ..., False,  True,  True])"
      ]
     },
     "execution_count": 135,
     "metadata": {},
     "output_type": "execute_result"
    }
   ],
   "execution_count": 135
  },
  {
   "metadata": {
    "ExecuteTime": {
     "end_time": "2024-06-29T20:05:16.301976Z",
     "start_time": "2024-06-29T20:05:16.048529Z"
    }
   },
   "cell_type": "code",
   "source": [
    "from sklearn.metrics import confusion_matrix, ConfusionMatrixDisplay\n",
    "cm = confusion_matrix(result_test, yhat)\n",
    "disp = ConfusionMatrixDisplay(confusion_matrix=cm,\n",
    "                              display_labels=[0, 1, 2],)\n",
    "disp.plot(cmap=\"Blues\")"
   ],
   "id": "22c5519cd14097fe",
   "outputs": [
    {
     "data": {
      "text/plain": [
       "<sklearn.metrics._plot.confusion_matrix.ConfusionMatrixDisplay at 0x28fefc4f620>"
      ]
     },
     "execution_count": 125,
     "metadata": {},
     "output_type": "execute_result"
    },
    {
     "data": {
      "text/plain": [
       "<Figure size 640x480 with 2 Axes>"
      ],
      "image/png": "[encoded data removed]"
     },
     "metadata": {},
     "output_type": "display_data"
    }
   ],
   "execution_count": 125
  },
  {
   "metadata": {
    "ExecuteTime": {
     "end_time": "2024-06-29T20:05:16.747627Z",
     "start_time": "2024-06-29T20:05:16.302991Z"
    }
   },
   "cell_type": "code",
   "source": [
    "test_path_away = '../data/Test_Data/test_away_team_statistics_df.csv'\n",
    "test_path_home = '../data/Test_Data/test_home_team_statistics_df.csv'\n",
    "df_attribut_test = prepare_attribut_data(test_path_away, test_path_home,True)"
   ],
   "id": "75aafde0206d78fe",
   "outputs": [
    {
     "ename": "KeyError",
     "evalue": "\"['LEAGUE', 'TEAM_NAME'] not found in axis\"",
     "output_type": "error",
     "traceback": [
      "\u001B[1;31m---------------------------------------------------------------------------\u001B[0m",
      "\u001B[1;31mKeyError\u001B[0m                                  Traceback (most recent call last)",
      "Cell \u001B[1;32mIn[126], line 3\u001B[0m\n\u001B[0;32m      1\u001B[0m test_path_away \u001B[38;5;241m=\u001B[39m \u001B[38;5;124m'\u001B[39m\u001B[38;5;124m../data/Test_Data/test_away_team_statistics_df.csv\u001B[39m\u001B[38;5;124m'\u001B[39m\n\u001B[0;32m      2\u001B[0m test_path_home \u001B[38;5;241m=\u001B[39m \u001B[38;5;124m'\u001B[39m\u001B[38;5;124m../data/Test_Data/test_home_team_statistics_df.csv\u001B[39m\u001B[38;5;124m'\u001B[39m\n\u001B[1;32m----> 3\u001B[0m df_attribut_test \u001B[38;5;241m=\u001B[39m \u001B[43mprepare_attribut_data\u001B[49m\u001B[43m(\u001B[49m\u001B[43mtest_path_away\u001B[49m\u001B[43m,\u001B[49m\u001B[43m \u001B[49m\u001B[43mtest_path_home\u001B[49m\u001B[43m)\u001B[49m\n",
      "File \u001B[1;32mD:\\Dev\\ML\\workspace\\foot-challenge\\src\\main.py:5\u001B[0m, in \u001B[0;36mprepare_attribut_data\u001B[1;34m(path_away, path_home)\u001B[0m\n\u001B[0;32m      4\u001B[0m \u001B[38;5;28;01mdef\u001B[39;00m \u001B[38;5;21mprepare_attribut_data\u001B[39m(path_away: \u001B[38;5;28mstr\u001B[39m, path_home: \u001B[38;5;28mstr\u001B[39m):\n\u001B[1;32m----> 5\u001B[0m     df_away \u001B[38;5;241m=\u001B[39m \u001B[43mpd\u001B[49m\u001B[38;5;241;43m.\u001B[39;49m\u001B[43mread_csv\u001B[49m\u001B[43m(\u001B[49m\u001B[43mpath_away\u001B[49m\u001B[43m)\u001B[49m\u001B[38;5;241;43m.\u001B[39;49m\u001B[43mdrop\u001B[49m\u001B[43m(\u001B[49m\u001B[43m[\u001B[49m\u001B[38;5;124;43m'\u001B[39;49m\u001B[38;5;124;43mLEAGUE\u001B[39;49m\u001B[38;5;124;43m'\u001B[39;49m\u001B[43m,\u001B[49m\u001B[43m \u001B[49m\u001B[38;5;124;43m'\u001B[39;49m\u001B[38;5;124;43mTEAM_NAME\u001B[39;49m\u001B[38;5;124;43m'\u001B[39;49m\u001B[43m]\u001B[49m\u001B[43m,\u001B[49m\u001B[43m \u001B[49m\u001B[43maxis\u001B[49m\u001B[38;5;241;43m=\u001B[39;49m\u001B[38;5;241;43m1\u001B[39;49m\u001B[43m)\u001B[49m\n\u001B[0;32m      6\u001B[0m     df_home \u001B[38;5;241m=\u001B[39m pd\u001B[38;5;241m.\u001B[39mread_csv(path_home)\u001B[38;5;241m.\u001B[39mdrop([\u001B[38;5;124m'\u001B[39m\u001B[38;5;124mLEAGUE\u001B[39m\u001B[38;5;124m'\u001B[39m, \u001B[38;5;124m'\u001B[39m\u001B[38;5;124mTEAM_NAME\u001B[39m\u001B[38;5;124m'\u001B[39m], axis\u001B[38;5;241m=\u001B[39m\u001B[38;5;241m1\u001B[39m)\n\u001B[0;32m      7\u001B[0m     df_home\u001B[38;5;241m.\u001B[39mcolumns \u001B[38;5;241m=\u001B[39m [(\u001B[38;5;124m'\u001B[39m\u001B[38;5;124mHOME_\u001B[39m\u001B[38;5;124m'\u001B[39m \u001B[38;5;241m+\u001B[39m \u001B[38;5;28mstr\u001B[39m(col)) \u001B[38;5;28;01mif\u001B[39;00m col \u001B[38;5;241m!=\u001B[39m \u001B[38;5;124m'\u001B[39m\u001B[38;5;124mID\u001B[39m\u001B[38;5;124m'\u001B[39m \u001B[38;5;28;01melse\u001B[39;00m \u001B[38;5;124m'\u001B[39m\u001B[38;5;124mID\u001B[39m\u001B[38;5;124m'\u001B[39m \u001B[38;5;28;01mfor\u001B[39;00m col \u001B[38;5;129;01min\u001B[39;00m df_home\u001B[38;5;241m.\u001B[39mcolumns]\n",
      "File \u001B[1;32m~\\AppData\\Local\\Programs\\Python\\Python312\\Lib\\site-packages\\pandas\\core\\frame.py:5581\u001B[0m, in \u001B[0;36mDataFrame.drop\u001B[1;34m(self, labels, axis, index, columns, level, inplace, errors)\u001B[0m\n\u001B[0;32m   5433\u001B[0m \u001B[38;5;28;01mdef\u001B[39;00m \u001B[38;5;21mdrop\u001B[39m(\n\u001B[0;32m   5434\u001B[0m     \u001B[38;5;28mself\u001B[39m,\n\u001B[0;32m   5435\u001B[0m     labels: IndexLabel \u001B[38;5;241m|\u001B[39m \u001B[38;5;28;01mNone\u001B[39;00m \u001B[38;5;241m=\u001B[39m \u001B[38;5;28;01mNone\u001B[39;00m,\n\u001B[1;32m   (...)\u001B[0m\n\u001B[0;32m   5442\u001B[0m     errors: IgnoreRaise \u001B[38;5;241m=\u001B[39m \u001B[38;5;124m\"\u001B[39m\u001B[38;5;124mraise\u001B[39m\u001B[38;5;124m\"\u001B[39m,\n\u001B[0;32m   5443\u001B[0m ) \u001B[38;5;241m-\u001B[39m\u001B[38;5;241m>\u001B[39m DataFrame \u001B[38;5;241m|\u001B[39m \u001B[38;5;28;01mNone\u001B[39;00m:\n\u001B[0;32m   5444\u001B[0m \u001B[38;5;250m    \u001B[39m\u001B[38;5;124;03m\"\"\"\u001B[39;00m\n\u001B[0;32m   5445\u001B[0m \u001B[38;5;124;03m    Drop specified labels from rows or columns.\u001B[39;00m\n\u001B[0;32m   5446\u001B[0m \n\u001B[1;32m   (...)\u001B[0m\n\u001B[0;32m   5579\u001B[0m \u001B[38;5;124;03m            weight  1.0     0.8\u001B[39;00m\n\u001B[0;32m   5580\u001B[0m \u001B[38;5;124;03m    \"\"\"\u001B[39;00m\n\u001B[1;32m-> 5581\u001B[0m     \u001B[38;5;28;01mreturn\u001B[39;00m \u001B[38;5;28;43msuper\u001B[39;49m\u001B[43m(\u001B[49m\u001B[43m)\u001B[49m\u001B[38;5;241;43m.\u001B[39;49m\u001B[43mdrop\u001B[49m\u001B[43m(\u001B[49m\n\u001B[0;32m   5582\u001B[0m \u001B[43m        \u001B[49m\u001B[43mlabels\u001B[49m\u001B[38;5;241;43m=\u001B[39;49m\u001B[43mlabels\u001B[49m\u001B[43m,\u001B[49m\n\u001B[0;32m   5583\u001B[0m \u001B[43m        \u001B[49m\u001B[43maxis\u001B[49m\u001B[38;5;241;43m=\u001B[39;49m\u001B[43maxis\u001B[49m\u001B[43m,\u001B[49m\n\u001B[0;32m   5584\u001B[0m \u001B[43m        \u001B[49m\u001B[43mindex\u001B[49m\u001B[38;5;241;43m=\u001B[39;49m\u001B[43mindex\u001B[49m\u001B[43m,\u001B[49m\n\u001B[0;32m   5585\u001B[0m \u001B[43m        \u001B[49m\u001B[43mcolumns\u001B[49m\u001B[38;5;241;43m=\u001B[39;49m\u001B[43mcolumns\u001B[49m\u001B[43m,\u001B[49m\n\u001B[0;32m   5586\u001B[0m \u001B[43m        \u001B[49m\u001B[43mlevel\u001B[49m\u001B[38;5;241;43m=\u001B[39;49m\u001B[43mlevel\u001B[49m\u001B[43m,\u001B[49m\n\u001B[0;32m   5587\u001B[0m \u001B[43m        \u001B[49m\u001B[43minplace\u001B[49m\u001B[38;5;241;43m=\u001B[39;49m\u001B[43minplace\u001B[49m\u001B[43m,\u001B[49m\n\u001B[0;32m   5588\u001B[0m \u001B[43m        \u001B[49m\u001B[43merrors\u001B[49m\u001B[38;5;241;43m=\u001B[39;49m\u001B[43merrors\u001B[49m\u001B[43m,\u001B[49m\n\u001B[0;32m   5589\u001B[0m \u001B[43m    \u001B[49m\u001B[43m)\u001B[49m\n",
      "File \u001B[1;32m~\\AppData\\Local\\Programs\\Python\\Python312\\Lib\\site-packages\\pandas\\core\\generic.py:4788\u001B[0m, in \u001B[0;36mNDFrame.drop\u001B[1;34m(self, labels, axis, index, columns, level, inplace, errors)\u001B[0m\n\u001B[0;32m   4786\u001B[0m \u001B[38;5;28;01mfor\u001B[39;00m axis, labels \u001B[38;5;129;01min\u001B[39;00m axes\u001B[38;5;241m.\u001B[39mitems():\n\u001B[0;32m   4787\u001B[0m     \u001B[38;5;28;01mif\u001B[39;00m labels \u001B[38;5;129;01mis\u001B[39;00m \u001B[38;5;129;01mnot\u001B[39;00m \u001B[38;5;28;01mNone\u001B[39;00m:\n\u001B[1;32m-> 4788\u001B[0m         obj \u001B[38;5;241m=\u001B[39m \u001B[43mobj\u001B[49m\u001B[38;5;241;43m.\u001B[39;49m\u001B[43m_drop_axis\u001B[49m\u001B[43m(\u001B[49m\u001B[43mlabels\u001B[49m\u001B[43m,\u001B[49m\u001B[43m \u001B[49m\u001B[43maxis\u001B[49m\u001B[43m,\u001B[49m\u001B[43m \u001B[49m\u001B[43mlevel\u001B[49m\u001B[38;5;241;43m=\u001B[39;49m\u001B[43mlevel\u001B[49m\u001B[43m,\u001B[49m\u001B[43m \u001B[49m\u001B[43merrors\u001B[49m\u001B[38;5;241;43m=\u001B[39;49m\u001B[43merrors\u001B[49m\u001B[43m)\u001B[49m\n\u001B[0;32m   4790\u001B[0m \u001B[38;5;28;01mif\u001B[39;00m inplace:\n\u001B[0;32m   4791\u001B[0m     \u001B[38;5;28mself\u001B[39m\u001B[38;5;241m.\u001B[39m_update_inplace(obj)\n",
      "File \u001B[1;32m~\\AppData\\Local\\Programs\\Python\\Python312\\Lib\\site-packages\\pandas\\core\\generic.py:4830\u001B[0m, in \u001B[0;36mNDFrame._drop_axis\u001B[1;34m(self, labels, axis, level, errors, only_slice)\u001B[0m\n\u001B[0;32m   4828\u001B[0m         new_axis \u001B[38;5;241m=\u001B[39m axis\u001B[38;5;241m.\u001B[39mdrop(labels, level\u001B[38;5;241m=\u001B[39mlevel, errors\u001B[38;5;241m=\u001B[39merrors)\n\u001B[0;32m   4829\u001B[0m     \u001B[38;5;28;01melse\u001B[39;00m:\n\u001B[1;32m-> 4830\u001B[0m         new_axis \u001B[38;5;241m=\u001B[39m \u001B[43maxis\u001B[49m\u001B[38;5;241;43m.\u001B[39;49m\u001B[43mdrop\u001B[49m\u001B[43m(\u001B[49m\u001B[43mlabels\u001B[49m\u001B[43m,\u001B[49m\u001B[43m \u001B[49m\u001B[43merrors\u001B[49m\u001B[38;5;241;43m=\u001B[39;49m\u001B[43merrors\u001B[49m\u001B[43m)\u001B[49m\n\u001B[0;32m   4831\u001B[0m     indexer \u001B[38;5;241m=\u001B[39m axis\u001B[38;5;241m.\u001B[39mget_indexer(new_axis)\n\u001B[0;32m   4833\u001B[0m \u001B[38;5;66;03m# Case for non-unique axis\u001B[39;00m\n\u001B[0;32m   4834\u001B[0m \u001B[38;5;28;01melse\u001B[39;00m:\n",
      "File \u001B[1;32m~\\AppData\\Local\\Programs\\Python\\Python312\\Lib\\site-packages\\pandas\\core\\indexes\\base.py:7070\u001B[0m, in \u001B[0;36mIndex.drop\u001B[1;34m(self, labels, errors)\u001B[0m\n\u001B[0;32m   7068\u001B[0m \u001B[38;5;28;01mif\u001B[39;00m mask\u001B[38;5;241m.\u001B[39many():\n\u001B[0;32m   7069\u001B[0m     \u001B[38;5;28;01mif\u001B[39;00m errors \u001B[38;5;241m!=\u001B[39m \u001B[38;5;124m\"\u001B[39m\u001B[38;5;124mignore\u001B[39m\u001B[38;5;124m\"\u001B[39m:\n\u001B[1;32m-> 7070\u001B[0m         \u001B[38;5;28;01mraise\u001B[39;00m \u001B[38;5;167;01mKeyError\u001B[39;00m(\u001B[38;5;124mf\u001B[39m\u001B[38;5;124m\"\u001B[39m\u001B[38;5;132;01m{\u001B[39;00mlabels[mask]\u001B[38;5;241m.\u001B[39mtolist()\u001B[38;5;132;01m}\u001B[39;00m\u001B[38;5;124m not found in axis\u001B[39m\u001B[38;5;124m\"\u001B[39m)\n\u001B[0;32m   7071\u001B[0m     indexer \u001B[38;5;241m=\u001B[39m indexer[\u001B[38;5;241m~\u001B[39mmask]\n\u001B[0;32m   7072\u001B[0m \u001B[38;5;28;01mreturn\u001B[39;00m \u001B[38;5;28mself\u001B[39m\u001B[38;5;241m.\u001B[39mdelete(indexer)\n",
      "\u001B[1;31mKeyError\u001B[0m: \"['LEAGUE', 'TEAM_NAME'] not found in axis\""
     ]
    }
   ],
   "execution_count": 126
  },
  {
   "metadata": {},
   "cell_type": "code",
   "source": [
    "\n",
    "yhat_test = LR_best.predict(df_attribut_test)\n",
    "y_pred_test = pd.DataFrame(yhat_test)\n",
    "y_pred_test = convert_to_one_hot(yhat_test)"
   ],
   "id": "84284b9a293027ee",
   "outputs": [],
   "execution_count": null
  },
  {
   "metadata": {},
   "cell_type": "code",
   "source": "y_pred_testtest_prediction = pd.concat([df_attribut_test['ID'], y_pred_test], axis=1)\n",
   "id": "1c0ecf94ddbfda57",
   "outputs": [],
   "execution_count": null
  },
  {
   "metadata": {},
   "cell_type": "code",
   "source": "test_prediction = y_pred_test.index.to_frame(name='ID').join(y_pred_test)",
   "id": "2971448cbd16e0ad",
   "outputs": [],
   "execution_count": null
  },
  {
   "metadata": {},
   "cell_type": "code",
   "source": "test_prediction",
   "id": "a3b356c57da6188c",
   "outputs": [],
   "execution_count": null
  },
  {
   "metadata": {},
   "cell_type": "code",
   "source": "test_prediction.to_csv('./submission/pca_logistic_benchmark_submission.csv', index=False)",
   "id": "b819e4fbc6750972",
   "outputs": [],
   "execution_count": null
  },
  {
   "metadata": {},
   "cell_type": "code",
   "source": "",
   "id": "3d0e0700b4463703",
   "outputs": [],
   "execution_count": null
  }
 ],
 "metadata": {
  "kernelspec": {
   "display_name": "Python 3",
   "language": "python",
   "name": "python3"
  },
  "language_info": {
   "codemirror_mode": {
    "name": "ipython",
    "version": 2
   },
   "file_extension": ".py",
   "mimetype": "text/x-python",
   "name": "python",
   "nbconvert_exporter": "python",
   "pygments_lexer": "ipython2",
   "version": "2.7.6"
  }
 },
 "nbformat": 4,
 "nbformat_minor": 5
}
