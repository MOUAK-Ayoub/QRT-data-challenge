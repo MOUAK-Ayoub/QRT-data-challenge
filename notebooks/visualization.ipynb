{
 "cells": [
  {
   "cell_type": "code",
   "id": "initial_id",
   "metadata": {
    "collapsed": true,
    "ExecuteTime": {
     "end_time": "2024-09-06T14:11:01.871447Z",
     "start_time": "2024-09-06T14:11:01.864027Z"
    }
   },
   "source": [
    "import pandas as pd\n",
    "import matplotlib.pyplot as plt\n",
    "%matplotlib tk"
   ],
   "outputs": [],
   "execution_count": 28
  },
  {
   "metadata": {
    "ExecuteTime": {
     "end_time": "2024-09-06T14:11:02.105139Z",
     "start_time": "2024-09-06T14:11:02.099833Z"
    }
   },
   "cell_type": "code",
   "source": [
    "\n",
    "train_path_away = '../data/Train_Data/train_away_team_statistics_df.csv'\n",
    "train_path_home = '../data/Train_Data/train_home_team_statistics_df.csv'\n",
    "train_path_result = '../data/Train_Data/Y_train.csv'\n"
   ],
   "id": "fd97cf601c017cf5",
   "outputs": [],
   "execution_count": 29
  },
  {
   "metadata": {},
   "cell_type": "markdown",
   "source": "",
   "id": "35b6a108cc0f5fae"
  },
  {
   "metadata": {
    "ExecuteTime": {
     "end_time": "2024-09-06T14:11:02.610292Z",
     "start_time": "2024-09-06T14:11:02.129657Z"
    }
   },
   "cell_type": "code",
   "source": [
    "limit=25\n",
    "columns=['ID','TEAM_SUCCESSFUL_PASSES_5_last_match_average','TEAM_BALL_POSSESSION_5_last_match_average','TEAM_DANGEROUS_ATTACKS_5_last_match_average']\n",
    "df_away = pd.read_csv(train_path_away).filter(items=columns)[:limit]\n",
    "df_home = pd.read_csv(train_path_home).filter(items=columns)[:limit]\n",
    "df_result = pd.read_csv(train_path_result)[:limit]\n"
   ],
   "id": "51a0fe64a25fb5ac",
   "outputs": [],
   "execution_count": 30
  },
  {
   "metadata": {
    "ExecuteTime": {
     "end_time": "2024-09-06T14:11:02.663035Z",
     "start_time": "2024-09-06T14:11:02.638303Z"
    }
   },
   "cell_type": "code",
   "source": "df_home.iloc[18]\n",
   "id": "e88c31c749bcb4c2",
   "outputs": [
    {
     "data": {
      "text/plain": [
       "ID                                             18.0\n",
       "TEAM_SUCCESSFUL_PASSES_5_last_match_average    10.0\n",
       "TEAM_BALL_POSSESSION_5_last_match_average      10.0\n",
       "TEAM_DANGEROUS_ATTACKS_5_last_match_average     0.0\n",
       "Name: 18, dtype: float64"
      ]
     },
     "execution_count": 31,
     "metadata": {},
     "output_type": "execute_result"
    }
   ],
   "execution_count": 31
  },
  {
   "metadata": {
    "ExecuteTime": {
     "end_time": "2024-09-06T14:11:02.695356Z",
     "start_time": "2024-09-06T14:11:02.682935Z"
    }
   },
   "cell_type": "code",
   "source": "df_away.iloc[18]",
   "id": "80169a0eeefede44",
   "outputs": [
    {
     "data": {
      "text/plain": [
       "ID                                             18.0\n",
       "TEAM_SUCCESSFUL_PASSES_5_last_match_average     0.0\n",
       "TEAM_BALL_POSSESSION_5_last_match_average       0.0\n",
       "TEAM_DANGEROUS_ATTACKS_5_last_match_average     1.0\n",
       "Name: 18, dtype: float64"
      ]
     },
     "execution_count": 32,
     "metadata": {},
     "output_type": "execute_result"
    }
   ],
   "execution_count": 32
  },
  {
   "metadata": {
    "ExecuteTime": {
     "end_time": "2024-09-06T14:11:02.721615Z",
     "start_time": "2024-09-06T14:11:02.714096Z"
    }
   },
   "cell_type": "code",
   "source": "df_result.iloc[18]",
   "id": "cf97a8d9df8743da",
   "outputs": [
    {
     "data": {
      "text/plain": [
       "ID           18\n",
       "HOME_WINS     1\n",
       "DRAW          0\n",
       "AWAY_WINS     0\n",
       "Name: 18, dtype: int64"
      ]
     },
     "execution_count": 33,
     "metadata": {},
     "output_type": "execute_result"
    }
   ],
   "execution_count": 33
  },
  {
   "metadata": {
    "ExecuteTime": {
     "end_time": "2024-09-06T14:13:02.777552Z",
     "start_time": "2024-09-06T14:13:02.767897Z"
    }
   },
   "cell_type": "code",
   "source": [
    "colors_home = []\n",
    "colors_away= []\n",
    "\n",
    "for _, row in df_result.iterrows():\n",
    "    if row['HOME_WINS'] == 1:\n",
    "        colors_home.append('green')\n",
    "    elif row['DRAW'] == 1:\n",
    "        colors_home.append('gray')\n",
    "    elif row['AWAY_WINS'] == 1:\n",
    "        colors_home.append('red')\n",
    "for _, row in df_result.iterrows():\n",
    "    if row['HOME_WINS'] == 1:\n",
    "        colors_away.append('red')\n",
    "    elif row['DRAW'] == 1:\n",
    "        colors_away.append('gray')\n",
    "    elif row['AWAY_WINS'] == 1:\n",
    "        colors_away.append('green')"
   ],
   "id": "888b70e3f517389a",
   "outputs": [],
   "execution_count": 36
  },
  {
   "metadata": {
    "ExecuteTime": {
     "end_time": "2024-09-06T14:14:36.356133Z",
     "start_time": "2024-09-06T14:14:36.080414Z"
    }
   },
   "cell_type": "code",
   "source": [
    "\n",
    "ax = plt.axes(projection='3d')\n",
    "ax.scatter(df_away[columns[1]],df_away[columns[3]],df_away[columns[3]],c=colors_away)\n",
    "ax.scatter(df_home[columns[1]],df_home[columns[3]],df_home[columns[3]],c=colors_home)\n",
    "\n",
    "for i in df_home.index:\n",
    "  ax.text(df_away[columns[1]][i],df_away[columns[3]][i],df_away[columns[3]][i], i)\n",
    "  ax.text(df_home[columns[1]][i],df_home[columns[3]][i],df_home[columns[3]][i], i)\n",
    "\n",
    "ax.set_xlabel(' '.join(columns[1].split('_')[:3]))\n",
    "ax.set_ylabel(' '.join(columns[2].split('_')[:3]))\n",
    "ax.set_zlabel(' '.join(columns[3].split('_')[:3]))\n",
    "\n",
    "plt.show()"
   ],
   "id": "5aeab40de5efbb73",
   "outputs": [],
   "execution_count": 38
  }
 ],
 "metadata": {
  "kernelspec": {
   "display_name": "Python 3",
   "language": "python",
   "name": "python3"
  },
  "language_info": {
   "codemirror_mode": {
    "name": "ipython",
    "version": 2
   },
   "file_extension": ".py",
   "mimetype": "text/x-python",
   "name": "python",
   "nbconvert_exporter": "python",
   "pygments_lexer": "ipython2",
   "version": "2.7.6"
  }
 },
 "nbformat": 4,
 "nbformat_minor": 5
}
