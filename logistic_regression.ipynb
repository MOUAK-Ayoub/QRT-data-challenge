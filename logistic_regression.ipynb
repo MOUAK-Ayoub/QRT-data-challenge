{
 "cells": [
  {
   "cell_type": "code",
   "id": "initial_id",
   "metadata": {
    "collapsed": true,
    "jupyter": {
     "is_executing": true
    }
   },
   "source": [
    "import pandas as pd\n",
    "import numpy  as np\n",
    "import matplotlib.pyplot as plt\n",
    "import itertools    \n",
    "from sklearn.metrics import accuracy_score\n",
    "import operator\n",
    "from timeit import default_timer as timer\n"
   ],
   "outputs": [],
   "execution_count": null
  },
  {
   "metadata": {
    "jupyter": {
     "is_executing": true
    }
   },
   "cell_type": "code",
   "source": [
    "from sklearn.datasets import load_iris\n",
    "iris = load_iris()"
   ],
   "id": "b7e3a7a2902ae26f",
   "outputs": [],
   "execution_count": null
  },
  {
   "metadata": {
    "ExecuteTime": {
     "end_time": "2024-06-03T21:55:23.044392Z",
     "start_time": "2024-06-03T21:55:22.084495Z"
    }
   },
   "cell_type": "code",
   "source": [
    "df_away=pd.read_csv('./data/Train_Data/train_away_team_statistics_df.csv').drop(['LEAGUE', 'TEAM_NAME'], axis=1)\n",
    "df_home=pd.read_csv('./data/Train_Data/train_home_team_statistics_df.csv').drop(['LEAGUE', 'TEAM_NAME'], axis=1)\n",
    "df_home.columns = [('HOME_' +str(col) ) if col != 'ID' else 'ID' for col in df_home.columns ]\n"
   ],
   "id": "fd97cf601c017cf5",
   "outputs": [],
   "execution_count": 5
  },
  {
   "metadata": {
    "ExecuteTime": {
     "end_time": "2024-06-03T21:55:23.118341Z",
     "start_time": "2024-06-03T21:55:23.047405Z"
    }
   },
   "cell_type": "code",
   "source": "df_home.head()",
   "id": "445d0106754dbb7b",
   "outputs": [
    {
     "data": {
      "text/plain": [
       "   ID  HOME_TEAM_SHOTS_TOTAL_season_sum  HOME_TEAM_SHOTS_INSIDEBOX_season_sum  \\\n",
       "0   0                               3.0                                   2.0   \n",
       "1   1                               6.0                                   8.0   \n",
       "2   2                               4.0                                   2.0   \n",
       "3   3                               7.0                                   5.0   \n",
       "4   4                               3.0                                   3.0   \n",
       "\n",
       "   HOME_TEAM_SHOTS_OFF_TARGET_season_sum  \\\n",
       "0                                    5.0   \n",
       "1                                    3.0   \n",
       "2                                    5.0   \n",
       "3                                    5.0   \n",
       "4                                    2.0   \n",
       "\n",
       "   HOME_TEAM_SHOTS_ON_TARGET_season_sum  \\\n",
       "0                                   2.0   \n",
       "1                                   6.0   \n",
       "2                                   2.0   \n",
       "3                                   6.0   \n",
       "4                                   3.0   \n",
       "\n",
       "   HOME_TEAM_SHOTS_OUTSIDEBOX_season_sum  HOME_TEAM_PASSES_season_sum  \\\n",
       "0                                    1.0                          2.0   \n",
       "1                                    5.0                          8.0   \n",
       "2                                    8.0                          1.0   \n",
       "3                                    6.0                          9.0   \n",
       "4                                    4.0                          4.0   \n",
       "\n",
       "   HOME_TEAM_SUCCESSFUL_PASSES_season_sum  HOME_TEAM_SAVES_season_sum  \\\n",
       "0                                     2.0                         5.0   \n",
       "1                                     7.0                        10.0   \n",
       "2                                     1.0                         2.0   \n",
       "3                                     9.0                         2.0   \n",
       "4                                     3.0                         4.0   \n",
       "\n",
       "   HOME_TEAM_CORNERS_season_sum  ...  HOME_TEAM_YELLOWCARDS_5_last_match_std  \\\n",
       "0                           3.0  ...                                     3.0   \n",
       "1                           6.0  ...                                     4.0   \n",
       "2                           2.0  ...                                     4.0   \n",
       "3                           2.0  ...                                     4.0   \n",
       "4                           4.0  ...                                     1.0   \n",
       "\n",
       "   HOME_TEAM_REDCARDS_5_last_match_std  HOME_TEAM_OFFSIDES_5_last_match_std  \\\n",
       "0                                  0.0                                  6.0   \n",
       "1                                  0.0                                  4.0   \n",
       "2                                  5.0                                  6.0   \n",
       "3                                  0.0                                  1.0   \n",
       "4                                  0.0                                  2.0   \n",
       "\n",
       "   HOME_TEAM_ATTACKS_5_last_match_std  HOME_TEAM_PENALTIES_5_last_match_std  \\\n",
       "0                                 0.0                                  10.0   \n",
       "1                                 3.0                                  10.0   \n",
       "2                                 3.0                                   6.0   \n",
       "3                                 8.0                                   8.0   \n",
       "4                                 5.0                                   8.0   \n",
       "\n",
       "   HOME_TEAM_SUBSTITUTIONS_5_last_match_std  \\\n",
       "0                                       8.0   \n",
       "1                                       0.0   \n",
       "2                                       7.0   \n",
       "3                                       5.0   \n",
       "4                                       7.0   \n",
       "\n",
       "   HOME_TEAM_BALL_SAFE_5_last_match_std  \\\n",
       "0                                   7.0   \n",
       "1                                   1.0   \n",
       "2                                   2.0   \n",
       "3                                   5.0   \n",
       "4                                   2.0   \n",
       "\n",
       "   HOME_TEAM_DANGEROUS_ATTACKS_5_last_match_std  \\\n",
       "0                                           2.0   \n",
       "1                                           2.0   \n",
       "2                                           3.0   \n",
       "3                                           5.0   \n",
       "4                                           6.0   \n",
       "\n",
       "   HOME_TEAM_INJURIES_5_last_match_std  HOME_TEAM_GOALS_5_last_match_std  \n",
       "0                                  4.0                               3.0  \n",
       "1                                  8.0                               4.0  \n",
       "2                                  2.0                               4.0  \n",
       "3                                  NaN                               6.0  \n",
       "4                                  4.0                               4.0  \n",
       "\n",
       "[5 rows x 141 columns]"
      ],
      "text/html": [
       "<div>\n",
       "<style scoped>\n",
       "    .dataframe tbody tr th:only-of-type {\n",
       "        vertical-align: middle;\n",
       "    }\n",
       "\n",
       "    .dataframe tbody tr th {\n",
       "        vertical-align: top;\n",
       "    }\n",
       "\n",
       "    .dataframe thead th {\n",
       "        text-align: right;\n",
       "    }\n",
       "</style>\n",
       "<table border=\"1\" class=\"dataframe\">\n",
       "  <thead>\n",
       "    <tr style=\"text-align: right;\">\n",
       "      <th></th>\n",
       "      <th>ID</th>\n",
       "      <th>HOME_TEAM_SHOTS_TOTAL_season_sum</th>\n",
       "      <th>HOME_TEAM_SHOTS_INSIDEBOX_season_sum</th>\n",
       "      <th>HOME_TEAM_SHOTS_OFF_TARGET_season_sum</th>\n",
       "      <th>HOME_TEAM_SHOTS_ON_TARGET_season_sum</th>\n",
       "      <th>HOME_TEAM_SHOTS_OUTSIDEBOX_season_sum</th>\n",
       "      <th>HOME_TEAM_PASSES_season_sum</th>\n",
       "      <th>HOME_TEAM_SUCCESSFUL_PASSES_season_sum</th>\n",
       "      <th>HOME_TEAM_SAVES_season_sum</th>\n",
       "      <th>HOME_TEAM_CORNERS_season_sum</th>\n",
       "      <th>...</th>\n",
       "      <th>HOME_TEAM_YELLOWCARDS_5_last_match_std</th>\n",
       "      <th>HOME_TEAM_REDCARDS_5_last_match_std</th>\n",
       "      <th>HOME_TEAM_OFFSIDES_5_last_match_std</th>\n",
       "      <th>HOME_TEAM_ATTACKS_5_last_match_std</th>\n",
       "      <th>HOME_TEAM_PENALTIES_5_last_match_std</th>\n",
       "      <th>HOME_TEAM_SUBSTITUTIONS_5_last_match_std</th>\n",
       "      <th>HOME_TEAM_BALL_SAFE_5_last_match_std</th>\n",
       "      <th>HOME_TEAM_DANGEROUS_ATTACKS_5_last_match_std</th>\n",
       "      <th>HOME_TEAM_INJURIES_5_last_match_std</th>\n",
       "      <th>HOME_TEAM_GOALS_5_last_match_std</th>\n",
       "    </tr>\n",
       "  </thead>\n",
       "  <tbody>\n",
       "    <tr>\n",
       "      <th>0</th>\n",
       "      <td>0</td>\n",
       "      <td>3.0</td>\n",
       "      <td>2.0</td>\n",
       "      <td>5.0</td>\n",
       "      <td>2.0</td>\n",
       "      <td>1.0</td>\n",
       "      <td>2.0</td>\n",
       "      <td>2.0</td>\n",
       "      <td>5.0</td>\n",
       "      <td>3.0</td>\n",
       "      <td>...</td>\n",
       "      <td>3.0</td>\n",
       "      <td>0.0</td>\n",
       "      <td>6.0</td>\n",
       "      <td>0.0</td>\n",
       "      <td>10.0</td>\n",
       "      <td>8.0</td>\n",
       "      <td>7.0</td>\n",
       "      <td>2.0</td>\n",
       "      <td>4.0</td>\n",
       "      <td>3.0</td>\n",
       "    </tr>\n",
       "    <tr>\n",
       "      <th>1</th>\n",
       "      <td>1</td>\n",
       "      <td>6.0</td>\n",
       "      <td>8.0</td>\n",
       "      <td>3.0</td>\n",
       "      <td>6.0</td>\n",
       "      <td>5.0</td>\n",
       "      <td>8.0</td>\n",
       "      <td>7.0</td>\n",
       "      <td>10.0</td>\n",
       "      <td>6.0</td>\n",
       "      <td>...</td>\n",
       "      <td>4.0</td>\n",
       "      <td>0.0</td>\n",
       "      <td>4.0</td>\n",
       "      <td>3.0</td>\n",
       "      <td>10.0</td>\n",
       "      <td>0.0</td>\n",
       "      <td>1.0</td>\n",
       "      <td>2.0</td>\n",
       "      <td>8.0</td>\n",
       "      <td>4.0</td>\n",
       "    </tr>\n",
       "    <tr>\n",
       "      <th>2</th>\n",
       "      <td>2</td>\n",
       "      <td>4.0</td>\n",
       "      <td>2.0</td>\n",
       "      <td>5.0</td>\n",
       "      <td>2.0</td>\n",
       "      <td>8.0</td>\n",
       "      <td>1.0</td>\n",
       "      <td>1.0</td>\n",
       "      <td>2.0</td>\n",
       "      <td>2.0</td>\n",
       "      <td>...</td>\n",
       "      <td>4.0</td>\n",
       "      <td>5.0</td>\n",
       "      <td>6.0</td>\n",
       "      <td>3.0</td>\n",
       "      <td>6.0</td>\n",
       "      <td>7.0</td>\n",
       "      <td>2.0</td>\n",
       "      <td>3.0</td>\n",
       "      <td>2.0</td>\n",
       "      <td>4.0</td>\n",
       "    </tr>\n",
       "    <tr>\n",
       "      <th>3</th>\n",
       "      <td>3</td>\n",
       "      <td>7.0</td>\n",
       "      <td>5.0</td>\n",
       "      <td>5.0</td>\n",
       "      <td>6.0</td>\n",
       "      <td>6.0</td>\n",
       "      <td>9.0</td>\n",
       "      <td>9.0</td>\n",
       "      <td>2.0</td>\n",
       "      <td>2.0</td>\n",
       "      <td>...</td>\n",
       "      <td>4.0</td>\n",
       "      <td>0.0</td>\n",
       "      <td>1.0</td>\n",
       "      <td>8.0</td>\n",
       "      <td>8.0</td>\n",
       "      <td>5.0</td>\n",
       "      <td>5.0</td>\n",
       "      <td>5.0</td>\n",
       "      <td>NaN</td>\n",
       "      <td>6.0</td>\n",
       "    </tr>\n",
       "    <tr>\n",
       "      <th>4</th>\n",
       "      <td>4</td>\n",
       "      <td>3.0</td>\n",
       "      <td>3.0</td>\n",
       "      <td>2.0</td>\n",
       "      <td>3.0</td>\n",
       "      <td>4.0</td>\n",
       "      <td>4.0</td>\n",
       "      <td>3.0</td>\n",
       "      <td>4.0</td>\n",
       "      <td>4.0</td>\n",
       "      <td>...</td>\n",
       "      <td>1.0</td>\n",
       "      <td>0.0</td>\n",
       "      <td>2.0</td>\n",
       "      <td>5.0</td>\n",
       "      <td>8.0</td>\n",
       "      <td>7.0</td>\n",
       "      <td>2.0</td>\n",
       "      <td>6.0</td>\n",
       "      <td>4.0</td>\n",
       "      <td>4.0</td>\n",
       "    </tr>\n",
       "  </tbody>\n",
       "</table>\n",
       "<p>5 rows × 141 columns</p>\n",
       "</div>"
      ]
     },
     "execution_count": 6,
     "metadata": {},
     "output_type": "execute_result"
    }
   ],
   "execution_count": 6
  },
  {
   "metadata": {
    "ExecuteTime": {
     "end_time": "2024-06-03T21:55:23.238128Z",
     "start_time": "2024-06-03T21:55:23.120352Z"
    }
   },
   "cell_type": "code",
   "source": [
    "df_joined=df_away.join(df_home.set_index('ID'), on='ID')\n",
    "df_joined=df_joined.fillna(0.0)\n",
    "df_final=df_joined.sort_values(by=['ID'])\n"
   ],
   "id": "54cad64330747088",
   "outputs": [],
   "execution_count": 7
  },
  {
   "metadata": {
    "ExecuteTime": {
     "end_time": "2024-06-03T21:55:23.274623Z",
     "start_time": "2024-06-03T21:55:23.241142Z"
    }
   },
   "cell_type": "code",
   "source": "df_joined.head()",
   "id": "d52e2765b8342aab",
   "outputs": [
    {
     "data": {
      "text/plain": [
       "   ID  TEAM_SHOTS_TOTAL_season_sum  TEAM_SHOTS_INSIDEBOX_season_sum  \\\n",
       "0   0                          4.0                              1.0   \n",
       "1   1                          4.0                              3.0   \n",
       "2   2                          4.0                              3.0   \n",
       "3   3                          0.0                              0.0   \n",
       "4   4                          5.0                              4.0   \n",
       "\n",
       "   TEAM_SHOTS_OFF_TARGET_season_sum  TEAM_SHOTS_ON_TARGET_season_sum  \\\n",
       "0                               4.0                              1.0   \n",
       "1                               4.0                              3.0   \n",
       "2                               4.0                              2.0   \n",
       "3                               0.0                              0.0   \n",
       "4                               5.0                              6.0   \n",
       "\n",
       "   TEAM_SHOTS_OUTSIDEBOX_season_sum  TEAM_PASSES_season_sum  \\\n",
       "0                               5.0                     4.0   \n",
       "1                               8.0                     8.0   \n",
       "2                               6.0                     4.0   \n",
       "3                               1.0                     3.0   \n",
       "4                               5.0                     6.0   \n",
       "\n",
       "   TEAM_SUCCESSFUL_PASSES_season_sum  TEAM_SAVES_season_sum  \\\n",
       "0                                3.0                    6.0   \n",
       "1                                7.0                    8.0   \n",
       "2                                4.0                    1.0   \n",
       "3                                3.0                    8.0   \n",
       "4                                6.0                    4.0   \n",
       "\n",
       "   TEAM_CORNERS_season_sum  ...  HOME_TEAM_YELLOWCARDS_5_last_match_std  \\\n",
       "0                      4.0  ...                                     3.0   \n",
       "1                      5.0  ...                                     4.0   \n",
       "2                      6.0  ...                                     4.0   \n",
       "3                      1.0  ...                                     4.0   \n",
       "4                      5.0  ...                                     1.0   \n",
       "\n",
       "   HOME_TEAM_REDCARDS_5_last_match_std  HOME_TEAM_OFFSIDES_5_last_match_std  \\\n",
       "0                                  0.0                                  6.0   \n",
       "1                                  0.0                                  4.0   \n",
       "2                                  5.0                                  6.0   \n",
       "3                                  0.0                                  1.0   \n",
       "4                                  0.0                                  2.0   \n",
       "\n",
       "   HOME_TEAM_ATTACKS_5_last_match_std  HOME_TEAM_PENALTIES_5_last_match_std  \\\n",
       "0                                 0.0                                  10.0   \n",
       "1                                 3.0                                  10.0   \n",
       "2                                 3.0                                   6.0   \n",
       "3                                 8.0                                   8.0   \n",
       "4                                 5.0                                   8.0   \n",
       "\n",
       "   HOME_TEAM_SUBSTITUTIONS_5_last_match_std  \\\n",
       "0                                       8.0   \n",
       "1                                       0.0   \n",
       "2                                       7.0   \n",
       "3                                       5.0   \n",
       "4                                       7.0   \n",
       "\n",
       "   HOME_TEAM_BALL_SAFE_5_last_match_std  \\\n",
       "0                                   7.0   \n",
       "1                                   1.0   \n",
       "2                                   2.0   \n",
       "3                                   5.0   \n",
       "4                                   2.0   \n",
       "\n",
       "   HOME_TEAM_DANGEROUS_ATTACKS_5_last_match_std  \\\n",
       "0                                           2.0   \n",
       "1                                           2.0   \n",
       "2                                           3.0   \n",
       "3                                           5.0   \n",
       "4                                           6.0   \n",
       "\n",
       "   HOME_TEAM_INJURIES_5_last_match_std  HOME_TEAM_GOALS_5_last_match_std  \n",
       "0                                  4.0                               3.0  \n",
       "1                                  8.0                               4.0  \n",
       "2                                  2.0                               4.0  \n",
       "3                                  0.0                               6.0  \n",
       "4                                  4.0                               4.0  \n",
       "\n",
       "[5 rows x 281 columns]"
      ],
      "text/html": [
       "<div>\n",
       "<style scoped>\n",
       "    .dataframe tbody tr th:only-of-type {\n",
       "        vertical-align: middle;\n",
       "    }\n",
       "\n",
       "    .dataframe tbody tr th {\n",
       "        vertical-align: top;\n",
       "    }\n",
       "\n",
       "    .dataframe thead th {\n",
       "        text-align: right;\n",
       "    }\n",
       "</style>\n",
       "<table border=\"1\" class=\"dataframe\">\n",
       "  <thead>\n",
       "    <tr style=\"text-align: right;\">\n",
       "      <th></th>\n",
       "      <th>ID</th>\n",
       "      <th>TEAM_SHOTS_TOTAL_season_sum</th>\n",
       "      <th>TEAM_SHOTS_INSIDEBOX_season_sum</th>\n",
       "      <th>TEAM_SHOTS_OFF_TARGET_season_sum</th>\n",
       "      <th>TEAM_SHOTS_ON_TARGET_season_sum</th>\n",
       "      <th>TEAM_SHOTS_OUTSIDEBOX_season_sum</th>\n",
       "      <th>TEAM_PASSES_season_sum</th>\n",
       "      <th>TEAM_SUCCESSFUL_PASSES_season_sum</th>\n",
       "      <th>TEAM_SAVES_season_sum</th>\n",
       "      <th>TEAM_CORNERS_season_sum</th>\n",
       "      <th>...</th>\n",
       "      <th>HOME_TEAM_YELLOWCARDS_5_last_match_std</th>\n",
       "      <th>HOME_TEAM_REDCARDS_5_last_match_std</th>\n",
       "      <th>HOME_TEAM_OFFSIDES_5_last_match_std</th>\n",
       "      <th>HOME_TEAM_ATTACKS_5_last_match_std</th>\n",
       "      <th>HOME_TEAM_PENALTIES_5_last_match_std</th>\n",
       "      <th>HOME_TEAM_SUBSTITUTIONS_5_last_match_std</th>\n",
       "      <th>HOME_TEAM_BALL_SAFE_5_last_match_std</th>\n",
       "      <th>HOME_TEAM_DANGEROUS_ATTACKS_5_last_match_std</th>\n",
       "      <th>HOME_TEAM_INJURIES_5_last_match_std</th>\n",
       "      <th>HOME_TEAM_GOALS_5_last_match_std</th>\n",
       "    </tr>\n",
       "  </thead>\n",
       "  <tbody>\n",
       "    <tr>\n",
       "      <th>0</th>\n",
       "      <td>0</td>\n",
       "      <td>4.0</td>\n",
       "      <td>1.0</td>\n",
       "      <td>4.0</td>\n",
       "      <td>1.0</td>\n",
       "      <td>5.0</td>\n",
       "      <td>4.0</td>\n",
       "      <td>3.0</td>\n",
       "      <td>6.0</td>\n",
       "      <td>4.0</td>\n",
       "      <td>...</td>\n",
       "      <td>3.0</td>\n",
       "      <td>0.0</td>\n",
       "      <td>6.0</td>\n",
       "      <td>0.0</td>\n",
       "      <td>10.0</td>\n",
       "      <td>8.0</td>\n",
       "      <td>7.0</td>\n",
       "      <td>2.0</td>\n",
       "      <td>4.0</td>\n",
       "      <td>3.0</td>\n",
       "    </tr>\n",
       "    <tr>\n",
       "      <th>1</th>\n",
       "      <td>1</td>\n",
       "      <td>4.0</td>\n",
       "      <td>3.0</td>\n",
       "      <td>4.0</td>\n",
       "      <td>3.0</td>\n",
       "      <td>8.0</td>\n",
       "      <td>8.0</td>\n",
       "      <td>7.0</td>\n",
       "      <td>8.0</td>\n",
       "      <td>5.0</td>\n",
       "      <td>...</td>\n",
       "      <td>4.0</td>\n",
       "      <td>0.0</td>\n",
       "      <td>4.0</td>\n",
       "      <td>3.0</td>\n",
       "      <td>10.0</td>\n",
       "      <td>0.0</td>\n",
       "      <td>1.0</td>\n",
       "      <td>2.0</td>\n",
       "      <td>8.0</td>\n",
       "      <td>4.0</td>\n",
       "    </tr>\n",
       "    <tr>\n",
       "      <th>2</th>\n",
       "      <td>2</td>\n",
       "      <td>4.0</td>\n",
       "      <td>3.0</td>\n",
       "      <td>4.0</td>\n",
       "      <td>2.0</td>\n",
       "      <td>6.0</td>\n",
       "      <td>4.0</td>\n",
       "      <td>4.0</td>\n",
       "      <td>1.0</td>\n",
       "      <td>6.0</td>\n",
       "      <td>...</td>\n",
       "      <td>4.0</td>\n",
       "      <td>5.0</td>\n",
       "      <td>6.0</td>\n",
       "      <td>3.0</td>\n",
       "      <td>6.0</td>\n",
       "      <td>7.0</td>\n",
       "      <td>2.0</td>\n",
       "      <td>3.0</td>\n",
       "      <td>2.0</td>\n",
       "      <td>4.0</td>\n",
       "    </tr>\n",
       "    <tr>\n",
       "      <th>3</th>\n",
       "      <td>3</td>\n",
       "      <td>0.0</td>\n",
       "      <td>0.0</td>\n",
       "      <td>0.0</td>\n",
       "      <td>0.0</td>\n",
       "      <td>1.0</td>\n",
       "      <td>3.0</td>\n",
       "      <td>3.0</td>\n",
       "      <td>8.0</td>\n",
       "      <td>1.0</td>\n",
       "      <td>...</td>\n",
       "      <td>4.0</td>\n",
       "      <td>0.0</td>\n",
       "      <td>1.0</td>\n",
       "      <td>8.0</td>\n",
       "      <td>8.0</td>\n",
       "      <td>5.0</td>\n",
       "      <td>5.0</td>\n",
       "      <td>5.0</td>\n",
       "      <td>0.0</td>\n",
       "      <td>6.0</td>\n",
       "    </tr>\n",
       "    <tr>\n",
       "      <th>4</th>\n",
       "      <td>4</td>\n",
       "      <td>5.0</td>\n",
       "      <td>4.0</td>\n",
       "      <td>5.0</td>\n",
       "      <td>6.0</td>\n",
       "      <td>5.0</td>\n",
       "      <td>6.0</td>\n",
       "      <td>6.0</td>\n",
       "      <td>4.0</td>\n",
       "      <td>5.0</td>\n",
       "      <td>...</td>\n",
       "      <td>1.0</td>\n",
       "      <td>0.0</td>\n",
       "      <td>2.0</td>\n",
       "      <td>5.0</td>\n",
       "      <td>8.0</td>\n",
       "      <td>7.0</td>\n",
       "      <td>2.0</td>\n",
       "      <td>6.0</td>\n",
       "      <td>4.0</td>\n",
       "      <td>4.0</td>\n",
       "    </tr>\n",
       "  </tbody>\n",
       "</table>\n",
       "<p>5 rows × 281 columns</p>\n",
       "</div>"
      ]
     },
     "execution_count": 8,
     "metadata": {},
     "output_type": "execute_result"
    }
   ],
   "execution_count": 8
  },
  {
   "metadata": {
    "ExecuteTime": {
     "end_time": "2024-06-03T21:55:23.293282Z",
     "start_time": "2024-06-03T21:55:23.276634Z"
    }
   },
   "cell_type": "code",
   "source": "df_result=pd.read_csv('./data/Train_Data/Y_train.csv')\n",
   "id": "7dcd7d63b7877743",
   "outputs": [],
   "execution_count": 9
  },
  {
   "metadata": {
    "ExecuteTime": {
     "end_time": "2024-06-03T21:55:23.306217Z",
     "start_time": "2024-06-03T21:55:23.295296Z"
    }
   },
   "cell_type": "code",
   "source": "df_result.head()",
   "id": "936aeb030361b46f",
   "outputs": [
    {
     "data": {
      "text/plain": [
       "   ID  HOME_WINS  DRAW  AWAY_WINS\n",
       "0   0          0     0          1\n",
       "1   1          0     1          0\n",
       "2   2          0     0          1\n",
       "3   3          1     0          0\n",
       "4   4          0     1          0"
      ],
      "text/html": [
       "<div>\n",
       "<style scoped>\n",
       "    .dataframe tbody tr th:only-of-type {\n",
       "        vertical-align: middle;\n",
       "    }\n",
       "\n",
       "    .dataframe tbody tr th {\n",
       "        vertical-align: top;\n",
       "    }\n",
       "\n",
       "    .dataframe thead th {\n",
       "        text-align: right;\n",
       "    }\n",
       "</style>\n",
       "<table border=\"1\" class=\"dataframe\">\n",
       "  <thead>\n",
       "    <tr style=\"text-align: right;\">\n",
       "      <th></th>\n",
       "      <th>ID</th>\n",
       "      <th>HOME_WINS</th>\n",
       "      <th>DRAW</th>\n",
       "      <th>AWAY_WINS</th>\n",
       "    </tr>\n",
       "  </thead>\n",
       "  <tbody>\n",
       "    <tr>\n",
       "      <th>0</th>\n",
       "      <td>0</td>\n",
       "      <td>0</td>\n",
       "      <td>0</td>\n",
       "      <td>1</td>\n",
       "    </tr>\n",
       "    <tr>\n",
       "      <th>1</th>\n",
       "      <td>1</td>\n",
       "      <td>0</td>\n",
       "      <td>1</td>\n",
       "      <td>0</td>\n",
       "    </tr>\n",
       "    <tr>\n",
       "      <th>2</th>\n",
       "      <td>2</td>\n",
       "      <td>0</td>\n",
       "      <td>0</td>\n",
       "      <td>1</td>\n",
       "    </tr>\n",
       "    <tr>\n",
       "      <th>3</th>\n",
       "      <td>3</td>\n",
       "      <td>1</td>\n",
       "      <td>0</td>\n",
       "      <td>0</td>\n",
       "    </tr>\n",
       "    <tr>\n",
       "      <th>4</th>\n",
       "      <td>4</td>\n",
       "      <td>0</td>\n",
       "      <td>1</td>\n",
       "      <td>0</td>\n",
       "    </tr>\n",
       "  </tbody>\n",
       "</table>\n",
       "</div>"
      ]
     },
     "execution_count": 10,
     "metadata": {},
     "output_type": "execute_result"
    }
   ],
   "execution_count": 10
  },
  {
   "metadata": {
    "ExecuteTime": {
     "end_time": "2024-06-03T21:55:23.326930Z",
     "start_time": "2024-06-03T21:55:23.309237Z"
    }
   },
   "cell_type": "code",
   "source": [
    "df_result.loc[df_result['DRAW'] == 1, 'result'] = 0\n",
    "df_result.loc[df_result['AWAY_WINS'] == 1 , 'result'] = 1\n",
    "df_result.loc[df_result['HOME_WINS'] == 1 , 'result'] = 2\n",
    "df_result['result'] = df_result['result'].astype('int')\n",
    "df_result_final=df_result.sort_values(by=['ID']).iloc[:,[4]]\n"
   ],
   "id": "4f4f4b87b78338c4",
   "outputs": [],
   "execution_count": 11
  },
  {
   "metadata": {
    "ExecuteTime": {
     "end_time": "2024-06-03T21:55:23.338609Z",
     "start_time": "2024-06-03T21:55:23.328945Z"
    }
   },
   "cell_type": "code",
   "source": "df_result_final.head()",
   "id": "4f65f00cf8e71c5d",
   "outputs": [
    {
     "data": {
      "text/plain": [
       "   result\n",
       "0       1\n",
       "1       0\n",
       "2       1\n",
       "3       2\n",
       "4       0"
      ],
      "text/html": [
       "<div>\n",
       "<style scoped>\n",
       "    .dataframe tbody tr th:only-of-type {\n",
       "        vertical-align: middle;\n",
       "    }\n",
       "\n",
       "    .dataframe tbody tr th {\n",
       "        vertical-align: top;\n",
       "    }\n",
       "\n",
       "    .dataframe thead th {\n",
       "        text-align: right;\n",
       "    }\n",
       "</style>\n",
       "<table border=\"1\" class=\"dataframe\">\n",
       "  <thead>\n",
       "    <tr style=\"text-align: right;\">\n",
       "      <th></th>\n",
       "      <th>result</th>\n",
       "    </tr>\n",
       "  </thead>\n",
       "  <tbody>\n",
       "    <tr>\n",
       "      <th>0</th>\n",
       "      <td>1</td>\n",
       "    </tr>\n",
       "    <tr>\n",
       "      <th>1</th>\n",
       "      <td>0</td>\n",
       "    </tr>\n",
       "    <tr>\n",
       "      <th>2</th>\n",
       "      <td>1</td>\n",
       "    </tr>\n",
       "    <tr>\n",
       "      <th>3</th>\n",
       "      <td>2</td>\n",
       "    </tr>\n",
       "    <tr>\n",
       "      <th>4</th>\n",
       "      <td>0</td>\n",
       "    </tr>\n",
       "  </tbody>\n",
       "</table>\n",
       "</div>"
      ]
     },
     "execution_count": 12,
     "metadata": {},
     "output_type": "execute_result"
    }
   ],
   "execution_count": 12
  },
  {
   "metadata": {
    "ExecuteTime": {
     "end_time": "2024-06-03T21:55:23.396317Z",
     "start_time": "2024-06-03T21:55:23.340623Z"
    }
   },
   "cell_type": "code",
   "source": [
    "from sklearn.model_selection import train_test_split\n",
    "\n",
    "attribut_train,attribut_test,result_train,result_test=train_test_split(df_final, df_result_final, test_size=0.001,random_state=10)\n"
   ],
   "id": "3e4f6c2128e448d5",
   "outputs": [],
   "execution_count": 13
  },
  {
   "metadata": {
    "ExecuteTime": {
     "end_time": "2024-06-03T21:58:52.150438Z",
     "start_time": "2024-06-03T21:55:23.401333Z"
    }
   },
   "cell_type": "code",
   "source": [
    "from sklearn.linear_model import LogisticRegression\n",
    "\n",
    "from sklearn.linear_model import LogisticRegression\n",
    "max_iter_list=[3000]\n",
    "solver_list=['lbfgs', 'liblinear', 'newton-cg', 'newton-cholesky'] # sag and saga take a lot of time\n",
    "regularization_factor_list=[1,0.1,0.01,0.001,0.0001]\n",
    "accuracy_dict={}\n",
    "time_dict={}\n",
    "LR_dict={}\n",
    "for max_iter in max_iter_list:\n",
    "    for solver in solver_list:\n",
    "        for regularization_factor in regularization_factor_list:\n",
    "            start = timer()\n",
    "\n",
    "            LR = LogisticRegression(max_iter=max_iter,solver=solver,C=regularization_factor).fit(attribut_train, result_train)\n",
    "            yhat = LR.predict(attribut_test)\n",
    "            accuracy=np.round(accuracy_score(result_test,yhat),4)\n",
    "            key=f'solver_{solver}_iter_{max_iter}_C_{regularization_factor}'\n",
    "            accuracy_dict[key]=accuracy\n",
    "            LR_dict[key]=LR\n",
    "            \n",
    "            end = timer()\n",
    "            print(f'for this hyperparam {key} the training took ')\n",
    "\n",
    "            delta=end-start\n",
    "            minutes = round(delta // 60)\n",
    "            delta %= 60\n",
    "            seconds = round(delta)\n",
    "            time_str=f\"{minutes:02d}m{seconds:02d}s\"\n",
    "            time_dict[key]=time_str\n",
    "            print(time_str)               \n",
    "\n"
   ],
   "id": "213dc7eca8e0fe7e",
   "outputs": [
    {
     "name": "stderr",
     "output_type": "stream",
     "text": [
      "D:\\Dev\\ML\\workspace\\python_tutorials\\.venv\\Lib\\site-packages\\sklearn\\utils\\validation.py:1300: DataConversionWarning: A column-vector y was passed when a 1d array was expected. Please change the shape of y to (n_samples, ), for example using ravel().\n",
      "  y = column_or_1d(y, warn=True)\n",
      "D:\\Dev\\ML\\workspace\\python_tutorials\\.venv\\Lib\\site-packages\\sklearn\\linear_model\\_logistic.py:469: ConvergenceWarning: lbfgs failed to converge (status=1):\n",
      "STOP: TOTAL NO. of ITERATIONS REACHED LIMIT.\n",
      "\n",
      "Increase the number of iterations (max_iter) or scale the data as shown in:\n",
      "    https://scikit-learn.org/stable/modules/preprocessing.html\n",
      "Please also refer to the documentation for alternative solver options:\n",
      "    https://scikit-learn.org/stable/modules/linear_model.html#logistic-regression\n",
      "  n_iter_i = _check_optimize_result(\n",
      "D:\\Dev\\ML\\workspace\\python_tutorials\\.venv\\Lib\\site-packages\\sklearn\\utils\\validation.py:1300: DataConversionWarning: A column-vector y was passed when a 1d array was expected. Please change the shape of y to (n_samples, ), for example using ravel().\n",
      "  y = column_or_1d(y, warn=True)\n"
     ]
    },
    {
     "name": "stdout",
     "output_type": "stream",
     "text": [
      "for this hyperparam solver_lbfgs_iter_3000_C_1 the training took \n",
      "00m30s\n"
     ]
    },
    {
     "name": "stderr",
     "output_type": "stream",
     "text": [
      "D:\\Dev\\ML\\workspace\\python_tutorials\\.venv\\Lib\\site-packages\\sklearn\\linear_model\\_logistic.py:469: ConvergenceWarning: lbfgs failed to converge (status=1):\n",
      "STOP: TOTAL NO. of ITERATIONS REACHED LIMIT.\n",
      "\n",
      "Increase the number of iterations (max_iter) or scale the data as shown in:\n",
      "    https://scikit-learn.org/stable/modules/preprocessing.html\n",
      "Please also refer to the documentation for alternative solver options:\n",
      "    https://scikit-learn.org/stable/modules/linear_model.html#logistic-regression\n",
      "  n_iter_i = _check_optimize_result(\n",
      "D:\\Dev\\ML\\workspace\\python_tutorials\\.venv\\Lib\\site-packages\\sklearn\\utils\\validation.py:1300: DataConversionWarning: A column-vector y was passed when a 1d array was expected. Please change the shape of y to (n_samples, ), for example using ravel().\n",
      "  y = column_or_1d(y, warn=True)\n"
     ]
    },
    {
     "name": "stdout",
     "output_type": "stream",
     "text": [
      "for this hyperparam solver_lbfgs_iter_3000_C_0.1 the training took \n",
      "00m26s\n"
     ]
    },
    {
     "name": "stderr",
     "output_type": "stream",
     "text": [
      "D:\\Dev\\ML\\workspace\\python_tutorials\\.venv\\Lib\\site-packages\\sklearn\\linear_model\\_logistic.py:469: ConvergenceWarning: lbfgs failed to converge (status=1):\n",
      "STOP: TOTAL NO. of ITERATIONS REACHED LIMIT.\n",
      "\n",
      "Increase the number of iterations (max_iter) or scale the data as shown in:\n",
      "    https://scikit-learn.org/stable/modules/preprocessing.html\n",
      "Please also refer to the documentation for alternative solver options:\n",
      "    https://scikit-learn.org/stable/modules/linear_model.html#logistic-regression\n",
      "  n_iter_i = _check_optimize_result(\n",
      "D:\\Dev\\ML\\workspace\\python_tutorials\\.venv\\Lib\\site-packages\\sklearn\\utils\\validation.py:1300: DataConversionWarning: A column-vector y was passed when a 1d array was expected. Please change the shape of y to (n_samples, ), for example using ravel().\n",
      "  y = column_or_1d(y, warn=True)\n"
     ]
    },
    {
     "name": "stdout",
     "output_type": "stream",
     "text": [
      "for this hyperparam solver_lbfgs_iter_3000_C_0.01 the training took \n",
      "00m26s\n"
     ]
    },
    {
     "name": "stderr",
     "output_type": "stream",
     "text": [
      "D:\\Dev\\ML\\workspace\\python_tutorials\\.venv\\Lib\\site-packages\\sklearn\\linear_model\\_logistic.py:469: ConvergenceWarning: lbfgs failed to converge (status=1):\n",
      "STOP: TOTAL NO. of ITERATIONS REACHED LIMIT.\n",
      "\n",
      "Increase the number of iterations (max_iter) or scale the data as shown in:\n",
      "    https://scikit-learn.org/stable/modules/preprocessing.html\n",
      "Please also refer to the documentation for alternative solver options:\n",
      "    https://scikit-learn.org/stable/modules/linear_model.html#logistic-regression\n",
      "  n_iter_i = _check_optimize_result(\n",
      "D:\\Dev\\ML\\workspace\\python_tutorials\\.venv\\Lib\\site-packages\\sklearn\\utils\\validation.py:1300: DataConversionWarning: A column-vector y was passed when a 1d array was expected. Please change the shape of y to (n_samples, ), for example using ravel().\n",
      "  y = column_or_1d(y, warn=True)\n"
     ]
    },
    {
     "name": "stdout",
     "output_type": "stream",
     "text": [
      "for this hyperparam solver_lbfgs_iter_3000_C_0.001 the training took \n",
      "00m26s\n"
     ]
    },
    {
     "name": "stderr",
     "output_type": "stream",
     "text": [
      "D:\\Dev\\ML\\workspace\\python_tutorials\\.venv\\Lib\\site-packages\\sklearn\\linear_model\\_logistic.py:469: ConvergenceWarning: lbfgs failed to converge (status=1):\n",
      "STOP: TOTAL NO. of ITERATIONS REACHED LIMIT.\n",
      "\n",
      "Increase the number of iterations (max_iter) or scale the data as shown in:\n",
      "    https://scikit-learn.org/stable/modules/preprocessing.html\n",
      "Please also refer to the documentation for alternative solver options:\n",
      "    https://scikit-learn.org/stable/modules/linear_model.html#logistic-regression\n",
      "  n_iter_i = _check_optimize_result(\n",
      "D:\\Dev\\ML\\workspace\\python_tutorials\\.venv\\Lib\\site-packages\\sklearn\\utils\\validation.py:1300: DataConversionWarning: A column-vector y was passed when a 1d array was expected. Please change the shape of y to (n_samples, ), for example using ravel().\n",
      "  y = column_or_1d(y, warn=True)\n"
     ]
    },
    {
     "name": "stdout",
     "output_type": "stream",
     "text": [
      "for this hyperparam solver_lbfgs_iter_3000_C_0.0001 the training took \n",
      "00m26s\n",
      "for this hyperparam solver_liblinear_iter_3000_C_1 the training took \n",
      "00m04s\n"
     ]
    },
    {
     "name": "stderr",
     "output_type": "stream",
     "text": [
      "D:\\Dev\\ML\\workspace\\python_tutorials\\.venv\\Lib\\site-packages\\sklearn\\utils\\validation.py:1300: DataConversionWarning: A column-vector y was passed when a 1d array was expected. Please change the shape of y to (n_samples, ), for example using ravel().\n",
      "  y = column_or_1d(y, warn=True)\n"
     ]
    },
    {
     "name": "stdout",
     "output_type": "stream",
     "text": [
      "for this hyperparam solver_liblinear_iter_3000_C_0.1 the training took \n",
      "00m04s\n"
     ]
    },
    {
     "name": "stderr",
     "output_type": "stream",
     "text": [
      "D:\\Dev\\ML\\workspace\\python_tutorials\\.venv\\Lib\\site-packages\\sklearn\\utils\\validation.py:1300: DataConversionWarning: A column-vector y was passed when a 1d array was expected. Please change the shape of y to (n_samples, ), for example using ravel().\n",
      "  y = column_or_1d(y, warn=True)\n"
     ]
    },
    {
     "name": "stdout",
     "output_type": "stream",
     "text": [
      "for this hyperparam solver_liblinear_iter_3000_C_0.01 the training took \n",
      "00m03s\n"
     ]
    },
    {
     "name": "stderr",
     "output_type": "stream",
     "text": [
      "D:\\Dev\\ML\\workspace\\python_tutorials\\.venv\\Lib\\site-packages\\sklearn\\utils\\validation.py:1300: DataConversionWarning: A column-vector y was passed when a 1d array was expected. Please change the shape of y to (n_samples, ), for example using ravel().\n",
      "  y = column_or_1d(y, warn=True)\n"
     ]
    },
    {
     "name": "stdout",
     "output_type": "stream",
     "text": [
      "for this hyperparam solver_liblinear_iter_3000_C_0.001 the training took \n",
      "00m02s\n"
     ]
    },
    {
     "name": "stderr",
     "output_type": "stream",
     "text": [
      "D:\\Dev\\ML\\workspace\\python_tutorials\\.venv\\Lib\\site-packages\\sklearn\\utils\\validation.py:1300: DataConversionWarning: A column-vector y was passed when a 1d array was expected. Please change the shape of y to (n_samples, ), for example using ravel().\n",
      "  y = column_or_1d(y, warn=True)\n"
     ]
    },
    {
     "name": "stdout",
     "output_type": "stream",
     "text": [
      "for this hyperparam solver_liblinear_iter_3000_C_0.0001 the training took \n",
      "00m02s\n"
     ]
    },
    {
     "name": "stderr",
     "output_type": "stream",
     "text": [
      "D:\\Dev\\ML\\workspace\\python_tutorials\\.venv\\Lib\\site-packages\\sklearn\\utils\\validation.py:1300: DataConversionWarning: A column-vector y was passed when a 1d array was expected. Please change the shape of y to (n_samples, ), for example using ravel().\n",
      "  y = column_or_1d(y, warn=True)\n"
     ]
    },
    {
     "name": "stdout",
     "output_type": "stream",
     "text": [
      "for this hyperparam solver_newton-cg_iter_3000_C_1 the training took \n",
      "00m18s\n"
     ]
    },
    {
     "name": "stderr",
     "output_type": "stream",
     "text": [
      "D:\\Dev\\ML\\workspace\\python_tutorials\\.venv\\Lib\\site-packages\\sklearn\\utils\\validation.py:1300: DataConversionWarning: A column-vector y was passed when a 1d array was expected. Please change the shape of y to (n_samples, ), for example using ravel().\n",
      "  y = column_or_1d(y, warn=True)\n"
     ]
    },
    {
     "name": "stdout",
     "output_type": "stream",
     "text": [
      "for this hyperparam solver_newton-cg_iter_3000_C_0.1 the training took \n",
      "00m17s\n"
     ]
    },
    {
     "name": "stderr",
     "output_type": "stream",
     "text": [
      "D:\\Dev\\ML\\workspace\\python_tutorials\\.venv\\Lib\\site-packages\\sklearn\\utils\\validation.py:1300: DataConversionWarning: A column-vector y was passed when a 1d array was expected. Please change the shape of y to (n_samples, ), for example using ravel().\n",
      "  y = column_or_1d(y, warn=True)\n"
     ]
    },
    {
     "name": "stdout",
     "output_type": "stream",
     "text": [
      "for this hyperparam solver_newton-cg_iter_3000_C_0.01 the training took \n",
      "00m11s\n"
     ]
    },
    {
     "name": "stderr",
     "output_type": "stream",
     "text": [
      "D:\\Dev\\ML\\workspace\\python_tutorials\\.venv\\Lib\\site-packages\\sklearn\\utils\\validation.py:1300: DataConversionWarning: A column-vector y was passed when a 1d array was expected. Please change the shape of y to (n_samples, ), for example using ravel().\n",
      "  y = column_or_1d(y, warn=True)\n"
     ]
    },
    {
     "name": "stdout",
     "output_type": "stream",
     "text": [
      "for this hyperparam solver_newton-cg_iter_3000_C_0.001 the training took \n",
      "00m05s\n"
     ]
    },
    {
     "name": "stderr",
     "output_type": "stream",
     "text": [
      "D:\\Dev\\ML\\workspace\\python_tutorials\\.venv\\Lib\\site-packages\\sklearn\\utils\\validation.py:1300: DataConversionWarning: A column-vector y was passed when a 1d array was expected. Please change the shape of y to (n_samples, ), for example using ravel().\n",
      "  y = column_or_1d(y, warn=True)\n"
     ]
    },
    {
     "name": "stdout",
     "output_type": "stream",
     "text": [
      "for this hyperparam solver_newton-cg_iter_3000_C_0.0001 the training took \n",
      "00m04s\n"
     ]
    },
    {
     "name": "stderr",
     "output_type": "stream",
     "text": [
      "D:\\Dev\\ML\\workspace\\python_tutorials\\.venv\\Lib\\site-packages\\sklearn\\utils\\validation.py:1300: DataConversionWarning: A column-vector y was passed when a 1d array was expected. Please change the shape of y to (n_samples, ), for example using ravel().\n",
      "  y = column_or_1d(y, warn=True)\n"
     ]
    },
    {
     "name": "stdout",
     "output_type": "stream",
     "text": [
      "for this hyperparam solver_newton-cholesky_iter_3000_C_1 the training took \n",
      "00m01s\n"
     ]
    },
    {
     "name": "stderr",
     "output_type": "stream",
     "text": [
      "D:\\Dev\\ML\\workspace\\python_tutorials\\.venv\\Lib\\site-packages\\sklearn\\utils\\validation.py:1300: DataConversionWarning: A column-vector y was passed when a 1d array was expected. Please change the shape of y to (n_samples, ), for example using ravel().\n",
      "  y = column_or_1d(y, warn=True)\n"
     ]
    },
    {
     "name": "stdout",
     "output_type": "stream",
     "text": [
      "for this hyperparam solver_newton-cholesky_iter_3000_C_0.1 the training took \n",
      "00m01s\n"
     ]
    },
    {
     "name": "stderr",
     "output_type": "stream",
     "text": [
      "D:\\Dev\\ML\\workspace\\python_tutorials\\.venv\\Lib\\site-packages\\sklearn\\utils\\validation.py:1300: DataConversionWarning: A column-vector y was passed when a 1d array was expected. Please change the shape of y to (n_samples, ), for example using ravel().\n",
      "  y = column_or_1d(y, warn=True)\n"
     ]
    },
    {
     "name": "stdout",
     "output_type": "stream",
     "text": [
      "for this hyperparam solver_newton-cholesky_iter_3000_C_0.01 the training took \n",
      "00m01s\n"
     ]
    },
    {
     "name": "stderr",
     "output_type": "stream",
     "text": [
      "D:\\Dev\\ML\\workspace\\python_tutorials\\.venv\\Lib\\site-packages\\sklearn\\utils\\validation.py:1300: DataConversionWarning: A column-vector y was passed when a 1d array was expected. Please change the shape of y to (n_samples, ), for example using ravel().\n",
      "  y = column_or_1d(y, warn=True)\n"
     ]
    },
    {
     "name": "stdout",
     "output_type": "stream",
     "text": [
      "for this hyperparam solver_newton-cholesky_iter_3000_C_0.001 the training took \n",
      "00m01s\n"
     ]
    },
    {
     "name": "stderr",
     "output_type": "stream",
     "text": [
      "D:\\Dev\\ML\\workspace\\python_tutorials\\.venv\\Lib\\site-packages\\sklearn\\utils\\validation.py:1300: DataConversionWarning: A column-vector y was passed when a 1d array was expected. Please change the shape of y to (n_samples, ), for example using ravel().\n",
      "  y = column_or_1d(y, warn=True)\n"
     ]
    },
    {
     "name": "stdout",
     "output_type": "stream",
     "text": [
      "for this hyperparam solver_newton-cholesky_iter_3000_C_0.0001 the training took \n",
      "00m01s\n"
     ]
    }
   ],
   "execution_count": 14
  },
  {
   "metadata": {
    "ExecuteTime": {
     "end_time": "2024-06-03T21:58:52.157017Z",
     "start_time": "2024-06-03T21:58:52.151446Z"
    }
   },
   "cell_type": "code",
   "source": "accuracy_dict",
   "id": "f709831d395b7177",
   "outputs": [
    {
     "data": {
      "text/plain": [
       "{'solver_lbfgs_iter_3000_C_1': 0.4615,\n",
       " 'solver_lbfgs_iter_3000_C_0.1': 0.5385,\n",
       " 'solver_lbfgs_iter_3000_C_0.01': 0.6154,\n",
       " 'solver_lbfgs_iter_3000_C_0.001': 0.6154,\n",
       " 'solver_lbfgs_iter_3000_C_0.0001': 0.5385,\n",
       " 'solver_liblinear_iter_3000_C_1': 0.6154,\n",
       " 'solver_liblinear_iter_3000_C_0.1': 0.6154,\n",
       " 'solver_liblinear_iter_3000_C_0.01': 0.6154,\n",
       " 'solver_liblinear_iter_3000_C_0.001': 0.6154,\n",
       " 'solver_liblinear_iter_3000_C_0.0001': 0.5385,\n",
       " 'solver_newton-cg_iter_3000_C_1': 0.6154,\n",
       " 'solver_newton-cg_iter_3000_C_0.1': 0.6154,\n",
       " 'solver_newton-cg_iter_3000_C_0.01': 0.6154,\n",
       " 'solver_newton-cg_iter_3000_C_0.001': 0.6154,\n",
       " 'solver_newton-cg_iter_3000_C_0.0001': 0.5385,\n",
       " 'solver_newton-cholesky_iter_3000_C_1': 0.6154,\n",
       " 'solver_newton-cholesky_iter_3000_C_0.1': 0.6154,\n",
       " 'solver_newton-cholesky_iter_3000_C_0.01': 0.6154,\n",
       " 'solver_newton-cholesky_iter_3000_C_0.001': 0.6154,\n",
       " 'solver_newton-cholesky_iter_3000_C_0.0001': 0.5385}"
      ]
     },
     "execution_count": 15,
     "metadata": {},
     "output_type": "execute_result"
    }
   ],
   "execution_count": 15
  },
  {
   "metadata": {
    "ExecuteTime": {
     "end_time": "2024-06-03T21:58:52.167599Z",
     "start_time": "2024-06-03T21:58:52.158026Z"
    }
   },
   "cell_type": "code",
   "source": [
    "max_accuracy=max(accuracy_dict.items(), key=operator.itemgetter(1))\n",
    "LR_best=LR_dict[max_accuracy[0]]"
   ],
   "id": "61474f3ec6e33d54",
   "outputs": [],
   "execution_count": 16
  },
  {
   "metadata": {
    "ExecuteTime": {
     "end_time": "2024-06-03T21:58:52.177971Z",
     "start_time": "2024-06-03T21:58:52.168609Z"
    }
   },
   "cell_type": "code",
   "source": "LR_best=LR_dict['solver_lbfgs_iter_3000_C_0.0001']\n",
   "id": "9e0144f4f84cb5b2",
   "outputs": [],
   "execution_count": 17
  },
  {
   "metadata": {
    "ExecuteTime": {
     "end_time": "2024-06-03T21:58:52.190041Z",
     "start_time": "2024-06-03T21:58:52.178980Z"
    }
   },
   "cell_type": "code",
   "source": "time_dict",
   "id": "930bf8b66131e1e2",
   "outputs": [
    {
     "data": {
      "text/plain": [
       "{'solver_lbfgs_iter_3000_C_1': '00m30s',\n",
       " 'solver_lbfgs_iter_3000_C_0.1': '00m26s',\n",
       " 'solver_lbfgs_iter_3000_C_0.01': '00m26s',\n",
       " 'solver_lbfgs_iter_3000_C_0.001': '00m26s',\n",
       " 'solver_lbfgs_iter_3000_C_0.0001': '00m26s',\n",
       " 'solver_liblinear_iter_3000_C_1': '00m04s',\n",
       " 'solver_liblinear_iter_3000_C_0.1': '00m04s',\n",
       " 'solver_liblinear_iter_3000_C_0.01': '00m03s',\n",
       " 'solver_liblinear_iter_3000_C_0.001': '00m02s',\n",
       " 'solver_liblinear_iter_3000_C_0.0001': '00m02s',\n",
       " 'solver_newton-cg_iter_3000_C_1': '00m18s',\n",
       " 'solver_newton-cg_iter_3000_C_0.1': '00m17s',\n",
       " 'solver_newton-cg_iter_3000_C_0.01': '00m11s',\n",
       " 'solver_newton-cg_iter_3000_C_0.001': '00m05s',\n",
       " 'solver_newton-cg_iter_3000_C_0.0001': '00m04s',\n",
       " 'solver_newton-cholesky_iter_3000_C_1': '00m01s',\n",
       " 'solver_newton-cholesky_iter_3000_C_0.1': '00m01s',\n",
       " 'solver_newton-cholesky_iter_3000_C_0.01': '00m01s',\n",
       " 'solver_newton-cholesky_iter_3000_C_0.001': '00m01s',\n",
       " 'solver_newton-cholesky_iter_3000_C_0.0001': '00m01s'}"
      ]
     },
     "execution_count": 18,
     "metadata": {},
     "output_type": "execute_result"
    }
   ],
   "execution_count": 18
  },
  {
   "metadata": {
    "ExecuteTime": {
     "end_time": "2024-06-03T21:58:52.201087Z",
     "start_time": "2024-06-03T21:58:52.191054Z"
    }
   },
   "cell_type": "code",
   "source": "max_accuracy",
   "id": "22242ec5d140149",
   "outputs": [
    {
     "data": {
      "text/plain": [
       "('solver_lbfgs_iter_3000_C_0.01', 0.6154)"
      ]
     },
     "execution_count": 19,
     "metadata": {},
     "output_type": "execute_result"
    }
   ],
   "execution_count": 19
  },
  {
   "metadata": {
    "ExecuteTime": {
     "end_time": "2024-06-03T21:58:52.211824Z",
     "start_time": "2024-06-03T21:58:52.202098Z"
    }
   },
   "cell_type": "code",
   "source": "yhat",
   "id": "3ed3eab92f32fdf7",
   "outputs": [
    {
     "data": {
      "text/plain": [
       "array([2, 2, 1, 1, 1, 2, 2, 2, 2, 1, 2, 2, 2])"
      ]
     },
     "execution_count": 20,
     "metadata": {},
     "output_type": "execute_result"
    }
   ],
   "execution_count": 20
  },
  {
   "metadata": {
    "ExecuteTime": {
     "end_time": "2024-06-03T21:58:52.228154Z",
     "start_time": "2024-06-03T21:58:52.212832Z"
    }
   },
   "cell_type": "code",
   "source": [
    "yhat = LR_best.predict(attribut_test)\n",
    "np.round(accuracy_score(result_test,yhat),4)"
   ],
   "id": "b5b2bb58e4b984fd",
   "outputs": [
    {
     "data": {
      "text/plain": [
       "0.5385"
      ]
     },
     "execution_count": 21,
     "metadata": {},
     "output_type": "execute_result"
    }
   ],
   "execution_count": 21
  },
  {
   "metadata": {
    "ExecuteTime": {
     "end_time": "2024-06-03T21:58:52.492307Z",
     "start_time": "2024-06-03T21:58:52.229166Z"
    }
   },
   "cell_type": "code",
   "source": [
    "from sklearn.metrics import confusion_matrix, ConfusionMatrixDisplay\n",
    "cm = confusion_matrix(result_test, yhat)\n",
    "disp = ConfusionMatrixDisplay(confusion_matrix=cm,\n",
    "                              display_labels=[-1, 0, 1],)\n",
    "disp.plot(cmap=\"Blues\")"
   ],
   "id": "22c5519cd14097fe",
   "outputs": [
    {
     "data": {
      "text/plain": [
       "<sklearn.metrics._plot.confusion_matrix.ConfusionMatrixDisplay at 0x1c160ba6a50>"
      ]
     },
     "execution_count": 22,
     "metadata": {},
     "output_type": "execute_result"
    },
    {
     "data": {
      "text/plain": [
       "<Figure size 640x480 with 2 Axes>"
      ],
      "image/png": "[encoded data removed]"
     },
     "metadata": {},
     "output_type": "display_data"
    }
   ],
   "execution_count": 22
  },
  {
   "metadata": {
    "ExecuteTime": {
     "end_time": "2024-06-03T21:58:53.036Z",
     "start_time": "2024-06-03T21:58:52.493315Z"
    }
   },
   "cell_type": "code",
   "source": [
    "df_away_test=pd.read_csv('./data/Test_Data/test_away_team_statistics_df.csv')\n",
    "df_home_test=pd.read_csv('./data/Test_Data/test_home_team_statistics_df.csv')\n",
    "df_home_test.columns = [('HOME_' +str(col) ) if col != 'ID' else 'ID' for col in df_home_test.columns ]\n",
    "df_joined_test=df_away_test.join(df_home_test.set_index('ID'), on='ID')\n",
    "df_joined_test=df_joined_test.fillna(0.0)\n",
    "df_final_test=df_joined_test.sort_values(by=['ID'])"
   ],
   "id": "75aafde0206d78fe",
   "outputs": [],
   "execution_count": 23
  },
  {
   "metadata": {
    "ExecuteTime": {
     "end_time": "2024-06-03T21:58:53.212713Z",
     "start_time": "2024-06-03T21:58:53.177316Z"
    }
   },
   "cell_type": "code",
   "source": "df_final_test",
   "id": "7638a3e0d2c633b1",
   "outputs": [
    {
     "data": {
      "text/plain": [
       "          ID  TEAM_SHOTS_TOTAL_season_sum  TEAM_SHOTS_INSIDEBOX_season_sum  \\\n",
       "0      12303                          6.0                              6.0   \n",
       "1      12304                          4.0                              4.0   \n",
       "2      12305                          1.0                              1.0   \n",
       "3      12306                          6.0                              9.0   \n",
       "4      12307                          5.0                              5.0   \n",
       "...      ...                          ...                              ...   \n",
       "25363  37666                          8.0                              8.0   \n",
       "25364  37667                          7.0                              4.0   \n",
       "25365  37668                          3.0                              4.0   \n",
       "25366  37669                          5.0                              5.0   \n",
       "25367  37670                          1.0                              2.0   \n",
       "\n",
       "       TEAM_SHOTS_OFF_TARGET_season_sum  TEAM_SHOTS_ON_TARGET_season_sum  \\\n",
       "0                                   5.0                              7.0   \n",
       "1                                   4.0                              4.0   \n",
       "2                                   2.0                              2.0   \n",
       "3                                   6.0                              9.0   \n",
       "4                                   2.0                              4.0   \n",
       "...                                 ...                              ...   \n",
       "25363                               6.0                             10.0   \n",
       "25364                               4.0                              9.0   \n",
       "25365                               2.0                              3.0   \n",
       "25366                               5.0                              3.0   \n",
       "25367                               0.0                              1.0   \n",
       "\n",
       "       TEAM_SHOTS_OUTSIDEBOX_season_sum  TEAM_PASSES_season_sum  \\\n",
       "0                                   7.0                     4.0   \n",
       "1                                   3.0                     8.0   \n",
       "2                                   2.0                     6.0   \n",
       "3                                   4.0                     4.0   \n",
       "4                                   4.0                     1.0   \n",
       "...                                 ...                     ...   \n",
       "25363                               7.0                     8.0   \n",
       "25364                               8.0                     7.0   \n",
       "25365                               1.0                     1.0   \n",
       "25366                               4.0                     3.0   \n",
       "25367                               1.0                     6.0   \n",
       "\n",
       "       TEAM_SUCCESSFUL_PASSES_season_sum  TEAM_SAVES_season_sum  \\\n",
       "0                                    3.0                    6.0   \n",
       "1                                    8.0                    4.0   \n",
       "2                                    5.0                    4.0   \n",
       "3                                    4.0                    1.0   \n",
       "4                                    2.0                    3.0   \n",
       "...                                  ...                    ...   \n",
       "25363                                8.0                   10.0   \n",
       "25364                                6.0                    3.0   \n",
       "25365                                1.0                    3.0   \n",
       "25366                                3.0                    3.0   \n",
       "25367                                6.0                    4.0   \n",
       "\n",
       "       TEAM_CORNERS_season_sum  ...  HOME_TEAM_YELLOWCARDS_5_last_match_std  \\\n",
       "0                          3.0  ...                                     2.0   \n",
       "1                          7.0  ...                                     9.0   \n",
       "2                          2.0  ...                                     6.0   \n",
       "3                         10.0  ...                                     4.0   \n",
       "4                          8.0  ...                                     5.0   \n",
       "...                        ...  ...                                     ...   \n",
       "25363                      3.0  ...                                     2.0   \n",
       "25364                      9.0  ...                                     3.0   \n",
       "25365                      4.0  ...                                     7.0   \n",
       "25366                      5.0  ...                                     5.0   \n",
       "25367                      5.0  ...                                     3.0   \n",
       "\n",
       "       HOME_TEAM_REDCARDS_5_last_match_std  \\\n",
       "0                                      9.0   \n",
       "1                                     10.0   \n",
       "2                                      8.0   \n",
       "3                                      5.0   \n",
       "4                                      0.0   \n",
       "...                                    ...   \n",
       "25363                                  6.0   \n",
       "25364                                  0.0   \n",
       "25365                                  0.0   \n",
       "25366                                  0.0   \n",
       "25367                                  0.0   \n",
       "\n",
       "       HOME_TEAM_OFFSIDES_5_last_match_std  \\\n",
       "0                                      0.0   \n",
       "1                                      3.0   \n",
       "2                                      2.0   \n",
       "3                                      2.0   \n",
       "4                                      0.0   \n",
       "...                                    ...   \n",
       "25363                                  2.0   \n",
       "25364                                  2.0   \n",
       "25365                                  8.0   \n",
       "25366                                  4.0   \n",
       "25367                                  9.0   \n",
       "\n",
       "       HOME_TEAM_ATTACKS_5_last_match_std  \\\n",
       "0                                    10.0   \n",
       "1                                     1.0   \n",
       "2                                     9.0   \n",
       "3                                     3.0   \n",
       "4                                     7.0   \n",
       "...                                   ...   \n",
       "25363                                 1.0   \n",
       "25364                                 8.0   \n",
       "25365                                 4.0   \n",
       "25366                                 7.0   \n",
       "25367                                 1.0   \n",
       "\n",
       "       HOME_TEAM_PENALTIES_5_last_match_std  \\\n",
       "0                                       0.0   \n",
       "1                                       8.0   \n",
       "2                                       0.0   \n",
       "3                                       8.0   \n",
       "4                                       5.0   \n",
       "...                                     ...   \n",
       "25363                                   5.0   \n",
       "25364                                   0.0   \n",
       "25365                                   0.0   \n",
       "25366                                   8.0   \n",
       "25367                                   0.0   \n",
       "\n",
       "       HOME_TEAM_SUBSTITUTIONS_5_last_match_std  \\\n",
       "0                                           4.0   \n",
       "1                                           3.0   \n",
       "2                                           6.0   \n",
       "3                                           0.0   \n",
       "4                                           0.0   \n",
       "...                                         ...   \n",
       "25363                                       6.0   \n",
       "25364                                       0.0   \n",
       "25365                                       7.0   \n",
       "25366                                       5.0   \n",
       "25367                                       2.0   \n",
       "\n",
       "       HOME_TEAM_BALL_SAFE_5_last_match_std  \\\n",
       "0                                       4.0   \n",
       "1                                       8.0   \n",
       "2                                       0.0   \n",
       "3                                       2.0   \n",
       "4                                       1.0   \n",
       "...                                     ...   \n",
       "25363                                   6.0   \n",
       "25364                                   4.0   \n",
       "25365                                   0.0   \n",
       "25366                                   6.0   \n",
       "25367                                   7.0   \n",
       "\n",
       "       HOME_TEAM_DANGEROUS_ATTACKS_5_last_match_std  \\\n",
       "0                                               6.0   \n",
       "1                                               1.0   \n",
       "2                                               9.0   \n",
       "3                                               2.0   \n",
       "4                                               6.0   \n",
       "...                                             ...   \n",
       "25363                                           5.0   \n",
       "25364                                           8.0   \n",
       "25365                                           2.0   \n",
       "25366                                           4.0   \n",
       "25367                                           1.0   \n",
       "\n",
       "       HOME_TEAM_INJURIES_5_last_match_std  HOME_TEAM_GOALS_5_last_match_std  \n",
       "0                                      2.0                               3.0  \n",
       "1                                      0.0                               2.0  \n",
       "2                                      0.0                               0.0  \n",
       "3                                      2.0                               3.0  \n",
       "4                                      7.0                               1.0  \n",
       "...                                    ...                               ...  \n",
       "25363                                  2.0                               0.0  \n",
       "25364                                 10.0                              10.0  \n",
       "25365                                  0.0                               3.0  \n",
       "25366                                  5.0                               4.0  \n",
       "25367                                  0.0                               1.0  \n",
       "\n",
       "[25368 rows x 281 columns]"
      ],
      "text/html": [
       "<div>\n",
       "<style scoped>\n",
       "    .dataframe tbody tr th:only-of-type {\n",
       "        vertical-align: middle;\n",
       "    }\n",
       "\n",
       "    .dataframe tbody tr th {\n",
       "        vertical-align: top;\n",
       "    }\n",
       "\n",
       "    .dataframe thead th {\n",
       "        text-align: right;\n",
       "    }\n",
       "</style>\n",
       "<table border=\"1\" class=\"dataframe\">\n",
       "  <thead>\n",
       "    <tr style=\"text-align: right;\">\n",
       "      <th></th>\n",
       "      <th>ID</th>\n",
       "      <th>TEAM_SHOTS_TOTAL_season_sum</th>\n",
       "      <th>TEAM_SHOTS_INSIDEBOX_season_sum</th>\n",
       "      <th>TEAM_SHOTS_OFF_TARGET_season_sum</th>\n",
       "      <th>TEAM_SHOTS_ON_TARGET_season_sum</th>\n",
       "      <th>TEAM_SHOTS_OUTSIDEBOX_season_sum</th>\n",
       "      <th>TEAM_PASSES_season_sum</th>\n",
       "      <th>TEAM_SUCCESSFUL_PASSES_season_sum</th>\n",
       "      <th>TEAM_SAVES_season_sum</th>\n",
       "      <th>TEAM_CORNERS_season_sum</th>\n",
       "      <th>...</th>\n",
       "      <th>HOME_TEAM_YELLOWCARDS_5_last_match_std</th>\n",
       "      <th>HOME_TEAM_REDCARDS_5_last_match_std</th>\n",
       "      <th>HOME_TEAM_OFFSIDES_5_last_match_std</th>\n",
       "      <th>HOME_TEAM_ATTACKS_5_last_match_std</th>\n",
       "      <th>HOME_TEAM_PENALTIES_5_last_match_std</th>\n",
       "      <th>HOME_TEAM_SUBSTITUTIONS_5_last_match_std</th>\n",
       "      <th>HOME_TEAM_BALL_SAFE_5_last_match_std</th>\n",
       "      <th>HOME_TEAM_DANGEROUS_ATTACKS_5_last_match_std</th>\n",
       "      <th>HOME_TEAM_INJURIES_5_last_match_std</th>\n",
       "      <th>HOME_TEAM_GOALS_5_last_match_std</th>\n",
       "    </tr>\n",
       "  </thead>\n",
       "  <tbody>\n",
       "    <tr>\n",
       "      <th>0</th>\n",
       "      <td>12303</td>\n",
       "      <td>6.0</td>\n",
       "      <td>6.0</td>\n",
       "      <td>5.0</td>\n",
       "      <td>7.0</td>\n",
       "      <td>7.0</td>\n",
       "      <td>4.0</td>\n",
       "      <td>3.0</td>\n",
       "      <td>6.0</td>\n",
       "      <td>3.0</td>\n",
       "      <td>...</td>\n",
       "      <td>2.0</td>\n",
       "      <td>9.0</td>\n",
       "      <td>0.0</td>\n",
       "      <td>10.0</td>\n",
       "      <td>0.0</td>\n",
       "      <td>4.0</td>\n",
       "      <td>4.0</td>\n",
       "      <td>6.0</td>\n",
       "      <td>2.0</td>\n",
       "      <td>3.0</td>\n",
       "    </tr>\n",
       "    <tr>\n",
       "      <th>1</th>\n",
       "      <td>12304</td>\n",
       "      <td>4.0</td>\n",
       "      <td>4.0</td>\n",
       "      <td>4.0</td>\n",
       "      <td>4.0</td>\n",
       "      <td>3.0</td>\n",
       "      <td>8.0</td>\n",
       "      <td>8.0</td>\n",
       "      <td>4.0</td>\n",
       "      <td>7.0</td>\n",
       "      <td>...</td>\n",
       "      <td>9.0</td>\n",
       "      <td>10.0</td>\n",
       "      <td>3.0</td>\n",
       "      <td>1.0</td>\n",
       "      <td>8.0</td>\n",
       "      <td>3.0</td>\n",
       "      <td>8.0</td>\n",
       "      <td>1.0</td>\n",
       "      <td>0.0</td>\n",
       "      <td>2.0</td>\n",
       "    </tr>\n",
       "    <tr>\n",
       "      <th>2</th>\n",
       "      <td>12305</td>\n",
       "      <td>1.0</td>\n",
       "      <td>1.0</td>\n",
       "      <td>2.0</td>\n",
       "      <td>2.0</td>\n",
       "      <td>2.0</td>\n",
       "      <td>6.0</td>\n",
       "      <td>5.0</td>\n",
       "      <td>4.0</td>\n",
       "      <td>2.0</td>\n",
       "      <td>...</td>\n",
       "      <td>6.0</td>\n",
       "      <td>8.0</td>\n",
       "      <td>2.0</td>\n",
       "      <td>9.0</td>\n",
       "      <td>0.0</td>\n",
       "      <td>6.0</td>\n",
       "      <td>0.0</td>\n",
       "      <td>9.0</td>\n",
       "      <td>0.0</td>\n",
       "      <td>0.0</td>\n",
       "    </tr>\n",
       "    <tr>\n",
       "      <th>3</th>\n",
       "      <td>12306</td>\n",
       "      <td>6.0</td>\n",
       "      <td>9.0</td>\n",
       "      <td>6.0</td>\n",
       "      <td>9.0</td>\n",
       "      <td>4.0</td>\n",
       "      <td>4.0</td>\n",
       "      <td>4.0</td>\n",
       "      <td>1.0</td>\n",
       "      <td>10.0</td>\n",
       "      <td>...</td>\n",
       "      <td>4.0</td>\n",
       "      <td>5.0</td>\n",
       "      <td>2.0</td>\n",
       "      <td>3.0</td>\n",
       "      <td>8.0</td>\n",
       "      <td>0.0</td>\n",
       "      <td>2.0</td>\n",
       "      <td>2.0</td>\n",
       "      <td>2.0</td>\n",
       "      <td>3.0</td>\n",
       "    </tr>\n",
       "    <tr>\n",
       "      <th>4</th>\n",
       "      <td>12307</td>\n",
       "      <td>5.0</td>\n",
       "      <td>5.0</td>\n",
       "      <td>2.0</td>\n",
       "      <td>4.0</td>\n",
       "      <td>4.0</td>\n",
       "      <td>1.0</td>\n",
       "      <td>2.0</td>\n",
       "      <td>3.0</td>\n",
       "      <td>8.0</td>\n",
       "      <td>...</td>\n",
       "      <td>5.0</td>\n",
       "      <td>0.0</td>\n",
       "      <td>0.0</td>\n",
       "      <td>7.0</td>\n",
       "      <td>5.0</td>\n",
       "      <td>0.0</td>\n",
       "      <td>1.0</td>\n",
       "      <td>6.0</td>\n",
       "      <td>7.0</td>\n",
       "      <td>1.0</td>\n",
       "    </tr>\n",
       "    <tr>\n",
       "      <th>...</th>\n",
       "      <td>...</td>\n",
       "      <td>...</td>\n",
       "      <td>...</td>\n",
       "      <td>...</td>\n",
       "      <td>...</td>\n",
       "      <td>...</td>\n",
       "      <td>...</td>\n",
       "      <td>...</td>\n",
       "      <td>...</td>\n",
       "      <td>...</td>\n",
       "      <td>...</td>\n",
       "      <td>...</td>\n",
       "      <td>...</td>\n",
       "      <td>...</td>\n",
       "      <td>...</td>\n",
       "      <td>...</td>\n",
       "      <td>...</td>\n",
       "      <td>...</td>\n",
       "      <td>...</td>\n",
       "      <td>...</td>\n",
       "      <td>...</td>\n",
       "    </tr>\n",
       "    <tr>\n",
       "      <th>25363</th>\n",
       "      <td>37666</td>\n",
       "      <td>8.0</td>\n",
       "      <td>8.0</td>\n",
       "      <td>6.0</td>\n",
       "      <td>10.0</td>\n",
       "      <td>7.0</td>\n",
       "      <td>8.0</td>\n",
       "      <td>8.0</td>\n",
       "      <td>10.0</td>\n",
       "      <td>3.0</td>\n",
       "      <td>...</td>\n",
       "      <td>2.0</td>\n",
       "      <td>6.0</td>\n",
       "      <td>2.0</td>\n",
       "      <td>1.0</td>\n",
       "      <td>5.0</td>\n",
       "      <td>6.0</td>\n",
       "      <td>6.0</td>\n",
       "      <td>5.0</td>\n",
       "      <td>2.0</td>\n",
       "      <td>0.0</td>\n",
       "    </tr>\n",
       "    <tr>\n",
       "      <th>25364</th>\n",
       "      <td>37667</td>\n",
       "      <td>7.0</td>\n",
       "      <td>4.0</td>\n",
       "      <td>4.0</td>\n",
       "      <td>9.0</td>\n",
       "      <td>8.0</td>\n",
       "      <td>7.0</td>\n",
       "      <td>6.0</td>\n",
       "      <td>3.0</td>\n",
       "      <td>9.0</td>\n",
       "      <td>...</td>\n",
       "      <td>3.0</td>\n",
       "      <td>0.0</td>\n",
       "      <td>2.0</td>\n",
       "      <td>8.0</td>\n",
       "      <td>0.0</td>\n",
       "      <td>0.0</td>\n",
       "      <td>4.0</td>\n",
       "      <td>8.0</td>\n",
       "      <td>10.0</td>\n",
       "      <td>10.0</td>\n",
       "    </tr>\n",
       "    <tr>\n",
       "      <th>25365</th>\n",
       "      <td>37668</td>\n",
       "      <td>3.0</td>\n",
       "      <td>4.0</td>\n",
       "      <td>2.0</td>\n",
       "      <td>3.0</td>\n",
       "      <td>1.0</td>\n",
       "      <td>1.0</td>\n",
       "      <td>1.0</td>\n",
       "      <td>3.0</td>\n",
       "      <td>4.0</td>\n",
       "      <td>...</td>\n",
       "      <td>7.0</td>\n",
       "      <td>0.0</td>\n",
       "      <td>8.0</td>\n",
       "      <td>4.0</td>\n",
       "      <td>0.0</td>\n",
       "      <td>7.0</td>\n",
       "      <td>0.0</td>\n",
       "      <td>2.0</td>\n",
       "      <td>0.0</td>\n",
       "      <td>3.0</td>\n",
       "    </tr>\n",
       "    <tr>\n",
       "      <th>25366</th>\n",
       "      <td>37669</td>\n",
       "      <td>5.0</td>\n",
       "      <td>5.0</td>\n",
       "      <td>5.0</td>\n",
       "      <td>3.0</td>\n",
       "      <td>4.0</td>\n",
       "      <td>3.0</td>\n",
       "      <td>3.0</td>\n",
       "      <td>3.0</td>\n",
       "      <td>5.0</td>\n",
       "      <td>...</td>\n",
       "      <td>5.0</td>\n",
       "      <td>0.0</td>\n",
       "      <td>4.0</td>\n",
       "      <td>7.0</td>\n",
       "      <td>8.0</td>\n",
       "      <td>5.0</td>\n",
       "      <td>6.0</td>\n",
       "      <td>4.0</td>\n",
       "      <td>5.0</td>\n",
       "      <td>4.0</td>\n",
       "    </tr>\n",
       "    <tr>\n",
       "      <th>25367</th>\n",
       "      <td>37670</td>\n",
       "      <td>1.0</td>\n",
       "      <td>2.0</td>\n",
       "      <td>0.0</td>\n",
       "      <td>1.0</td>\n",
       "      <td>1.0</td>\n",
       "      <td>6.0</td>\n",
       "      <td>6.0</td>\n",
       "      <td>4.0</td>\n",
       "      <td>5.0</td>\n",
       "      <td>...</td>\n",
       "      <td>3.0</td>\n",
       "      <td>0.0</td>\n",
       "      <td>9.0</td>\n",
       "      <td>1.0</td>\n",
       "      <td>0.0</td>\n",
       "      <td>2.0</td>\n",
       "      <td>7.0</td>\n",
       "      <td>1.0</td>\n",
       "      <td>0.0</td>\n",
       "      <td>1.0</td>\n",
       "    </tr>\n",
       "  </tbody>\n",
       "</table>\n",
       "<p>25368 rows × 281 columns</p>\n",
       "</div>"
      ]
     },
     "execution_count": 25,
     "metadata": {},
     "output_type": "execute_result"
    }
   ],
   "execution_count": 25
  },
  {
   "metadata": {
    "ExecuteTime": {
     "end_time": "2024-06-03T21:58:53.263651Z",
     "start_time": "2024-06-03T21:58:53.213725Z"
    }
   },
   "cell_type": "code",
   "source": [
    "yhat_test = LR_best.predict(df_final_test)\n",
    "y_pred_test=pd.DataFrame(yhat_test)\n",
    "y_pred_test.columns=['prediction']"
   ],
   "id": "84284b9a293027ee",
   "outputs": [],
   "execution_count": 26
  },
  {
   "metadata": {
    "ExecuteTime": {
     "end_time": "2024-06-03T21:58:53.282458Z",
     "start_time": "2024-06-03T21:58:53.265662Z"
    }
   },
   "cell_type": "code",
   "source": [
    "y_pred_test.loc[y_pred_test['prediction'] == 1, 'HOME_WINS'] = 1\n",
    "y_pred_test.loc[y_pred_test['prediction'] == 0 , 'DRAW'] = 1\n",
    "\n",
    "y_pred_test.loc[y_pred_test['prediction'] == -1 , 'AWAY_WINS'] = 1\n",
    "\n",
    "y_pred_test=y_pred_test.fillna(0)\n",
    "y_pred_test['HOME_WINS'] = y_pred_test['HOME_WINS'].astype('int')\n",
    "y_pred_test['DRAW'] = y_pred_test['DRAW'].astype('int')\n",
    "y_pred_test['AWAY_WINS'] = y_pred_test['AWAY_WINS'].astype('int')\n",
    "y_pred_test=y_pred_test.drop(['prediction'], axis=1)"
   ],
   "id": "795ff130e1f2494f",
   "outputs": [],
   "execution_count": 27
  },
  {
   "metadata": {
    "ExecuteTime": {
     "end_time": "2024-06-03T21:58:53.292640Z",
     "start_time": "2024-06-03T21:58:53.283469Z"
    }
   },
   "cell_type": "code",
   "source": "y_pred_test",
   "id": "c5701de07f6d41f4",
   "outputs": [
    {
     "data": {
      "text/plain": [
       "       HOME_WINS  DRAW  AWAY_WINS\n",
       "0              0     0          0\n",
       "1              1     0          0\n",
       "2              0     0          0\n",
       "3              0     0          0\n",
       "4              1     0          0\n",
       "...          ...   ...        ...\n",
       "25363          1     0          0\n",
       "25364          0     0          0\n",
       "25365          0     0          0\n",
       "25366          0     0          0\n",
       "25367          0     0          0\n",
       "\n",
       "[25368 rows x 3 columns]"
      ],
      "text/html": [
       "<div>\n",
       "<style scoped>\n",
       "    .dataframe tbody tr th:only-of-type {\n",
       "        vertical-align: middle;\n",
       "    }\n",
       "\n",
       "    .dataframe tbody tr th {\n",
       "        vertical-align: top;\n",
       "    }\n",
       "\n",
       "    .dataframe thead th {\n",
       "        text-align: right;\n",
       "    }\n",
       "</style>\n",
       "<table border=\"1\" class=\"dataframe\">\n",
       "  <thead>\n",
       "    <tr style=\"text-align: right;\">\n",
       "      <th></th>\n",
       "      <th>HOME_WINS</th>\n",
       "      <th>DRAW</th>\n",
       "      <th>AWAY_WINS</th>\n",
       "    </tr>\n",
       "  </thead>\n",
       "  <tbody>\n",
       "    <tr>\n",
       "      <th>0</th>\n",
       "      <td>0</td>\n",
       "      <td>0</td>\n",
       "      <td>0</td>\n",
       "    </tr>\n",
       "    <tr>\n",
       "      <th>1</th>\n",
       "      <td>1</td>\n",
       "      <td>0</td>\n",
       "      <td>0</td>\n",
       "    </tr>\n",
       "    <tr>\n",
       "      <th>2</th>\n",
       "      <td>0</td>\n",
       "      <td>0</td>\n",
       "      <td>0</td>\n",
       "    </tr>\n",
       "    <tr>\n",
       "      <th>3</th>\n",
       "      <td>0</td>\n",
       "      <td>0</td>\n",
       "      <td>0</td>\n",
       "    </tr>\n",
       "    <tr>\n",
       "      <th>4</th>\n",
       "      <td>1</td>\n",
       "      <td>0</td>\n",
       "      <td>0</td>\n",
       "    </tr>\n",
       "    <tr>\n",
       "      <th>...</th>\n",
       "      <td>...</td>\n",
       "      <td>...</td>\n",
       "      <td>...</td>\n",
       "    </tr>\n",
       "    <tr>\n",
       "      <th>25363</th>\n",
       "      <td>1</td>\n",
       "      <td>0</td>\n",
       "      <td>0</td>\n",
       "    </tr>\n",
       "    <tr>\n",
       "      <th>25364</th>\n",
       "      <td>0</td>\n",
       "      <td>0</td>\n",
       "      <td>0</td>\n",
       "    </tr>\n",
       "    <tr>\n",
       "      <th>25365</th>\n",
       "      <td>0</td>\n",
       "      <td>0</td>\n",
       "      <td>0</td>\n",
       "    </tr>\n",
       "    <tr>\n",
       "      <th>25366</th>\n",
       "      <td>0</td>\n",
       "      <td>0</td>\n",
       "      <td>0</td>\n",
       "    </tr>\n",
       "    <tr>\n",
       "      <th>25367</th>\n",
       "      <td>0</td>\n",
       "      <td>0</td>\n",
       "      <td>0</td>\n",
       "    </tr>\n",
       "  </tbody>\n",
       "</table>\n",
       "<p>25368 rows × 3 columns</p>\n",
       "</div>"
      ]
     },
     "execution_count": 28,
     "metadata": {},
     "output_type": "execute_result"
    }
   ],
   "execution_count": 28
  },
  {
   "metadata": {
    "ExecuteTime": {
     "end_time": "2024-06-03T21:58:53.303411Z",
     "start_time": "2024-06-03T21:58:53.293653Z"
    }
   },
   "cell_type": "code",
   "source": "test_prediction=pd.concat([df_final_test['ID'],y_pred_test], axis=1)",
   "id": "a3b356c57da6188c",
   "outputs": [],
   "execution_count": 29
  },
  {
   "metadata": {
    "ExecuteTime": {
     "end_time": "2024-06-03T21:58:53.436967Z",
     "start_time": "2024-06-03T21:58:53.304421Z"
    }
   },
   "cell_type": "code",
   "source": "test_prediction.to_csv('./submission/logistic_benchmark_submission.csv', index=False)",
   "id": "b819e4fbc6750972",
   "outputs": [],
   "execution_count": 30
  },
  {
   "metadata": {
    "ExecuteTime": {
     "end_time": "2024-06-03T21:58:53.440931Z",
     "start_time": "2024-06-03T21:58:53.437974Z"
    }
   },
   "cell_type": "code",
   "source": "",
   "id": "3d0e0700b4463703",
   "outputs": [],
   "execution_count": 30
  }
 ],
 "metadata": {
  "kernelspec": {
   "display_name": "Python 3",
   "language": "python",
   "name": "python3"
  },
  "language_info": {
   "codemirror_mode": {
    "name": "ipython",
    "version": 2
   },
   "file_extension": ".py",
   "mimetype": "text/x-python",
   "name": "python",
   "nbconvert_exporter": "python",
   "pygments_lexer": "ipython2",
   "version": "2.7.6"
  }
 },
 "nbformat": 4,
 "nbformat_minor": 5
}
